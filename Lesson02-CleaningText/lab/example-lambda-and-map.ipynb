{
 "cells": [
  {
   "cell_type": "markdown",
   "metadata": {},
   "source": [
    "### Defining a Lambda Function\n",
    "\n",
    "A lambda function is a small anonymous function.\n",
    "\n",
    "A lambda function can take any number of arguments, but can only have one express\n",
    "\n",
    "Syntax:\n",
    "lambda arguments : expression\n",
    "\n",
    "The example below takes in one argument, and performs an operation on it"
   ]
  },
  {
   "cell_type": "code",
   "execution_count": 5,
   "metadata": {},
   "outputs": [],
   "source": [
    "add10 = lambda argument1 : argument1 + 10"
   ]
  },
  {
   "cell_type": "markdown",
   "metadata": {},
   "source": [
    "To use the function and pass in , say 25, we write:"
   ]
  },
  {
   "cell_type": "code",
   "execution_count": 8,
   "metadata": {},
   "outputs": [
    {
     "data": {
      "text/plain": [
       "35"
      ]
     },
     "execution_count": 8,
     "metadata": {},
     "output_type": "execute_result"
    }
   ],
   "source": [
    "add10(25)"
   ]
  },
  {
   "cell_type": "code",
   "execution_count": null,
   "metadata": {},
   "outputs": [],
   "source": []
  },
  {
   "cell_type": "markdown",
   "metadata": {},
   "source": [
    "### Introducing map() function\n",
    "If we have a sequence of numbers, and wish to apply the same operations using lambda, we can use the map function"
   ]
  },
  {
   "cell_type": "markdown",
   "metadata": {},
   "source": [
    "The map(unction applies a given function to each item of an iterable (list, tuple etc.) and returns a list of the results.\n",
    "\n",
    "Syntax:\n",
    "map(function, iterable)"
   ]
  },
  {
   "cell_type": "code",
   "execution_count": 15,
   "metadata": {},
   "outputs": [
    {
     "name": "stdout",
     "output_type": "stream",
     "text": [
      "[1, 2, 3, 4, 5]\n"
     ]
    }
   ],
   "source": [
    "numbers = [ 1, 2, 3, 4, 5]\n",
    "\n",
    "print(numbers)\n"
   ]
  },
  {
   "cell_type": "code",
   "execution_count": 18,
   "metadata": {},
   "outputs": [],
   "source": [
    "results = map(add10, numbers)\n",
    "\n",
    "# result is a map object. We need to convert into a list\n",
    "new_numbers = list(results)"
   ]
  },
  {
   "cell_type": "code",
   "execution_count": 19,
   "metadata": {},
   "outputs": [
    {
     "name": "stdout",
     "output_type": "stream",
     "text": [
      "[11, 12, 13, 14, 15]\n"
     ]
    }
   ],
   "source": [
    "print (new_numbers)"
   ]
  },
  {
   "cell_type": "markdown",
   "metadata": {},
   "source": [
    "### Application to NLP Processing Task (1)\n"
   ]
  },
  {
   "cell_type": "markdown",
   "metadata": {},
   "source": [
    "Suppose we have extracted data from a webpage.\n",
    "We should expect some HTML tags such BR  in them. \n",
    "We can define a lambda function to identify BR and replace with a space\n",
    "\n",
    "One of the most important methods that use regular expressions is sub with the following syntax.\n",
    "\n",
    "   re.sub(pattern, repl, string, max=0)\n",
    "\n",
    "This method replaces all occurrences of the RE pattern in string with repl, substituting all occurrences unless max provided. This method returns modified string."
   ]
  },
  {
   "cell_type": "code",
   "execution_count": 46,
   "metadata": {},
   "outputs": [],
   "source": [
    "import re\n",
    "remove_br = lambda x: re.sub(r\"\"\"<BR>\"\"\", ' ', x)"
   ]
  },
  {
   "cell_type": "code",
   "execution_count": 47,
   "metadata": {},
   "outputs": [],
   "source": [
    "mytext = \"The best cereal is Quakter Cookers. <BR> They are nutritious and tasty. <BR>\" "
   ]
  },
  {
   "cell_type": "code",
   "execution_count": 43,
   "metadata": {},
   "outputs": [],
   "source": [
    "new_mytext = remove_br(mytext)"
   ]
  },
  {
   "cell_type": "code",
   "execution_count": 48,
   "metadata": {},
   "outputs": [
    {
     "name": "stdout",
     "output_type": "stream",
     "text": [
      "The best cereal is Quakter Cookers.   They are nutritious and tasty.  \n"
     ]
    }
   ],
   "source": [
    "print (new_mytext)"
   ]
  },
  {
   "cell_type": "markdown",
   "metadata": {},
   "source": [
    "Let's create a list of texts. For simplicity, we just insert the similar text into an empty list 5 times\n"
   ]
  },
  {
   "cell_type": "code",
   "execution_count": 57,
   "metadata": {},
   "outputs": [
    {
     "name": "stdout",
     "output_type": "stream",
     "text": [
      "['The best cereal is Quakter Cookers. <BR> They are nutritious and tasty. <BR>', 'The best cereal is Quakter Cookers. <BR> They are nutritious and tasty. <BR>', 'The best cereal is Quakter Cookers. <BR> They are nutritious and tasty. <BR>', 'The best cereal is Quakter Cookers. <BR> They are nutritious and tasty. <BR>']\n"
     ]
    }
   ],
   "source": [
    "texts = []\n",
    "for i in range(1,5):\n",
    "    texts.append(mytext)\n",
    "print (texts)"
   ]
  },
  {
   "cell_type": "markdown",
   "metadata": {},
   "source": [
    "Now, we apply the lambda function and map function to get a new list of text"
   ]
  },
  {
   "cell_type": "code",
   "execution_count": 60,
   "metadata": {},
   "outputs": [],
   "source": [
    "new_texts = map(remove_br, texts)"
   ]
  },
  {
   "cell_type": "code",
   "execution_count": 61,
   "metadata": {},
   "outputs": [
    {
     "name": "stdout",
     "output_type": "stream",
     "text": [
      "['The best cereal is Quakter Cookers.   They are nutritious and tasty.  ', 'The best cereal is Quakter Cookers.   They are nutritious and tasty.  ', 'The best cereal is Quakter Cookers.   They are nutritious and tasty.  ', 'The best cereal is Quakter Cookers.   They are nutritious and tasty.  ']\n"
     ]
    }
   ],
   "source": [
    "print(list(new_texts))"
   ]
  },
  {
   "cell_type": "markdown",
   "metadata": {},
   "source": [
    "### Application to NLP Preprocessing Task (2)\n",
    "\n",
    "It is common to use Pandas dataframe to hold the original text data.\n",
    "Then, to create a new series (column) to any transformed data"
   ]
  },
  {
   "cell_type": "code",
   "execution_count": 72,
   "metadata": {},
   "outputs": [
    {
     "data": {
      "text/html": [
       "<div>\n",
       "<style scoped>\n",
       "    .dataframe tbody tr th:only-of-type {\n",
       "        vertical-align: middle;\n",
       "    }\n",
       "\n",
       "    .dataframe tbody tr th {\n",
       "        vertical-align: top;\n",
       "    }\n",
       "\n",
       "    .dataframe thead th {\n",
       "        text-align: right;\n",
       "    }\n",
       "</style>\n",
       "<table border=\"1\" class=\"dataframe\">\n",
       "  <thead>\n",
       "    <tr style=\"text-align: right;\">\n",
       "      <th></th>\n",
       "      <th>original_text</th>\n",
       "    </tr>\n",
       "  </thead>\n",
       "  <tbody>\n",
       "    <tr>\n",
       "      <th>0</th>\n",
       "      <td>The best cereal is Quakter Cookers. &lt;BR&gt; They ...</td>\n",
       "    </tr>\n",
       "    <tr>\n",
       "      <th>1</th>\n",
       "      <td>The best cereal is Quakter Cookers. &lt;BR&gt; They ...</td>\n",
       "    </tr>\n",
       "    <tr>\n",
       "      <th>2</th>\n",
       "      <td>The best cereal is Quakter Cookers. &lt;BR&gt; They ...</td>\n",
       "    </tr>\n",
       "    <tr>\n",
       "      <th>3</th>\n",
       "      <td>The best cereal is Quakter Cookers. &lt;BR&gt; They ...</td>\n",
       "    </tr>\n",
       "  </tbody>\n",
       "</table>\n",
       "</div>"
      ],
      "text/plain": [
       "                                       original_text\n",
       "0  The best cereal is Quakter Cookers. <BR> They ...\n",
       "1  The best cereal is Quakter Cookers. <BR> They ...\n",
       "2  The best cereal is Quakter Cookers. <BR> They ...\n",
       "3  The best cereal is Quakter Cookers. <BR> They ..."
      ]
     },
     "execution_count": 72,
     "metadata": {},
     "output_type": "execute_result"
    }
   ],
   "source": [
    "import pandas as pd\n",
    "\n",
    "# Create the pandas DataFrame \n",
    "df = pd.DataFrame(texts, columns = ['original_text']) \n",
    "df"
   ]
  },
  {
   "cell_type": "markdown",
   "metadata": {},
   "source": [
    "Now, we create a new empty column \n"
   ]
  },
  {
   "cell_type": "code",
   "execution_count": 73,
   "metadata": {},
   "outputs": [
    {
     "data": {
      "text/html": [
       "<div>\n",
       "<style scoped>\n",
       "    .dataframe tbody tr th:only-of-type {\n",
       "        vertical-align: middle;\n",
       "    }\n",
       "\n",
       "    .dataframe tbody tr th {\n",
       "        vertical-align: top;\n",
       "    }\n",
       "\n",
       "    .dataframe thead th {\n",
       "        text-align: right;\n",
       "    }\n",
       "</style>\n",
       "<table border=\"1\" class=\"dataframe\">\n",
       "  <thead>\n",
       "    <tr style=\"text-align: right;\">\n",
       "      <th></th>\n",
       "      <th>original_text</th>\n",
       "      <th>new_text</th>\n",
       "    </tr>\n",
       "  </thead>\n",
       "  <tbody>\n",
       "    <tr>\n",
       "      <th>0</th>\n",
       "      <td>The best cereal is Quakter Cookers. &lt;BR&gt; They ...</td>\n",
       "      <td></td>\n",
       "    </tr>\n",
       "    <tr>\n",
       "      <th>1</th>\n",
       "      <td>The best cereal is Quakter Cookers. &lt;BR&gt; They ...</td>\n",
       "      <td></td>\n",
       "    </tr>\n",
       "    <tr>\n",
       "      <th>2</th>\n",
       "      <td>The best cereal is Quakter Cookers. &lt;BR&gt; They ...</td>\n",
       "      <td></td>\n",
       "    </tr>\n",
       "    <tr>\n",
       "      <th>3</th>\n",
       "      <td>The best cereal is Quakter Cookers. &lt;BR&gt; They ...</td>\n",
       "      <td></td>\n",
       "    </tr>\n",
       "  </tbody>\n",
       "</table>\n",
       "</div>"
      ],
      "text/plain": [
       "                                       original_text new_text\n",
       "0  The best cereal is Quakter Cookers. <BR> They ...         \n",
       "1  The best cereal is Quakter Cookers. <BR> They ...         \n",
       "2  The best cereal is Quakter Cookers. <BR> They ...         \n",
       "3  The best cereal is Quakter Cookers. <BR> They ...         "
      ]
     },
     "execution_count": 73,
     "metadata": {},
     "output_type": "execute_result"
    }
   ],
   "source": [
    "df[\"new_text\"] = \"\"\n",
    "df"
   ]
  },
  {
   "cell_type": "markdown",
   "metadata": {},
   "source": [
    "Finally, we apply the lambda function (remove_br) and use the map() method within Dataframe to\n",
    "apply the function onto the column original text and place the results into the column next_text"
   ]
  },
  {
   "cell_type": "code",
   "execution_count": 74,
   "metadata": {},
   "outputs": [
    {
     "data": {
      "text/html": [
       "<div>\n",
       "<style scoped>\n",
       "    .dataframe tbody tr th:only-of-type {\n",
       "        vertical-align: middle;\n",
       "    }\n",
       "\n",
       "    .dataframe tbody tr th {\n",
       "        vertical-align: top;\n",
       "    }\n",
       "\n",
       "    .dataframe thead th {\n",
       "        text-align: right;\n",
       "    }\n",
       "</style>\n",
       "<table border=\"1\" class=\"dataframe\">\n",
       "  <thead>\n",
       "    <tr style=\"text-align: right;\">\n",
       "      <th></th>\n",
       "      <th>original_text</th>\n",
       "      <th>new_text</th>\n",
       "    </tr>\n",
       "  </thead>\n",
       "  <tbody>\n",
       "    <tr>\n",
       "      <th>0</th>\n",
       "      <td>The best cereal is Quakter Cookers. &lt;BR&gt; They ...</td>\n",
       "      <td>The best cereal is Quakter Cookers.   They are...</td>\n",
       "    </tr>\n",
       "    <tr>\n",
       "      <th>1</th>\n",
       "      <td>The best cereal is Quakter Cookers. &lt;BR&gt; They ...</td>\n",
       "      <td>The best cereal is Quakter Cookers.   They are...</td>\n",
       "    </tr>\n",
       "    <tr>\n",
       "      <th>2</th>\n",
       "      <td>The best cereal is Quakter Cookers. &lt;BR&gt; They ...</td>\n",
       "      <td>The best cereal is Quakter Cookers.   They are...</td>\n",
       "    </tr>\n",
       "    <tr>\n",
       "      <th>3</th>\n",
       "      <td>The best cereal is Quakter Cookers. &lt;BR&gt; They ...</td>\n",
       "      <td>The best cereal is Quakter Cookers.   They are...</td>\n",
       "    </tr>\n",
       "  </tbody>\n",
       "</table>\n",
       "</div>"
      ],
      "text/plain": [
       "                                       original_text  \\\n",
       "0  The best cereal is Quakter Cookers. <BR> They ...   \n",
       "1  The best cereal is Quakter Cookers. <BR> They ...   \n",
       "2  The best cereal is Quakter Cookers. <BR> They ...   \n",
       "3  The best cereal is Quakter Cookers. <BR> They ...   \n",
       "\n",
       "                                            new_text  \n",
       "0  The best cereal is Quakter Cookers.   They are...  \n",
       "1  The best cereal is Quakter Cookers.   They are...  \n",
       "2  The best cereal is Quakter Cookers.   They are...  \n",
       "3  The best cereal is Quakter Cookers.   They are...  "
      ]
     },
     "execution_count": 74,
     "metadata": {},
     "output_type": "execute_result"
    }
   ],
   "source": [
    "df['new_text'] = df.original_text.map(remove_br)\n",
    "df"
   ]
  },
  {
   "cell_type": "code",
   "execution_count": 78,
   "metadata": {},
   "outputs": [
    {
     "name": "stdout",
     "output_type": "stream",
     "text": [
      "The best cereal is Quakter Cookers. <BR> They are nutritious and tasty. <BR>\n"
     ]
    }
   ],
   "source": [
    "print(df.iloc[3,0])\n"
   ]
  },
  {
   "cell_type": "code",
   "execution_count": 80,
   "metadata": {},
   "outputs": [
    {
     "name": "stdout",
     "output_type": "stream",
     "text": [
      "The best cereal is Quakter Cookers.   They are nutritious and tasty.  \n"
     ]
    }
   ],
   "source": [
    "print(df.iloc[3,1])"
   ]
  },
  {
   "cell_type": "code",
   "execution_count": null,
   "metadata": {},
   "outputs": [],
   "source": []
  }
 ],
 "metadata": {
  "kernelspec": {
   "display_name": "Python 3",
   "language": "python",
   "name": "python3"
  },
  "language_info": {
   "codemirror_mode": {
    "name": "ipython",
    "version": 3
   },
   "file_extension": ".py",
   "mimetype": "text/x-python",
   "name": "python",
   "nbconvert_exporter": "python",
   "pygments_lexer": "ipython3",
   "version": "3.6.7"
  }
 },
 "nbformat": 4,
 "nbformat_minor": 2
}
