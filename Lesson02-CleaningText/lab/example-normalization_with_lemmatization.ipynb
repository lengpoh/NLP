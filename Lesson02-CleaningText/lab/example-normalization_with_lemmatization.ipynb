{
 "cells": [
  {
   "cell_type": "code",
   "execution_count": 17,
   "metadata": {},
   "outputs": [],
   "source": [
    "import nltk\n",
    "from nltk.tokenize import word_tokenize\n",
    "from nltk.corpus import stopwords\n",
    "from nltk.tag import pos_tag\n",
    "from nltk.stem import  WordNetLemmatizer\n",
    "from nltk.corpus import wordnet\n"
   ]
  },
  {
   "cell_type": "code",
   "execution_count": 20,
   "metadata": {},
   "outputs": [
    {
     "name": "stdout",
     "output_type": "stream",
     "text": [
      "['european', 'authorities', 'fined', 'google', 'a', 'record', '5.1', 'billion', 'on', 'wednesday', 'for', 'abusing', 'its', 'power', 'in', 'the', 'mobile', 'phone', 'market']\n"
     ]
    }
   ],
   "source": [
    "sentence = \"European authorities fined Google a record 5.1 billion on Wednesday for abusing its power in the mobile phone market\"\n",
    "\n",
    "# Change to lower cases and tokenized.\n",
    "\n",
    "tokens = (word_tokenize(sentence.lower())) \n",
    "#print (tokens)"
   ]
  },
  {
   "cell_type": "code",
   "execution_count": 21,
   "metadata": {},
   "outputs": [
    {
     "name": "stdout",
     "output_type": "stream",
     "text": [
      "[('european', 'JJ'), ('authorities', 'NNS'), ('fined', 'VBD'), ('google', 'RP'), ('a', 'DT'), ('record', 'NN'), ('5.1', 'CD'), ('billion', 'CD'), ('on', 'IN'), ('wednesday', 'NN'), ('for', 'IN'), ('abusing', 'VBG'), ('its', 'PRP$'), ('power', 'NN'), ('in', 'IN'), ('the', 'DT'), ('mobile', 'JJ'), ('phone', 'NN'), ('market', 'NN')]\n"
     ]
    }
   ],
   "source": [
    "\n",
    "# Pass in the tokens into pos_tag() to get the POS tags\n",
    "tokens_pos = pos_tag(tokens)\n",
    "#print(tokens_pos)"
   ]
  },
  {
   "cell_type": "code",
   "execution_count": 22,
   "metadata": {},
   "outputs": [
    {
     "name": "stdout",
     "output_type": "stream",
     "text": [
      "NN: noun, common, singular or mass\n",
      "    common-carrier cabbage knuckle-duster Casino afghan shed thermostat\n",
      "    investment slide humour falloff slick wind hyena override subhumanity\n",
      "    machinist ...\n"
     ]
    }
   ],
   "source": [
    "# To understand what the tags means\n",
    "\n",
    "nltk.help.upenn_tagset(\"NN\")  # or just leave the parameter empty"
   ]
  },
  {
   "cell_type": "code",
   "execution_count": 11,
   "metadata": {},
   "outputs": [
    {
     "name": "stdout",
     "output_type": "stream",
     "text": [
      "n\n",
      "v\n"
     ]
    }
   ],
   "source": [
    "# The POS naming scheme from the TAGSET needs to onvert the naming scheme to one that is recognized by WordNet.\n",
    "# Wordnet is the lookup dictionary we use for the lemmization\n",
    "\n",
    "def get_wordnet_pos(treebank_tag):\n",
    "    if treebank_tag.startswith('J'):\n",
    "        return wordnet.ADJ\n",
    "    elif treebank_tag.startswith('V'):\n",
    "        return wordnet.VERB\n",
    "    elif treebank_tag.startswith('N'):\n",
    "        return wordnet.NOUN\n",
    "    elif treebank_tag.startswith('R'):\n",
    "        return wordnet.ADV\n",
    "    else:\n",
    "        return wordnet.NOUN\n",
    "    \n",
    "# Test only\n",
    "print (get_wordnet_pos('N'))\n",
    "print (get_wordnet_pos('VBD'))"
   ]
  },
  {
   "cell_type": "code",
   "execution_count": 24,
   "metadata": {},
   "outputs": [
    {
     "name": "stdout",
     "output_type": "stream",
     "text": [
      "['european', 'authority', 'fin', 'google', 'a', 'record', '5.1', 'billion', 'on', 'wednesday', 'for', 'abuse', 'it', 'power', 'in', 'the', 'mobile', 'phone', 'market']\n"
     ]
    }
   ],
   "source": [
    "lemmatiser = WordNetLemmatizer()\n",
    "\n",
    "\n",
    "lemmized_tokens = []  # hold the lemmized words\n",
    "\n",
    "# Loop through the list (of tuples) containing words and their POS\n",
    "\n",
    "for x in tokens_pos:\n",
    "    word = x[0]                         # retrieve the word\n",
    "    pos = get_wordnet_pos(x[1])         # retrive the POS\n",
    "    lemmized_word = lemmatiser.lemmatize(word, pos)  # Now lemmatized\n",
    "    lemmized_tokens.append(lemmized_word)\n",
    "    # print(word + \"-->\" + lemmized_word)\n",
    "\n",
    "    \n",
    "print(lemmized_tokens)"
   ]
  },
  {
   "cell_type": "code",
   "execution_count": 7,
   "metadata": {},
   "outputs": [],
   "source": [
    "### end "
   ]
  },
  {
   "cell_type": "code",
   "execution_count": null,
   "metadata": {},
   "outputs": [],
   "source": []
  }
 ],
 "metadata": {
  "kernelspec": {
   "display_name": "Python 3",
   "language": "python",
   "name": "python3"
  },
  "language_info": {
   "codemirror_mode": {
    "name": "ipython",
    "version": 3
   },
   "file_extension": ".py",
   "mimetype": "text/x-python",
   "name": "python",
   "nbconvert_exporter": "python",
   "pygments_lexer": "ipython3",
   "version": "3.7.4"
  }
 },
 "nbformat": 4,
 "nbformat_minor": 4
}
