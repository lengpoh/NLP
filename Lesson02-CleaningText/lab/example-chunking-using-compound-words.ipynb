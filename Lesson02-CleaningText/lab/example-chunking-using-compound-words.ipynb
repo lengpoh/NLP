{
 "cells": [
  {
   "cell_type": "code",
   "execution_count": 4,
   "metadata": {},
   "outputs": [],
   "source": [
    "import re\n",
    "import string\n",
    "import nltk\n",
    "from nltk.tokenize import word_tokenize, sent_tokenize\n",
    "from nltk.corpus import stopwords\n",
    "from nltk.tokenize import MWETokenizer, word_tokenize\n"
   ]
  },
  {
   "cell_type": "code",
   "execution_count": 12,
   "metadata": {},
   "outputs": [
    {
     "data": {
      "text/plain": [
       "['I',\n",
       " 'am',\n",
       " 'interested',\n",
       " 'in',\n",
       " 'data',\n",
       " 'science',\n",
       " 'and',\n",
       " 'artificial',\n",
       " 'intelligence',\n",
       " '.',\n",
       " 'I',\n",
       " 'wish',\n",
       " 'look',\n",
       " 'for',\n",
       " 'an',\n",
       " 'intern',\n",
       " 'position',\n",
       " 'with',\n",
       " 'AI',\n",
       " 'Singapore',\n",
       " '.']"
      ]
     },
     "execution_count": 12,
     "metadata": {},
     "output_type": "execute_result"
    }
   ],
   "source": [
    "# Example on Extracting Compound Words\n",
    "\n",
    "text = \"I am interested in data science and artificial intelligence. I wish look for an intern position with AI Singapore.\"\n",
    "\n",
    "# Let us tokenize into words\n",
    "word_tokens = word_tokenize(text)\n",
    "word_tokens\n",
    "\n",
    "# Note that in the token list, data science is broken into 2 words. The meaning is better retained if we consider\n",
    "# them as a compound word\n"
   ]
  },
  {
   "cell_type": "code",
   "execution_count": 16,
   "metadata": {},
   "outputs": [
    {
     "data": {
      "text/plain": [
       "['I',\n",
       " 'am',\n",
       " 'interested',\n",
       " 'in',\n",
       " 'data_science',\n",
       " 'and',\n",
       " 'artificial',\n",
       " 'intelligence',\n",
       " '.',\n",
       " 'I',\n",
       " 'wish',\n",
       " 'look',\n",
       " 'for',\n",
       " 'an',\n",
       " 'intern',\n",
       " 'position',\n",
       " 'with',\n",
       " 'AI',\n",
       " 'Singapore',\n",
       " '.']"
      ]
     },
     "execution_count": 16,
     "metadata": {},
     "output_type": "execute_result"
    }
   ],
   "source": [
    "\n",
    "# We instantiate a MWETokenizer stating the pairs (or more) of words that should treated as a single token\n",
    "\n",
    "mwe_tokenizer = MWETokenizer([ (\"data\",\"science\")], separator='_')\n",
    "mwe_tokens = mwe_tokenizer.tokenize(word_tokenize(text))\n",
    "mwe_tokens\n",
    "\n"
   ]
  },
  {
   "cell_type": "markdown",
   "metadata": {},
   "source": [
    "### Question\n",
    "- How can you add in additional MWE such as (artificial intelligence) and (AI Singapore)?\n",
    "- How can you remove the punctuation in the final list of tokens?"
   ]
  },
  {
   "cell_type": "code",
   "execution_count": null,
   "metadata": {},
   "outputs": [],
   "source": [
    "## end"
   ]
  }
 ],
 "metadata": {
  "kernelspec": {
   "display_name": "Python 3",
   "language": "python",
   "name": "python3"
  },
  "language_info": {
   "codemirror_mode": {
    "name": "ipython",
    "version": 3
   },
   "file_extension": ".py",
   "mimetype": "text/x-python",
   "name": "python",
   "nbconvert_exporter": "python",
   "pygments_lexer": "ipython3",
   "version": "3.6.7"
  }
 },
 "nbformat": 4,
 "nbformat_minor": 2
}
