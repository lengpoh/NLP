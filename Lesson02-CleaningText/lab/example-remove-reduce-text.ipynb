{
 "cells": [
  {
   "cell_type": "code",
   "execution_count": 1,
   "metadata": {},
   "outputs": [],
   "source": [
    "import re\n",
    "import string\n",
    "import nltk\n",
    "from nltk.tokenize import word_tokenize, sent_tokenize\n",
    "from nltk.corpus import stopwords\n",
    "from nltk.util import ngrams\n"
   ]
  },
  {
   "cell_type": "code",
   "execution_count": 2,
   "metadata": {},
   "outputs": [
    {
     "name": "stdout",
     "output_type": "stream",
     "text": [
      "['The man, who had not displayed any symptoms of the Wuhan virus during his flight to Singapore, had stayed at Village Hotel Sentosa for 6 days after his arrival.', 'His condition is stable now.']\n"
     ]
    }
   ],
   "source": [
    "### sentence tokenization\n",
    "\n",
    "my_text = \"The man, who had not displayed any symptoms of the Wuhan virus during his flight to Singapore, had stayed at Village Hotel Sentosa for 6 days after his arrival. His condition is stable now.\"\n",
    "sent_tokens = sent_tokenize(my_text)\n",
    "print (sent_tokens)\n"
   ]
  },
  {
   "cell_type": "code",
   "execution_count": 3,
   "metadata": {},
   "outputs": [],
   "source": [
    "### Let's work on one sentence first\n",
    "\n",
    "sentence = sent_tokens[0]\n",
    "#print (sentence)"
   ]
  },
  {
   "cell_type": "code",
   "execution_count": 4,
   "metadata": {},
   "outputs": [
    {
     "data": {
      "text/plain": [
       "'the man, who had not displayed any symptoms of the wuhan virus during his flight to singapore, had stayed at village hotel sentosa for 6 days after his arrival.'"
      ]
     },
     "execution_count": 4,
     "metadata": {},
     "output_type": "execute_result"
    }
   ],
   "source": [
    "# Change capitals to small\n",
    "\n",
    "sentence = sentence.lower()\n",
    "sentence\n"
   ]
  },
  {
   "cell_type": "code",
   "execution_count": 5,
   "metadata": {},
   "outputs": [
    {
     "data": {
      "text/plain": [
       "'the man  who had not displayed any symptoms of the wuhan virus during his flight to singapore  had stayed at village hotel sentosa for 6 days after his arrival '"
      ]
     },
     "execution_count": 5,
     "metadata": {},
     "output_type": "execute_result"
    }
   ],
   "source": [
    "# Replace punctuations with a white space\n",
    "sentence = re.sub('[%s]' % re.escape(string.punctuation), ' ', sentence)\n",
    "sentence"
   ]
  },
  {
   "cell_type": "code",
   "execution_count": 6,
   "metadata": {},
   "outputs": [
    {
     "data": {
      "text/plain": [
       "'the man  who had not displayed any symptoms of the wuhan virus during his flight to singapore  had stayed at village hotel sentosa for   days after his arrival '"
      ]
     },
     "execution_count": 6,
     "metadata": {},
     "output_type": "execute_result"
    }
   ],
   "source": [
    "# Remove numbers and replace with white space\n",
    "sentence  = re.sub('\\w*\\d\\w*', ' ', sentence )\n",
    "sentence"
   ]
  },
  {
   "cell_type": "code",
   "execution_count": 7,
   "metadata": {},
   "outputs": [],
   "source": [
    "# Remove stopwords\n",
    "eng_stopwords = set(stopwords.words('english'))\n",
    "\n",
    "word_tokens = word_tokenize(sentence) \n",
    "word_tokens_without_stopwords = [w for w in word_tokens if not w in eng_stopwords] \n",
    "\n"
   ]
  },
  {
   "cell_type": "code",
   "execution_count": 8,
   "metadata": {},
   "outputs": [
    {
     "data": {
      "text/plain": [
       "['the',\n",
       " 'man',\n",
       " 'who',\n",
       " 'had',\n",
       " 'not',\n",
       " 'displayed',\n",
       " 'any',\n",
       " 'symptoms',\n",
       " 'of',\n",
       " 'the',\n",
       " 'wuhan',\n",
       " 'virus',\n",
       " 'during',\n",
       " 'his',\n",
       " 'flight',\n",
       " 'to',\n",
       " 'singapore',\n",
       " 'had',\n",
       " 'stayed',\n",
       " 'at',\n",
       " 'village',\n",
       " 'hotel',\n",
       " 'sentosa',\n",
       " 'for',\n",
       " 'days',\n",
       " 'after',\n",
       " 'his',\n",
       " 'arrival']"
      ]
     },
     "execution_count": 8,
     "metadata": {},
     "output_type": "execute_result"
    }
   ],
   "source": [
    "word_tokens"
   ]
  },
  {
   "cell_type": "code",
   "execution_count": 14,
   "metadata": {
    "scrolled": true
   },
   "outputs": [
    {
     "data": {
      "text/plain": [
       "['man',\n",
       " 'displayed',\n",
       " 'symptoms',\n",
       " 'wuhan',\n",
       " 'virus',\n",
       " 'flight',\n",
       " 'singapore',\n",
       " 'stayed',\n",
       " 'village',\n",
       " 'hotel',\n",
       " 'sentosa',\n",
       " 'days',\n",
       " 'arrival']"
      ]
     },
     "execution_count": 14,
     "metadata": {},
     "output_type": "execute_result"
    }
   ],
   "source": [
    "word_tokens_without_stopwords"
   ]
  },
  {
   "cell_type": "markdown",
   "metadata": {},
   "source": [
    "#### Question: \n",
    "- Look at the final list of tokens, does it provides you with sufficient words to suggest to you the original text?"
   ]
  },
  {
   "cell_type": "code",
   "execution_count": 9,
   "metadata": {},
   "outputs": [],
   "source": [
    "## end"
   ]
  },
  {
   "cell_type": "code",
   "execution_count": null,
   "metadata": {},
   "outputs": [],
   "source": []
  }
 ],
 "metadata": {
  "kernelspec": {
   "display_name": "Python 3",
   "language": "python",
   "name": "python3"
  },
  "language_info": {
   "codemirror_mode": {
    "name": "ipython",
    "version": 3
   },
   "file_extension": ".py",
   "mimetype": "text/x-python",
   "name": "python",
   "nbconvert_exporter": "python",
   "pygments_lexer": "ipython3",
   "version": "3.6.7"
  }
 },
 "nbformat": 4,
 "nbformat_minor": 2
}
