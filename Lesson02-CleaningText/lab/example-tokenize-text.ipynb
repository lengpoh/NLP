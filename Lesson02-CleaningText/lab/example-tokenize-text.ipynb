{
 "cells": [
  {
   "cell_type": "code",
   "execution_count": 19,
   "metadata": {},
   "outputs": [],
   "source": [
    "import re\n",
    "import nltk\n",
    "from nltk.tokenize import word_tokenize, sent_tokenize\n",
    "from nltk.corpus import stopwords\n",
    "from nltk.util import ngrams\n"
   ]
  },
  {
   "cell_type": "code",
   "execution_count": 20,
   "metadata": {},
   "outputs": [
    {
     "name": "stdout",
     "output_type": "stream",
     "text": [
      "['European', 'authorities', 'fined', 'Google', 'a', 'record', '5.1', 'billion', 'on', 'Wednesday', '.', 'The', 'company', 'abusing', 'its', 'power', 'in', 'the', 'mobile', 'phone', 'market']\n"
     ]
    }
   ],
   "source": [
    "#### Tokenization\n",
    "\n",
    "my_text = \"European authorities fined Google a record 5.1 billion on Wednesday. The company abusing its power in the mobile phone market\"\n",
    "\n",
    "word_tokens = word_tokenize(my_text)\n",
    "print (word_tokens)"
   ]
  },
  {
   "cell_type": "code",
   "execution_count": 21,
   "metadata": {},
   "outputs": [
    {
     "name": "stdout",
     "output_type": "stream",
     "text": [
      "['European authorities fined Google a record 5.1 billion on Wednesday.', 'The company abusing its power in the mobile phone market']\n"
     ]
    }
   ],
   "source": [
    "### sentence tokenization\n",
    "\n",
    "sent_tokens = sent_tokenize(my_text)\n",
    "print (sent_tokens)\n"
   ]
  },
  {
   "cell_type": "code",
   "execution_count": 22,
   "metadata": {},
   "outputs": [
    {
     "name": "stdout",
     "output_type": "stream",
     "text": [
      "[('European', 'authorities'), ('authorities', 'fined'), ('fined', 'Google'), ('Google', 'a'), ('a', 'record'), ('record', '5.1'), ('5.1', 'billion'), ('billion', 'on'), ('on', 'Wednesday'), ('Wednesday', '.'), ('.', 'The'), ('The', 'company'), ('company', 'abusing'), ('abusing', 'its'), ('its', 'power'), ('power', 'in'), ('in', 'the'), ('the', 'mobile'), ('mobile', 'phone'), ('phone', 'market')]\n"
     ]
    }
   ],
   "source": [
    "\n",
    "\n",
    "twogram_tokens = list(ngrams(word_tokens,2)) # This is for two-word combos, but can pick any n\u000b",
    "print(twograms)\n",
    "print (twogram_tokens)"
   ]
  },
  {
   "cell_type": "code",
   "execution_count": 23,
   "metadata": {},
   "outputs": [],
   "source": [
    "### end ###"
   ]
  },
  {
   "cell_type": "code",
   "execution_count": null,
   "metadata": {},
   "outputs": [],
   "source": []
  }
 ],
 "metadata": {
  "kernelspec": {
   "display_name": "Python 3",
   "language": "python",
   "name": "python3"
  },
  "language_info": {
   "codemirror_mode": {
    "name": "ipython",
    "version": 3
   },
   "file_extension": ".py",
   "mimetype": "text/x-python",
   "name": "python",
   "nbconvert_exporter": "python",
   "pygments_lexer": "ipython3",
   "version": "3.7.4"
  }
 },
 "nbformat": 4,
 "nbformat_minor": 4
}
