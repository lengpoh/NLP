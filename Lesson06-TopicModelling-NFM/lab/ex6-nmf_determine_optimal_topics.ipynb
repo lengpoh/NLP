{
 "cells": [
  {
   "cell_type": "markdown",
   "metadata": {},
   "source": [
    "# Parameter Selection for NMF"
   ]
  },
  {
   "cell_type": "markdown",
   "metadata": {},
   "source": [
    "##### Acknowledgement:\n",
    "- Codes are from Derek Greene, University College Dubin\n",
    "- Original source: https://github.com/derekgreene/topic-model-tutorial\n",
    "\n"
   ]
  },
  {
   "cell_type": "markdown",
   "metadata": {},
   "source": [
    "#### Advance Task\n",
    "Now we look at the more advanced task of parameter selection for NMF topic modelling - namely, selecting a useful value for the number of topics *k*.\n",
    "\n",
    "First, let's load the TF-IDF normalised document-term matrix and list of terms that we stored earlier using Joblib:\n",
    "\n",
    "The loaded file (articles-tfidf.pkl) contains the TDIDF term matrix(A), list of feature words (terms) and the first few lines of the original documents (snippets)"
   ]
  },
  {
   "cell_type": "code",
   "execution_count": 1,
   "metadata": {},
   "outputs": [
    {
     "name": "stdout",
     "output_type": "stream",
     "text": [
      "Loaded 4551 X 10285 document-term matrix\n"
     ]
    }
   ],
   "source": [
    "import joblib\n",
    "(A,terms,snippets) = joblib.load( \"articles-tfidf.pkl\" )\n",
    "print( \"Loaded %d X %d document-term matrix\" % (A.shape[0], A.shape[1]) )\n"
   ]
  },
  {
   "cell_type": "markdown",
   "metadata": {},
   "source": [
    "### Create the Topic Models"
   ]
  },
  {
   "cell_type": "markdown",
   "metadata": {},
   "source": [
    "A common approach for parameter selection is to Measure and compare the topic coherence of models generated for different values of *k*."
   ]
  },
  {
   "cell_type": "markdown",
   "metadata": {},
   "source": [
    "We need to start by pre-specifying an initial range of \"sensible\" values:"
   ]
  },
  {
   "cell_type": "code",
   "execution_count": 2,
   "metadata": {},
   "outputs": [],
   "source": [
    "kmin, kmax = 11, 15"
   ]
  },
  {
   "cell_type": "raw",
   "metadata": {},
   "source": [
    "Apply NMF for each of these values using a for-loop"
   ]
  },
  {
   "cell_type": "code",
   "execution_count": 3,
   "metadata": {},
   "outputs": [
    {
     "name": "stdout",
     "output_type": "stream",
     "text": [
      "Applying NMF for k=11 ...\n",
      "Applying NMF for k=12 ...\n",
      "Applying NMF for k=13 ...\n",
      "Applying NMF for k=14 ...\n",
      "Applying NMF for k=15 ...\n"
     ]
    }
   ],
   "source": [
    "from sklearn import decomposition\n",
    "topic_models = []\n",
    "# try each value of k\n",
    "for k in range(kmin,kmax+1):\n",
    "    print(\"Applying NMF for k=%d ...\" % k )\n",
    "    # run NMF\n",
    "    model = decomposition.NMF( init=\"nndsvd\", n_components=k ) \n",
    "    W = model.fit_transform( A )\n",
    "    H = model.components_    \n",
    "    # store for later\n",
    "    topic_models.append( (k,W,H) )"
   ]
  },
  {
   "cell_type": "markdown",
   "metadata": {},
   "source": [
    "### Build a Word Embedding"
   ]
  },
  {
   "cell_type": "markdown",
   "metadata": {},
   "source": [
    "To select the number of topics, here we will use a *topic coherence* measure called TC-W2V. This measure relies on the use of a *word embedding* model constructed from our corpus. So in this step we will use the *Gensim* implementation of Word2Vec to build a Word2Vec model based on our collection of news articles."
   ]
  },
  {
   "cell_type": "markdown",
   "metadata": {},
   "source": [
    "We read the documents from the input file again:"
   ]
  },
  {
   "cell_type": "code",
   "execution_count": 4,
   "metadata": {},
   "outputs": [
    {
     "name": "stdout",
     "output_type": "stream",
     "text": [
      "Read 4551 raw text documents\n"
     ]
    }
   ],
   "source": [
    "import os.path\n",
    "raw_documents = []\n",
    "with open( os.path.join(\"data\", \"articles.txt\") ,\"r\", encoding='utf8') as fin:\n",
    "    for line in fin.readlines():\n",
    "        raw_documents.append( line.strip().lower() )\n",
    "print(\"Read %d raw text documents\" % len(raw_documents))"
   ]
  },
  {
   "cell_type": "markdown",
   "metadata": {},
   "source": [
    "Read the custom stopword list:"
   ]
  },
  {
   "cell_type": "code",
   "execution_count": 5,
   "metadata": {},
   "outputs": [
    {
     "name": "stdout",
     "output_type": "stream",
     "text": [
      "Stopword list has 350 entries\n"
     ]
    }
   ],
   "source": [
    "custom_stop_words = []\n",
    "with open( \"stopwords.txt\", \"r\" ) as fin:\n",
    "    for line in fin.readlines():\n",
    "        custom_stop_words.append( line.strip().lower() )\n",
    "# note that we need to make it hashable\n",
    "print(\"Stopword list has %d entries\" % len(custom_stop_words) )"
   ]
  },
  {
   "cell_type": "markdown",
   "metadata": {},
   "source": [
    "First, we need to define a class that will generate documents in a form that can be consumed by Gensim's Word2Vec implementation:"
   ]
  },
  {
   "cell_type": "code",
   "execution_count": 6,
   "metadata": {},
   "outputs": [],
   "source": [
    "import re\n",
    "class TokenGenerator:\n",
    "    def __init__( self, documents, stopwords ):\n",
    "        self.documents = documents\n",
    "        self.stopwords = stopwords\n",
    "        self.tokenizer = re.compile( r\"(?u)\\b\\w\\w+\\b\" )\n",
    "\n",
    "    def __iter__( self ):\n",
    "        print(\"Building Word2Vec model ...\")\n",
    "        for doc in self.documents:\n",
    "            tokens = []\n",
    "            for tok in self.tokenizer.findall( doc ):\n",
    "                if tok in self.stopwords:\n",
    "                    tokens.append( \"<stopword>\" )\n",
    "                elif len(tok) >= 2:\n",
    "                    tokens.append( tok )\n",
    "            yield tokens"
   ]
  },
  {
   "cell_type": "markdown",
   "metadata": {},
   "source": [
    "Now build a Skipgram Word2Vec model from all documents in the input file using *Gensim*:"
   ]
  },
  {
   "cell_type": "code",
   "execution_count": 7,
   "metadata": {},
   "outputs": [
    {
     "name": "stdout",
     "output_type": "stream",
     "text": [
      "Building Word2Vec model ...\n",
      "Building Word2Vec model ...\n",
      "Building Word2Vec model ...\n",
      "Building Word2Vec model ...\n",
      "Building Word2Vec model ...\n",
      "Building Word2Vec model ...\n"
     ]
    }
   ],
   "source": [
    "import gensim\n",
    "docgen = TokenGenerator( raw_documents, custom_stop_words )\n",
    "# the model has 500 dimensions, the minimum document-term frequency is 20\n",
    "w2v_model = gensim.models.Word2Vec(docgen, size=300, min_count=20, sg=1)"
   ]
  },
  {
   "cell_type": "code",
   "execution_count": 8,
   "metadata": {},
   "outputs": [
    {
     "name": "stdout",
     "output_type": "stream",
     "text": [
      "Model has 12192 terms\n"
     ]
    }
   ],
   "source": [
    "print( \"Model has %d terms\" % len(w2v_model.wv.vocab) )"
   ]
  },
  {
   "cell_type": "code",
   "execution_count": 9,
   "metadata": {
    "scrolled": true
   },
   "outputs": [
    {
     "name": "stderr",
     "output_type": "stream",
     "text": [
      "C:\\Users\\David\\Anaconda3\\lib\\site-packages\\ipykernel_launcher.py:1: DeprecationWarning: Call to deprecated `__getitem__` (Method will be removed in 4.0.0, use self.wv.__getitem__() instead).\n",
      "  \"\"\"Entry point for launching an IPython kernel.\n"
     ]
    },
    {
     "data": {
      "text/plain": [
       "array([ 1.63989842e-01,  1.35678351e-01, -4.99616414e-01, -3.74080420e-01,\n",
       "        6.21950887e-02,  1.02771714e-01,  1.71308726e-01,  2.66775072e-01,\n",
       "        1.36864439e-01, -4.74692211e-02, -4.20090277e-03, -1.89901650e-01,\n",
       "        4.52250391e-02,  1.36745512e-01,  3.42988700e-01,  2.56373018e-01,\n",
       "       -1.71300262e-01, -1.60463322e-02,  2.07229964e-02, -2.49164656e-01,\n",
       "        1.35379210e-01,  3.06752957e-02, -3.18671435e-01,  2.70715524e-02,\n",
       "        1.45278141e-01, -1.27348760e-02,  9.94556844e-02, -9.42823738e-02,\n",
       "       -1.87124521e-01, -3.60034764e-01,  1.34401983e-02, -4.06445533e-01,\n",
       "        4.87035275e-01, -5.89196123e-02, -2.16637999e-02, -2.21335411e-01,\n",
       "        2.67010629e-01, -5.95531799e-02,  1.41314000e-01, -3.01180899e-01,\n",
       "        1.28456593e-01,  2.67057985e-01,  8.00184235e-02, -2.95332998e-01,\n",
       "        4.29873258e-01, -2.82873869e-01, -1.72771916e-01, -9.93421078e-02,\n",
       "        4.92317006e-02, -1.30046979e-02, -1.31507277e-01,  3.30328345e-01,\n",
       "       -2.04101905e-01, -1.52243942e-01,  1.51744604e-01, -8.70370194e-02,\n",
       "       -6.11934289e-02,  6.14482425e-02,  1.68231666e-01,  2.39669427e-01,\n",
       "       -1.24815978e-01,  4.07197624e-02,  1.59550563e-01,  3.25411819e-02,\n",
       "        2.08720583e-02,  6.47802204e-02,  6.04354143e-01, -1.22806700e-02,\n",
       "       -2.37030149e-01, -1.49871156e-01,  2.50347704e-01, -2.86657158e-02,\n",
       "        9.52594653e-02, -6.65915087e-02,  1.25552997e-01,  2.24875614e-01,\n",
       "       -4.36406791e-01, -3.42550159e-01, -3.29724699e-01, -7.19905868e-02,\n",
       "        2.93259412e-01, -1.67171415e-02,  9.10502896e-02, -1.49560422e-01,\n",
       "       -1.03653044e-01, -2.59510010e-01, -1.42049655e-01, -2.48482376e-01,\n",
       "       -2.21336499e-01,  2.54190654e-01, -1.04188725e-01, -7.53604621e-02,\n",
       "        4.66733873e-01,  6.71587512e-02, -3.09498131e-01, -1.20522842e-01,\n",
       "       -1.10926302e-02,  8.14195275e-02, -1.87122598e-01, -2.60774232e-02,\n",
       "       -3.68873417e-01, -1.29672781e-01,  4.42114860e-01, -2.12412804e-01,\n",
       "       -1.19764879e-01, -3.73090655e-02, -1.49698243e-01,  2.95620143e-01,\n",
       "       -1.81491184e-03,  2.46618927e-01, -6.40104935e-02,  1.06569663e-01,\n",
       "       -3.42708342e-02, -2.19370216e-01,  4.38615195e-02, -6.14588894e-02,\n",
       "       -1.13518655e-01,  1.24573171e-01,  5.56016527e-02, -3.72036658e-02,\n",
       "        1.21485837e-01,  2.58809656e-01,  5.00429451e-01, -4.70602959e-02,\n",
       "        2.80314833e-01,  1.01498462e-01,  1.83380529e-01, -9.89864022e-02,\n",
       "        2.76479065e-01, -6.64603710e-02,  6.05019704e-02, -3.06902915e-01,\n",
       "       -6.69107199e-01,  1.50764897e-01,  9.56335217e-02, -1.16404735e-01,\n",
       "        5.56027927e-02, -2.19225913e-01, -6.13719001e-02, -2.33987018e-01,\n",
       "       -1.43286807e-03, -1.28267914e-01,  1.92126691e-01,  1.86314687e-01,\n",
       "       -1.88487113e-01, -6.91759363e-02, -5.92010915e-02, -1.56307314e-02,\n",
       "        2.94370174e-01,  5.10004684e-02,  5.52159488e-01, -1.00492999e-01,\n",
       "        5.51279664e-01, -6.70636594e-02,  1.62002623e-01, -1.84598148e-01,\n",
       "        1.57529205e-01, -4.18666095e-01, -1.74471796e-01, -2.59484816e-02,\n",
       "       -7.65153691e-02,  1.33425057e-01,  1.73267603e-01,  6.20182566e-02,\n",
       "        3.66926581e-01,  1.17713418e-02, -3.76988426e-02, -7.38924295e-02,\n",
       "        7.39873648e-02,  3.87807101e-01, -3.94484848e-01,  2.66220748e-01,\n",
       "       -2.87343591e-01, -1.30095273e-01,  1.83366239e-01,  2.74411172e-01,\n",
       "       -9.43420455e-03,  8.60410556e-02,  2.19228044e-01, -3.38141322e-01,\n",
       "       -1.88145712e-01, -2.23142937e-01, -2.36684293e-01,  3.65506738e-01,\n",
       "       -4.25520062e-01,  5.53907454e-02,  1.42845124e-01, -2.77942806e-01,\n",
       "        2.37321202e-02, -3.31592649e-01,  2.57436901e-01, -2.07005516e-01,\n",
       "       -1.89514965e-01, -3.61348808e-01,  2.05250293e-01, -6.83532134e-02,\n",
       "        1.13641351e-01,  3.68396819e-01,  1.17271133e-01,  1.92554429e-01,\n",
       "        6.01213090e-02, -1.58672214e-01,  1.39303759e-01,  1.10559300e-01,\n",
       "       -1.35776922e-01, -3.32206190e-01, -3.58823806e-01,  1.01497192e-02,\n",
       "        2.23597456e-02,  2.55143285e-01, -7.73827508e-02,  7.96818063e-02,\n",
       "       -7.74724036e-02, -2.86645055e-01, -1.66252792e-01, -2.46330783e-01,\n",
       "       -2.79383123e-01,  1.50577351e-01,  1.56753585e-01, -1.96824372e-01,\n",
       "       -1.00176856e-01,  2.23413959e-01, -1.26104325e-01, -2.45629981e-01,\n",
       "        2.38427415e-01, -8.22394267e-02,  2.31684789e-01, -3.30303912e-04,\n",
       "        8.61396082e-03,  5.80711901e-01, -2.34010428e-01, -2.09192187e-01,\n",
       "       -2.23535419e-01,  2.28928521e-01,  2.29791567e-01, -1.07846998e-01,\n",
       "       -8.08450133e-02,  1.59114718e-01,  1.66009024e-01,  7.43440837e-02,\n",
       "       -3.41501117e-01,  1.82541609e-01, -7.73277655e-02, -5.39229997e-02,\n",
       "       -1.12442747e-01, -6.89349696e-02,  6.74106255e-02,  7.61635974e-03,\n",
       "       -5.75748831e-02,  2.42125958e-01,  3.49175483e-02,  8.56067687e-02,\n",
       "       -2.16970384e-01,  1.41104192e-01,  4.79360707e-02, -2.11858451e-02,\n",
       "        1.20482065e-01, -2.64723357e-02, -2.60403335e-01, -7.81574398e-02,\n",
       "       -4.55622040e-02,  4.62716781e-02,  1.81830570e-01, -1.33452162e-01,\n",
       "       -7.00244382e-02,  2.51962561e-02,  9.78589617e-03,  4.36816402e-02,\n",
       "        8.76860693e-02, -1.64024740e-01,  1.98654577e-01, -7.27134570e-02,\n",
       "        1.67857528e-01, -2.09315896e-01, -8.80728960e-02,  2.66766176e-02,\n",
       "       -1.14660248e-01, -2.36242991e-02, -2.44454607e-01,  1.13240324e-01,\n",
       "       -3.14362884e-01,  6.65965453e-02, -1.17465414e-01,  3.44219394e-02,\n",
       "       -2.70668477e-01, -9.32097733e-02, -3.12777460e-01, -2.99248546e-02,\n",
       "       -1.98287711e-01,  2.31272876e-02, -1.99968696e-01,  7.79493824e-02,\n",
       "        7.26260841e-02,  1.36753187e-01,  8.21740404e-02, -9.82187912e-02,\n",
       "       -2.06268907e-01, -1.83951497e-01, -1.66915640e-01,  1.55813694e-01],\n",
       "      dtype=float32)"
      ]
     },
     "execution_count": 9,
     "metadata": {},
     "output_type": "execute_result"
    }
   ],
   "source": [
    "w2v_model['goal']"
   ]
  },
  {
   "cell_type": "markdown",
   "metadata": {},
   "source": [
    "Save for later use, so that we do not need to rebuild it:"
   ]
  },
  {
   "cell_type": "code",
   "execution_count": 10,
   "metadata": {},
   "outputs": [],
   "source": [
    "w2v_model.save(\"w2v-model.bin\")"
   ]
  },
  {
   "cell_type": "code",
   "execution_count": 11,
   "metadata": {},
   "outputs": [],
   "source": [
    "# To re-load this model, run\n",
    "#w2v_model = gensim.models.Word2Vec.load(\"w2v-model.bin\")"
   ]
  },
  {
   "cell_type": "markdown",
   "metadata": {},
   "source": [
    "### Selecting the Number of Topics"
   ]
  },
  {
   "cell_type": "markdown",
   "metadata": {},
   "source": [
    "Once we have our Word2vec model, we can use it as part of our *topic coherence* approach to evaluate the different NMF topic models that we created previously. To do this, we will implement a simple version of the TC-W2V coherence measure."
   ]
  },
  {
   "cell_type": "markdown",
   "metadata": {},
   "source": [
    "The Word2Vec model contains vectorized words.\n",
    "We use the Word2vec model to calculate coherence scores for each of these models. We will define this coherence score as follows:"
   ]
  },
  {
   "cell_type": "code",
   "execution_count": 12,
   "metadata": {},
   "outputs": [],
   "source": [
    "def calculate_coherence( w2v_model, term_rankings ):\n",
    "    overall_coherence = 0.0\n",
    "    for topic_index in range(len(term_rankings)):\n",
    "        # check each pair of terms\n",
    "        pair_scores = []\n",
    "        for pair in combinations( term_rankings[topic_index], 2 ):\n",
    "            pair_scores.append( w2v_model.wv.similarity(pair[0], pair[1]) )\n",
    "        # get the mean for all pairs in this topic\n",
    "        topic_score = sum(pair_scores) / len(pair_scores)\n",
    "        overall_coherence += topic_score\n",
    "    # get the mean score across all topics\n",
    "    return overall_coherence / len(term_rankings)"
   ]
  },
  {
   "cell_type": "markdown",
   "metadata": {},
   "source": [
    "#\n",
    "## Topic Descriptors\n",
    "The top ranked terms from the *H* factor for each topic can give us an insight into the content of that topic. This is often called the *topic descriptor*. Let's define a function that extracts the descriptor for a specified topic: "
   ]
  },
  {
   "cell_type": "markdown",
   "metadata": {},
   "source": [
    "\n",
    "### <font color=blue>Exercise</font>\n",
    "\n",
    "Refer to the previous exercise. How would you code the get_descriptor() function?"
   ]
  },
  {
   "cell_type": "code",
   "execution_count": 13,
   "metadata": {},
   "outputs": [],
   "source": [
    "## Your codes\n",
    "## Hint: Use the same get_descriptor() function from the previous exercise\n",
    "import numpy as np\n",
    "def get_descriptor( all_terms, H, topic_index, top ):\n",
    "    # reverse sort the values to sort the indices\n",
    "    top_indices = np.argsort( H[topic_index,:] )[::-1]\n",
    "    # now get the terms corresponding to the top-ranked indices\n",
    "    top_terms = []\n",
    "    for term_index in top_indices[0:top]:\n",
    "        top_terms.append( terms[term_index] )\n",
    "    return top_terms    \n",
    "    "
   ]
  },
  {
   "cell_type": "markdown",
   "metadata": {},
   "source": [
    "Now process each of the models for different values of *k*:"
   ]
  },
  {
   "cell_type": "code",
   "execution_count": 14,
   "metadata": {},
   "outputs": [
    {
     "name": "stdout",
     "output_type": "stream",
     "text": [
      "K=11: Coherence=0.4556\n",
      "K=12: Coherence=0.4539\n",
      "K=13: Coherence=0.4579\n",
      "K=14: Coherence=0.4516\n",
      "K=15: Coherence=0.4506\n"
     ]
    }
   ],
   "source": [
    "from itertools import combinations\n",
    "k_values = []\n",
    "coherences = []\n",
    "for (k,W,H) in topic_models:\n",
    "    # Get all of the topic descriptors - the term_rankings, based on top 10 terms\n",
    "    term_rankings = []\n",
    "    for topic_index in range(k):\n",
    "        term_rankings.append( get_descriptor( terms, H, topic_index, 10 ) )\n",
    "    # Now calculate the coherence based on our Word2vec model\n",
    "    k_values.append( k )\n",
    "    coherences.append( calculate_coherence( w2v_model, term_rankings ) )\n",
    "    print(\"K=%02d: Coherence=%.4f\" % ( k, coherences[-1] ) )"
   ]
  },
  {
   "cell_type": "markdown",
   "metadata": {},
   "source": [
    "We can now use *matplotlib* to generate a line plot of these coherence scores, to help us select an appropriate value."
   ]
  },
  {
   "cell_type": "code",
   "execution_count": 15,
   "metadata": {},
   "outputs": [],
   "source": [
    "%matplotlib inline\n",
    "import matplotlib\n",
    "import matplotlib.pyplot as plt\n",
    "plt.style.use(\"ggplot\")\n",
    "matplotlib.rcParams.update({\"font.size\": 14})"
   ]
  },
  {
   "cell_type": "code",
   "execution_count": 16,
   "metadata": {},
   "outputs": [
    {
     "data": {
      "image/png": "[encoded data removed]",
      "text/plain": [
       "<Figure size 936x504 with 1 Axes>"
      ]
     },
     "metadata": {
      "needs_background": "light"
     },
     "output_type": "display_data"
    }
   ],
   "source": [
    "fig = plt.figure(figsize=(13,7))\n",
    "# create the line plot\n",
    "ax = plt.plot( k_values, coherences )\n",
    "plt.xticks(k_values)\n",
    "plt.xlabel(\"Number of Topics\")\n",
    "plt.ylabel(\"Mean Coherence\")\n",
    "# add the points\n",
    "plt.scatter( k_values, coherences, s=120)\n",
    "# find and annotate the maximum point on the plot\n",
    "ymax = max(coherences)\n",
    "xpos = coherences.index(ymax)\n",
    "best_k = k_values[xpos]\n",
    "plt.annotate( \"k=%d\" % best_k, xy=(best_k, ymax), xytext=(best_k, ymax), textcoords=\"offset points\", fontsize=16)\n",
    "# show the plot\n",
    "plt.show()"
   ]
  },
  {
   "cell_type": "markdown",
   "metadata": {},
   "source": [
    "\n",
    "### <font color=blue>Exercise</font>\n",
    "\n",
    "Examine the plot above. The k with the highest mean coherence is likely most appropriate value for the number of topics. Change the best_value variable to highest coherence value.\n"
   ]
  },
  {
   "cell_type": "code",
   "execution_count": 17,
   "metadata": {},
   "outputs": [],
   "source": [
    "k = 8 \n",
    "# get the model that we generated earlier.\n",
    "W = topic_models[k-kmin][1]\n",
    "H = topic_models[k-kmin][2]"
   ]
  },
  {
   "cell_type": "code",
   "execution_count": 19,
   "metadata": {},
   "outputs": [
    {
     "name": "stdout",
     "output_type": "stream",
     "text": [
      "W: [[0.         0.00322275 0.00039777 ... 0.         0.00059739 0.00721774]\n",
      " [0.         0.08590796 0.         ... 0.00938218 0.         0.02262467]\n",
      " [0.0001266  0.00115663 0.00054828 ... 0.0017303  0.00208022 0.08601944]\n",
      " ...\n",
      " [0.         0.00201432 0.02211288 ... 0.00501721 0.00617965 0.01781577]\n",
      " [0.03406835 0.         0.         ... 0.         0.02326523 0.        ]\n",
      " [0.         0.         0.05847927 ... 0.         0.00526998 0.        ]]\n",
      "H: [[7.73142007e-02 1.32729691e-03 0.00000000e+00 ... 3.23813283e-03\n",
      "  0.00000000e+00 0.00000000e+00]\n",
      " [3.60629071e-02 8.48545426e-05 0.00000000e+00 ... 1.81622541e-03\n",
      "  0.00000000e+00 0.00000000e+00]\n",
      " [3.92309571e-02 1.41703504e-03 0.00000000e+00 ... 7.65689004e-04\n",
      "  0.00000000e+00 0.00000000e+00]\n",
      " ...\n",
      " [1.18327284e-01 4.42678550e-03 1.60041198e-02 ... 3.60860681e-03\n",
      "  0.00000000e+00 0.00000000e+00]\n",
      " [8.31080184e-03 1.55194355e-03 0.00000000e+00 ... 7.83292459e-03\n",
      "  0.00000000e+00 0.00000000e+00]\n",
      " [4.42738206e-02 0.00000000e+00 0.00000000e+00 ... 0.00000000e+00\n",
      "  0.00000000e+00 0.00000000e+00]]\n"
     ]
    }
   ],
   "source": [
    "print(\"W:\", W)\n",
    "print(\"H:\", H)"
   ]
  },
  {
   "cell_type": "markdown",
   "metadata": {},
   "source": [
    "### <font color=blue>Knowledge check</font>\n",
    "\n",
    "- What does the codes in the above cells do ?\n",
    "- Why is there a need to use [(k - kmin) as the index"
   ]
  },
  {
   "cell_type": "code",
   "execution_count": null,
   "metadata": {},
   "outputs": [],
   "source": [
    "## Your answers"
   ]
  },
  {
   "cell_type": "markdown",
   "metadata": {},
   "source": [
    "\n",
    "\n",
    "### <font color=blue>Exercise:</font>\n",
    "1. Now that you have the optimal model, display the top terms for each topic (example below)\n",
    "2. Show the top 5 documents snippets for topic 4\n",
    "\n",
    "Hint: Refer to the previous exercise"
   ]
  },
  {
   "cell_type": "code",
   "execution_count": null,
   "metadata": {},
   "outputs": [],
   "source": [
    "# Your codes"
   ]
  }
 ],
 "metadata": {
  "kernelspec": {
   "display_name": "Python 3",
   "language": "python",
   "name": "python3"
  },
  "language_info": {
   "codemirror_mode": {
    "name": "ipython",
    "version": 3
   },
   "file_extension": ".py",
   "mimetype": "text/x-python",
   "name": "python",
   "nbconvert_exporter": "python",
   "pygments_lexer": "ipython3",
   "version": "3.7.4"
  }
 },
 "nbformat": 4,
 "nbformat_minor": 4
}
