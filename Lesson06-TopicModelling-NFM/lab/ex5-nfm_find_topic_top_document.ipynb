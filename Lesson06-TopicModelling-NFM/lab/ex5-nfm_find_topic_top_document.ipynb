{
 "cells": [
  {
   "cell_type": "markdown",
   "metadata": {},
   "source": [
    "### Topic Modelling with NFM\n",
    "\n",
    "Acknowledgement: This tutorial is adapted from Derek Greene (http://derekgreene.com/)"
   ]
  },
  {
   "cell_type": "markdown",
   "metadata": {},
   "source": [
    "Topic modelling aims to automatically discover the hidden thematic structure in a large corpus of text documents. One approach for topic modelling is to apply *matrix factorisation* methods, such as *Non-negative Matrix Factorisation (NMF)*. In this notebook we look at how to apply NMF using the *scikit-learn* library in Python."
   ]
  },
  {
   "cell_type": "markdown",
   "metadata": {},
   "source": [
    "### Applying NMF"
   ]
  },
  {
   "cell_type": "markdown",
   "metadata": {},
   "source": [
    "First, let's load the TF-IDF normalised document-term matrix and list of terms that we stored earlier using *Joblib*:\n",
    "\n",
    "You may need to:\n",
    "1. Identify the location and name of the TF-IDF file that you save in the previous exercise\n",
    "2. Inside the file name into the parameter of jobliub.load()"
   ]
  },
  {
   "cell_type": "code",
   "execution_count": 1,
   "metadata": {},
   "outputs": [
    {
     "name": "stdout",
     "output_type": "stream",
     "text": [
      "Loaded 4551 X 10285 document-term matrix\n",
      "Loaded 10285 unique terms\n"
     ]
    }
   ],
   "source": [
    "#from sklearn.externals import joblib\n",
    "# A is the vectorized document\n",
    "# terms is the feature names\n",
    "import joblib\n",
    "import numpy as np\n",
    "\n",
    "#(A,terms,snippets, raw_documents) = joblib.load( \"REPLACE WITH YOUR FILE\" )\n",
    "(A,terms,snippets, raw_documents) = joblib.load( \"articles-tfidf_pk.pkl\" )\n",
    "print( \"Loaded %d X %d document-term matrix\" % (A.shape[0], A.shape[1]) )\n",
    "print (\"Loaded %d unique terms\" % len(terms))"
   ]
  },
  {
   "cell_type": "markdown",
   "metadata": {},
   "source": [
    "The key input parameter to NMF is the number of topics to generate *k*. For the moment, we will pre-specify a guessed value, for demonstration purposes."
   ]
  },
  {
   "cell_type": "code",
   "execution_count": 8,
   "metadata": {},
   "outputs": [],
   "source": [
    "k = 30"
   ]
  },
  {
   "cell_type": "markdown",
   "metadata": {},
   "source": [
    "Another choice for NMF revolves around initialisation. Most commonly, NMF involves using random initialisation to populate the values in the factors W and H. Depending on the random seed that you use, you may get different results on the same dataset. Instead, using SVD-based initialisation provides more reliable results."
   ]
  },
  {
   "cell_type": "code",
   "execution_count": 9,
   "metadata": {},
   "outputs": [],
   "source": [
    "# create the model\n",
    "from sklearn import decomposition\n",
    "model = decomposition.NMF( init=\"nndsvd\", n_components=k ) \n",
    "# apply the model and extract the two factor matrices\n",
    "W = model.fit_transform( A )\n",
    "H = model.components_"
   ]
  },
  {
   "cell_type": "markdown",
   "metadata": {},
   "source": [
    "### Most Relevant Documents"
   ]
  },
  {
   "cell_type": "markdown",
   "metadata": {},
   "source": [
    "We can also look at the snippets for the top-ranked documents for each topic. We'll define a function to produce this ranking also."
   ]
  },
  {
   "cell_type": "code",
   "execution_count": 15,
   "metadata": {},
   "outputs": [],
   "source": [
    "import numpy as np\n",
    "def get_descriptor( terms, H, topic_index, top ):\n",
    "    # reverse sort the values to sort the indices\n",
    "    top_indices = np.argsort( H[topic_index,:] )[::-1]\n",
    "    # now get the terms corresponding to the top-ranked indices\n",
    "    top_terms = []\n",
    "    for term_index in top_indices[0:top]:\n",
    "        top_terms.append( terms[term_index] )\n",
    "    return top_terms"
   ]
  },
  {
   "cell_type": "code",
   "execution_count": 10,
   "metadata": {},
   "outputs": [],
   "source": [
    "def get_top_snippets( all_snippets, W, topic_index, top ):\n",
    "    # reverse sort the values to sort the indices\n",
    "    top_indices = np.argsort( W[:,topic_index] )[::-1]\n",
    "    # now get the snippets corresponding to the top-ranked indices\n",
    "    top_snippets = []\n",
    "    for doc_index in top_indices[0:top]:\n",
    "        top_snippets.append( all_snippets[doc_index] )\n",
    "    return top_snippets"
   ]
  },
  {
   "cell_type": "markdown",
   "metadata": {},
   "source": [
    "For instance, for the first topic listed above, the top 10 documents are:"
   ]
  },
  {
   "cell_type": "code",
   "execution_count": 16,
   "metadata": {},
   "outputs": [
    {
     "name": "stdout",
     "output_type": "stream",
     "text": [
      "Topic 01: brexit, government, parliament, uk, minister, theresa, hammond, article, trade, 50\n",
      "Topic 02: trump, donald, president, republican, campaign, america, presidential, white, election, american\n",
      "Topic 03: film, films, movie, star, director, hollywood, actor, drama, festival, cinema\n",
      "Topic 04: united, mourinho, manchester, rooney, gaal, ibrahimovic, van, mata, pogba, rashford\n",
      "Topic 05: bank, banks, rbs, banking, deutsche, shares, lloyds, customers, hsbc, financial\n",
      "Topic 06: nhs, care, patients, hospital, health, social, services, healthcare, hospitals, patient\n",
      "Topic 07: album, music, band, pop, song, songs, rock, bowie, sound, guitar\n",
      "Topic 08: facebook, internet, twitter, online, users, google, media, social, company, content\n",
      "Topic 09: labour, party, corbyn, leader, jeremy, mps, ukip, voters, election, leadership\n",
      "Topic 10: mental, health, people, children, services, depression, illness, problems, young, support\n",
      "Topic 11: growth, economy, rates, markets, prices, pound, inflation, rate, uk, market\n",
      "Topic 12: league, season, premier, football, club, clubs, players, chelsea, champions, fans\n",
      "Topic 13: women, men, female, woman, abortion, gender, girls, male, sexual, sex\n",
      "Topic 14: vote, referendum, leave, remain, eu, brexit, campaign, people, voters, voted\n",
      "Topic 15: ball, goal, palace, half, everton, west, game, sunderland, corner, shot\n",
      "Topic 16: commission, banks, royal, labor, turnbull, asic, australia, financial, banking, government\n",
      "Topic 17: clinton, hillary, sanders, trump, obama, democratic, election, campaign, presidential, voters\n",
      "Topic 18: cameron, johnson, minister, prime, boris, gove, campaign, tory, farage, eu\n",
      "Topic 19: cruz, rubio, republican, sanders, ted, kasich, senator, trump, delegates, iowa\n",
      "Topic 20: eu, uk, european, britain, europe, trade, british, leave, countries, union\n",
      "Topic 21: doctors, junior, hunt, bma, nhs, patients, contract, strike, doctor, medical\n",
      "Topic 22: leicester, ranieri, vardy, city, mahrez, title, season, team, claudio, league\n",
      "Topic 23: zika, pollution, climate, air, virus, health, disease, change, global, environmental\n",
      "Topic 24: police, court, law, security, crime, russia, abuse, case, information, rights\n",
      "Topic 25: amazon, customers, service, delivery, uk, products, company, online, food, fresh\n",
      "Topic 26: ireland, abortion, northern, irish, border, uk, court, abortions, dublin, belfast\n",
      "Topic 27: barclays, prize, promoter, tickets, entries, competition, details, winners, entry, premier\n",
      "Topic 28: people, think, life, get, really, time, know, go, got, things\n",
      "Topic 29: cancer, alcohol, breast, drinking, treatment, disease, research, patients, study, diagnosed\n",
      "Topic 30: liverpool, klopp, firmino, lallana, milner, coutinho, goal, sturridge, ball, swansea\n"
     ]
    }
   ],
   "source": [
    "descriptors = []\n",
    "for topic_index in range(k):\n",
    "    descriptors.append( get_descriptor( terms, H, topic_index, 10 ) )\n",
    "    str_descriptor = \", \".join( descriptors[topic_index] )\n",
    "    print(\"Topic %02d: %s\" % ( topic_index+1, str_descriptor ) )"
   ]
  },
  {
   "cell_type": "code",
   "execution_count": 19,
   "metadata": {
    "scrolled": true
   },
   "outputs": [
    {
     "name": "stdout",
     "output_type": "stream",
     "text": [
      "01. Win (home) tickets to Newcastle United v West Brom The has teamed up with Barclays, proud sponsors o\n",
      "02. Win (home) tickets to Leicester City v West Brom in the Premier League This competition is now close\n",
      "03. Win (home) tickets to Manchester United v Watford in the Premier League This competition is now clos\n",
      "04. Win (home) tickets to Watford v Newcastle United The has teamed up with Barclays, proud sponsors of \n",
      "05. Win (home) tickets to Aston Villa v Leicester City The has teamed up with Barclays, proud sponsors o\n",
      "06. Win (home) tickets to Norwich City v West Ham in the Premier League The has teamed up with Barclays,\n",
      "07. Win (home) tickets to Newcastle United v Sunderland in the Premier League The has teamed up with Bar\n",
      "08. Win (home) tickets to Liverpool v Stoke City in the Premier League The has teamed up with Barclays, \n",
      "09. Barclays again warns on investment bank results Profits in Barclays investment banking arm will not \n",
      "10. Barclays agrees to hand over internal documents to Serious Fraud Office Barclays has agreed to hand \n"
     ]
    }
   ],
   "source": [
    "# snippets contains only the first 100 characters of the text corpus.\n",
    "# raw_documents contains the entire corpus \n",
    "# the next line pulls up the top 10 snippets for a given topic 0\n",
    "# You can replace snippets with raw_documents\n",
    "\n",
    "topic_snippets = get_top_snippets( snippets, W, 26, 10 )\n",
    "\n",
    "for i, snippet in enumerate(topic_snippets):\n",
    "    print(\"%02d. %s\" % ( (i+1), snippet ) )"
   ]
  },
  {
   "cell_type": "markdown",
   "metadata": {},
   "source": [
    "Similarly, for the second topic:"
   ]
  },
  {
   "cell_type": "code",
   "execution_count": 12,
   "metadata": {
    "scrolled": true
   },
   "outputs": [
    {
     "name": "stdout",
     "output_type": "stream",
     "text": [
      "01. Donald Trump at the White House: Obama reports 'excellent conversation' – as it happened Are you adj\n",
      "02. What will President Donald Trump do? Predicting his policy agenda Donald Trump has been short on pol\n",
      "03. Trump to visit White House as Obama calls for unity Trump to visit White House amid calls for unity \n",
      "04. Trump uses speech to defend defunct brands – and brandish thick slabs of steak Presidential candidat\n",
      "05. Decoding the mystery of athletes who support Donald Trump When Latrell Sprewell joined Twitter a mon\n",
      "06. A timeline of Donald Trump's alleged sexual misconduct: who, when and what At least 24 women have ac\n",
      "07. Beware a boring Donald Trump. He’s more dangerous than a maverick one Donald Trump’s arrival in the \n",
      "08. A lifetime of misogyny catches up with Trump Back in the spring, Jill Harth didn’t want to talk. Nei\n",
      "09. 'I was looking at the next president of the United States': the verdict on Trump's speech Lucia Grav\n",
      "10. Trump cancels Chicago rally amid violence and chaos – as it happened Our live coverage of the extrao\n",
      "11. A tale of many Trumps: book reveals the showman, womaniser and slick operator Donald Trump’s shiftin\n",
      "12. US newspapers unite in disgust at Donald Trump's attack on Clinton Donald Trump’s “assassination thr\n",
      "13. OBJECTified: Donald Trump review – a basket of objectionables Donald Trump, the Kool-Aid Man given h\n",
      "14. Trump's meeting with congressional Republicans inspires divided response Republican opponents of Don\n",
      "15. Trump did not ask Argentina's president for business favor, spokesman says A spokesman for Argentina\n",
      "16. A 'total lie': Trump University ex-staffers condemn school as 'fraudulent scheme' Some of the harshe\n",
      "17. Trump: 'Had I been president, Capt Khan would be alive today' – as it happened Speaking with ABC New\n",
      "18. Second US presidential debate – as it happened Here’s how searches for “Hillary Clinton” and “Donald\n",
      "19. Trump campaign woes intensify amid questions over Melania's visa – as it happened A risqué photo sho\n",
      "20. Donald Trump is real danger to US security, says Alex Salmond Alex Salmond, Scotland’s former first \n",
      "21. Trump set to save a fortune in taxes by moving trademarks to Delaware The Trumptini, a twist on the \n",
      "22. Trump campaign reportedly vetting Christie, Gingrich as potential running mates – as it happened Don\n",
      "23. Trump chooses Nikki Haley and Betsy DeVos for administration posts – as it happened We’re going to w\n",
      "24. Melania Trump defends husband's 'boy talk' in CNN interview – as it happened Speaking to CNN’s Ander\n",
      "25. Trump's balancing act: what to expect from his immigration speech Immigration has been one of Donald\n",
      "26. Donald Trump's most recent attacks on women point to a history of misogyny A succession of disturbin\n",
      "27. Donald Trump to Dr Oz: I feel 'as good today as I did at 30' On the day Donald Trump told TV host Dr\n",
      "28. Donald Trump hits delegate count needed for Republican nomination – as it happened On the one hand, \n",
      "29. Forget Mitt Romney. Megyn Kelly is the right's best weapon against Trump Mitt Romney is garnering he\n",
      "30. Donald Trump faces Senate backlash over ‘cabinet of billionaires’ Earlier this month, Donald Trump u\n"
     ]
    }
   ],
   "source": [
    "topic_snippets = get_top_snippets( snippets, W, 1, 30 )\n",
    "for i, snippet in enumerate(topic_snippets):\n",
    "    print(\"%02d. %s\" % ( (i+1), snippet ) )"
   ]
  },
  {
   "cell_type": "markdown",
   "metadata": {},
   "source": [
    "###  Knowledge check:\n",
    "1. Which topic suggest technology and internet companies?\n",
    "2. Then, retrieve the top 5 articles related to the topic."
   ]
  },
  {
   "cell_type": "code",
   "execution_count": null,
   "metadata": {},
   "outputs": [],
   "source": [
    "# Your codes\n"
   ]
  },
  {
   "cell_type": "code",
   "execution_count": 13,
   "metadata": {},
   "outputs": [
    {
     "name": "stdout",
     "output_type": "stream",
     "text": [
      "01. Twitter: 140 characters in search of a buyer Why doesn’t anyone want to buy Twitter? After the compa\n",
      "02. Facebook’s satellite went up in smoke, but its developing world land grab goes on A rocket crashing \n",
      "03. Facebook lures Africa with free internet - but what is the hidden cost? Facebook has signed up almos\n",
      "04. What are four of the top social media networks doing to protect children? According to recent report\n",
      "05. Zuckerberg has given Facebook investors all they need. He wants one thing in return: control Mark Zu\n",
      "06. Connecting everyone to internet 'would add $6.7tn to global economy' Bringing internet access to the\n",
      "07. From births to melons: perks and pitfalls of Facebook’s live video revolution Last week, a man in Ca\n",
      "08. How much are you worth to Facebook? Facebook has set new records for both the number of users it has\n",
      "09. You may hate Donald Trump. But do you want Facebook to rig the election against him? While the prosp\n",
      "10. Google, Facebook and Microsoft race to get 1 billion Indians online When Manish Kumar first came to \n"
     ]
    }
   ],
   "source": [
    "# ANSWERS\n",
    "topic_snippets = get_top_snippets( snippets, W, 7, 10 )\n",
    "for i, snippet in enumerate(topic_snippets):\n",
    "    print(\"%02d. %s\" % ( (i+1), snippet ) )"
   ]
  },
  {
   "cell_type": "markdown",
   "metadata": {},
   "source": [
    "### Exporting the Results"
   ]
  },
  {
   "cell_type": "markdown",
   "metadata": {},
   "source": [
    "If we want to keep this topic model for later user, we can save it using *joblib*:"
   ]
  },
  {
   "cell_type": "code",
   "execution_count": 14,
   "metadata": {},
   "outputs": [
    {
     "data": {
      "text/plain": [
       "['articles-model-nmf-k30.pkl']"
      ]
     },
     "execution_count": 14,
     "metadata": {},
     "output_type": "execute_result"
    }
   ],
   "source": [
    "joblib.dump((W,H,terms,snippets), \"articles-model-nmf-k%02d.pkl\" % k) "
   ]
  },
  {
   "cell_type": "markdown",
   "metadata": {},
   "source": [
    "\n",
    "## Exercises:\n",
    "Make a copy of this notebook and perform the following exercise:\n",
    "1. Change the model to derive 13 topics\n",
    "2. Change the program to look at 10 terms per topic.\n",
    "3. Change the program to display the 8 most relevant documents fot topic #3.\n",
    "4. For all the topics, display the top 5 documents.\n",
    "\n",
    "\n"
   ]
  },
  {
   "cell_type": "markdown",
   "metadata": {},
   "source": [
    "\n",
    "#### Reference:\n",
    "\n",
    "https://github.com/derekgreene/topic-model-tutorial"
   ]
  },
  {
   "cell_type": "code",
   "execution_count": null,
   "metadata": {},
   "outputs": [],
   "source": []
  }
 ],
 "metadata": {
  "kernelspec": {
   "display_name": "Python 3",
   "language": "python",
   "name": "python3"
  },
  "language_info": {
   "codemirror_mode": {
    "name": "ipython",
    "version": 3
   },
   "file_extension": ".py",
   "mimetype": "text/x-python",
   "name": "python",
   "nbconvert_exporter": "python",
   "pygments_lexer": "ipython3",
   "version": "3.7.4"
  }
 },
 "nbformat": 4,
 "nbformat_minor": 4
}
