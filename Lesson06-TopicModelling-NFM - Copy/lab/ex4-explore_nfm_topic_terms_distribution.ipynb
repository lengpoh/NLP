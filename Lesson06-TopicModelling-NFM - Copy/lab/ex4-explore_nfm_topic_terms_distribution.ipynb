{
 "cells": [
  {
   "cell_type": "markdown",
   "metadata": {},
   "source": [
    "# NMF Topic Models"
   ]
  },
  {
   "cell_type": "markdown",
   "metadata": {},
   "source": [
    "Acknowledgement: This tutorial is adapted from Derek Greene (http://derekgreene.com/)"
   ]
  },
  {
   "cell_type": "markdown",
   "metadata": {},
   "source": [
    "Topic modelling aims to automatically discover the hidden thematic structure in a large corpus of text documents. One approach for topic modelling is to apply *matrix factorisation* methods, such as *Non-negative Matrix Factorisation (NMF)*. In this notebook we look at how to apply NMF using the *scikit-learn* library in Python. We will also attempt a simple analysis of the terms given the top."
   ]
  },
  {
   "cell_type": "markdown",
   "metadata": {},
   "source": [
    "### Applying NMF"
   ]
  },
  {
   "cell_type": "markdown",
   "metadata": {},
   "source": [
    "First, let's load the TF-IDF normalised document-term matrix and list of terms that we stored earlier using *Joblib*:\n",
    "\n",
    "### Knowledge check:\n",
    "1. Identify the location and name of the TF-IDF file that you save in the previous exercise\n",
    "2. Inside the file name into the parameter of jobliub.load()"
   ]
  },
  {
   "cell_type": "code",
   "execution_count": 10,
   "metadata": {},
   "outputs": [
    {
     "name": "stdout",
     "output_type": "stream",
     "text": [
      "Loaded 4551 X 10285 document-term matrix\n"
     ]
    }
   ],
   "source": [
    "#from sklearn.externals import joblib\n",
    "# A is the vectorized document\n",
    "# terms is the feature names\n",
    "import joblib\n",
    "#(A,terms,snippets, raw_documents) = joblib.load( \"REPLACE WITH YOUR FILE\" )\n",
    "(A,terms,snippets, raw_documents) = joblib.load('articles-tfidf_pk.pkl')\n",
    "print( \"Loaded %d X %d document-term matrix\" % (A.shape[0], A.shape[1]) )"
   ]
  },
  {
   "cell_type": "markdown",
   "metadata": {},
   "source": [
    "The key input parameter to NMF is the number of topics to generate *k*. For the moment, we will pre-specify a guessed value, for demonstration purposes."
   ]
  },
  {
   "cell_type": "code",
   "execution_count": 11,
   "metadata": {},
   "outputs": [],
   "source": [
    "k = 30"
   ]
  },
  {
   "cell_type": "markdown",
   "metadata": {},
   "source": [
    "Another choice for NMF revolves around initialisation. Most commonly, NMF involves using random initialisation to populate the values in the factors W and H. Depending on the random seed that you use, you may get different results on the same dataset. Instead, using SVD-based initialisation provides more reliable results."
   ]
  },
  {
   "cell_type": "code",
   "execution_count": 12,
   "metadata": {},
   "outputs": [],
   "source": [
    "# create the model\n",
    "from sklearn import decomposition\n",
    "model = decomposition.NMF( init=\"nndsvd\", n_components=k ) \n",
    "# apply the model and extract the two factor matrices\n",
    "W = model.fit_transform( A )\n",
    "H = model.components_"
   ]
  },
  {
   "cell_type": "markdown",
   "metadata": {},
   "source": [
    "### Topic Descriptors"
   ]
  },
  {
   "cell_type": "markdown",
   "metadata": {},
   "source": [
    "The top ranked terms from the *H* factor for each topic can give us an insight into the content of that topic. This is often called the *topic descriptor*. Let's define a function that extracts the descriptor for a specified topic: "
   ]
  },
  {
   "cell_type": "code",
   "execution_count": 13,
   "metadata": {},
   "outputs": [],
   "source": [
    "import numpy as np\n",
    "def get_descriptor( terms, H, topic_index, top ):\n",
    "    # reverse sort the values to sort the indices\n",
    "    top_indices = np.argsort( H[topic_index,:] )[::-1]\n",
    "    # now get the terms corresponding to the top-ranked indices\n",
    "    top_terms = []\n",
    "    for term_index in top_indices[0:top]:\n",
    "        top_terms.append( terms[term_index] )\n",
    "    return top_terms"
   ]
  },
  {
   "cell_type": "markdown",
   "metadata": {},
   "source": [
    "We can now get a descriptor for each topic using the top ranked terms (e.g. top 10):"
   ]
  },
  {
   "cell_type": "code",
   "execution_count": 14,
   "metadata": {},
   "outputs": [
    {
     "name": "stdout",
     "output_type": "stream",
     "text": [
      "Topic 01: eu, uk, european, brexit, britain, trade, europe, british, government, union\n",
      "Topic 02: trump, donald, president, republican, campaign, america, presidential, white, election, american\n",
      "Topic 03: people, think, life, get, really, time, know, go, got, things\n",
      "Topic 04: arsenal, chelsea, wenger, conte, costa, team, hazard, game, season, manager\n",
      "Topic 05: bank, banks, rbs, banking, deutsche, shares, customers, lloyds, financial, hsbc\n",
      "Topic 06: nhs, care, patients, hospital, health, social, services, healthcare, hospitals, patient\n",
      "Topic 07: album, music, band, pop, song, songs, rock, bowie, sound, guitar\n",
      "Topic 08: facebook, internet, online, twitter, users, google, media, social, company, content\n",
      "Topic 09: labour, party, corbyn, leader, mps, brexit, jeremy, ukip, voters, election\n",
      "Topic 10: mental, health, people, children, services, depression, illness, problems, young, support\n",
      "Topic 11: growth, economy, brexit, markets, pound, prices, rates, uk, inflation, market\n",
      "Topic 12: league, premier, season, football, club, clubs, players, champions, fans, villa\n",
      "Topic 13: women, men, abortion, female, woman, gender, girls, male, sexual, sex\n",
      "Topic 14: clinton, hillary, sanders, trump, obama, democratic, election, campaign, presidential, voters\n",
      "Topic 15: ball, goal, palace, everton, half, west, sunderland, corner, watford, shot\n",
      "Topic 16: commission, banks, royal, labor, turnbull, australia, government, asic, financial, banking\n",
      "Topic 17: amazon, customers, service, delivery, uk, products, company, online, food, fresh\n",
      "Topic 18: cameron, johnson, minister, prime, boris, gove, tory, campaign, eu, secretary\n",
      "Topic 19: cruz, rubio, republican, sanders, ted, trump, kasich, senator, delegates, iowa\n",
      "Topic 20: vote, referendum, leave, remain, eu, campaign, brexit, people, voters, voted\n",
      "Topic 21: doctors, junior, hunt, bma, nhs, patients, contract, strike, doctor, medical\n",
      "Topic 22: leicester, ranieri, vardy, city, mahrez, season, title, team, league, claudio\n",
      "Topic 23: police, court, law, security, russia, crime, case, government, rights, abuse\n",
      "Topic 24: zika, pollution, climate, air, virus, health, disease, change, global, environmental\n",
      "Topic 25: ireland, northern, abortion, irish, border, uk, brexit, court, dublin, belfast\n",
      "Topic 26: barclays, prize, promoter, tickets, entries, competition, details, winners, entry, n1\n",
      "Topic 27: film, films, movie, star, director, hollywood, actor, drama, festival, cinema\n",
      "Topic 28: cancer, alcohol, breast, drinking, treatment, disease, research, patients, study, diagnosed\n",
      "Topic 29: liverpool, klopp, firmino, lallana, milner, coutinho, goal, sturridge, ball, swansea\n",
      "Topic 30: united, mourinho, manchester, rooney, gaal, ibrahimovic, van, mata, pogba, rashford\n"
     ]
    }
   ],
   "source": [
    "descriptors = []\n",
    "for topic_index in range(k):\n",
    "    descriptors.append( get_descriptor( terms, H, topic_index, 10 ) )\n",
    "    str_descriptor = \", \".join( descriptors[topic_index] )\n",
    "    print(\"Topic %02d: %s\" % ( topic_index+1, str_descriptor ) )"
   ]
  },
  {
   "cell_type": "markdown",
   "metadata": {},
   "source": [
    "The rankings above do not show the strength of association for the different terms. We can represent the distribution of the weights for the top terms in a topic using a *matplotlib* horizontal bar chart."
   ]
  },
  {
   "cell_type": "code",
   "execution_count": 15,
   "metadata": {},
   "outputs": [],
   "source": [
    "%matplotlib inline\n",
    "import numpy as np\n",
    "import matplotlib\n",
    "import matplotlib.pyplot as plt\n",
    "plt.style.use(\"ggplot\")\n",
    "matplotlib.rcParams.update({\"font.size\": 14})"
   ]
  },
  {
   "cell_type": "markdown",
   "metadata": {},
   "source": [
    "Define a function to create a bar chart for the specified topic, based on the *H* factor from the current NMF model:"
   ]
  },
  {
   "cell_type": "code",
   "execution_count": 16,
   "metadata": {},
   "outputs": [],
   "source": [
    "def plot_top_term_weights( terms, H, topic_index, top ):\n",
    "    # get the top terms and their weights\n",
    "    top_indices = np.argsort( H[topic_index,:] )[::-1]\n",
    "    top_terms = []\n",
    "    top_weights = []\n",
    "    for term_index in top_indices[0:top]:\n",
    "        top_terms.append( terms[term_index] )\n",
    "        top_weights.append( H[topic_index,term_index] )\n",
    "    # note we reverse the ordering for the plot\n",
    "    top_terms.reverse()\n",
    "    top_weights.reverse()\n",
    "    # create the plot\n",
    "    fig = plt.figure(figsize=(13,8))\n",
    "    # add the horizontal bar chart\n",
    "    ypos = np.arange(top)\n",
    "    ax = plt.barh(ypos, top_weights, align=\"center\", color=\"green\",tick_label=top_terms)\n",
    "    plt.xlabel(\"Term Weight\",fontsize=14)\n",
    "    plt.tight_layout()\n",
    "    plt.show()"
   ]
  },
  {
   "cell_type": "markdown",
   "metadata": {},
   "source": [
    "So for instance, for the 7th topic (index 6 !!! ) we can generate a plot with the top 15 terms using:"
   ]
  },
  {
   "cell_type": "code",
   "execution_count": 17,
   "metadata": {
    "scrolled": true
   },
   "outputs": [
    {
     "data": {
      "image/png": "[encoded data removed]",
      "text/plain": [
       "<Figure size 936x576 with 1 Axes>"
      ]
     },
     "metadata": {},
     "output_type": "display_data"
    }
   ],
   "source": [
    "plot_top_term_weights( terms, H, 6, 15 )"
   ]
  },
  {
   "cell_type": "markdown",
   "metadata": {},
   "source": [
    "#### Questions:\n",
    "1. Sometimes, it may be required to compare more terms wrt the topic. How can you invoke plot_top_term_weights() to list more terms for the purpose of comparson.\n",
    "2. If after inspecting the terms and you find some terms not relevant but carry a heavy weightable, what can you do to disregard those terms?\n",
    "3. Should there be a need to inspect the same number of terms, for each topic? \n",
    "    \n"
   ]
  },
  {
   "cell_type": "code",
   "execution_count": null,
   "metadata": {},
   "outputs": [],
   "source": []
  },
  {
   "cell_type": "markdown",
   "metadata": {},
   "source": [
    "#### Exercises:\n",
    "1. Call the function to display the distribution for topic 8 in a horizontal bar chart.\n",
    "2. Inspect more terms ( for example 50) for topic 8. Which terms are meaningful?"
   ]
  },
  {
   "cell_type": "code",
   "execution_count": 9,
   "metadata": {},
   "outputs": [
    {
     "name": "stdin",
     "output_type": "stream",
     "text": [
      "which topic: 5\n",
      "which terms: 12\n"
     ]
    },
    {
     "data": {
      "image/png": "[encoded data removed]",
      "text/plain": [
       "<Figure size 936x576 with 1 Axes>"
      ]
     },
     "metadata": {
      "needs_background": "light"
     },
     "output_type": "display_data"
    }
   ],
   "source": [
    "ntopic = int(input('which topic:'))\n",
    "nterms = int(input('which terms:'))\n",
    "plot_top_term_weights( terms, H, ntopic, nterms )"
   ]
  },
  {
   "cell_type": "markdown",
   "metadata": {},
   "source": [
    "#### Reference:\n",
    "\n",
    "https://github.com/derekgreene/topic-model-tutorial"
   ]
  },
  {
   "cell_type": "code",
   "execution_count": null,
   "metadata": {},
   "outputs": [],
   "source": []
  }
 ],
 "metadata": {
  "kernelspec": {
   "display_name": "Python 3",
   "language": "python",
   "name": "python3"
  },
  "language_info": {
   "codemirror_mode": {
    "name": "ipython",
    "version": 3
   },
   "file_extension": ".py",
   "mimetype": "text/x-python",
   "name": "python",
   "nbconvert_exporter": "python",
   "pygments_lexer": "ipython3",
   "version": "3.7.4"
  }
 },
 "nbformat": 4,
 "nbformat_minor": 4
}
