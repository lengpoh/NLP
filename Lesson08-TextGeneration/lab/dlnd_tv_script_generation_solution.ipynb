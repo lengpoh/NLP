{
 "cells": [
  {
   "cell_type": "markdown",
   "metadata": {},
   "source": [
    "# TV Script Generation\n",
    "In this project, you'll generate your own [Simpsons](https://en.wikipedia.org/wiki/The_Simpsons) TV scripts using RNNs.  You'll be using part of the [Simpsons dataset](https://www.kaggle.com/wcukierski/the-simpsons-by-the-data) of scripts from 27 seasons.  The Neural Network you'll build will generate a new TV script for a scene at [Moe's Tavern](https://simpsonswiki.com/wiki/Moe's_Tavern).\n",
    "## Get the Data\n",
    "The data is already provided for you.  You'll be using a subset of the original dataset.  It consists of only the scenes in Moe's Tavern.  This doesn't include other versions of the tavern, like \"Moe's Cavern\", \"Flaming Moe's\", \"Uncle Moe's Family Feed-Bag\", etc.."
   ]
  },
  {
   "cell_type": "code",
   "execution_count": 1,
   "metadata": {},
   "outputs": [],
   "source": [
    "\"\"\"\n",
    "DON'T MODIFY ANYTHING IN THIS CELL\n",
    "\"\"\"\n",
    "import helper\n",
    "\n",
    "data_dir = './data/simpsons/moes_tavern_lines.txt'\n",
    "text = helper.load_data(data_dir)\n",
    "# Ignore notice, since we don't use it for analysing the data\n",
    "text = text[81:]"
   ]
  },
  {
   "cell_type": "markdown",
   "metadata": {},
   "source": [
    "## Explore the Data\n",
    "Play around with `view_sentence_range` to view different parts of the data."
   ]
  },
  {
   "cell_type": "code",
   "execution_count": 2,
   "metadata": {
    "scrolled": false
   },
   "outputs": [
    {
     "name": "stdout",
     "output_type": "stream",
     "text": [
      "Dataset Stats\n",
      "Roughly the number of unique words: 11492\n",
      "Number of scenes: 262\n",
      "Average number of sentences in each scene: 15.248091603053435\n",
      "Number of lines: 4257\n",
      "Average number of words in each line: 11.50434578341555\n",
      "\n",
      "The sentences 0 to 10:\n",
      "Moe_Szyslak: (INTO PHONE) Moe's Tavern. Where the elite meet to drink.\n",
      "Bart_Simpson: Eh, yeah, hello, is Mike there? Last name, Rotch.\n",
      "Moe_Szyslak: (INTO PHONE) Hold on, I'll check. (TO BARFLIES) Mike Rotch. Mike Rotch. Hey, has anybody seen Mike Rotch, lately?\n",
      "Moe_Szyslak: (INTO PHONE) Listen you little puke. One of these days I'm gonna catch you, and I'm gonna carve my name on your back with an ice pick.\n",
      "Moe_Szyslak: What's the matter Homer? You're not your normal effervescent self.\n",
      "Homer_Simpson: I got my problems, Moe. Give me another one.\n",
      "Moe_Szyslak: Homer, hey, you should not drink to forget your problems.\n",
      "Barney_Gumble: Yeah, you should only drink to enhance your social skills.\n",
      "\n",
      "\n"
     ]
    }
   ],
   "source": [
    "view_sentence_range = (0, 10)\n",
    "\n",
    "\"\"\"\n",
    "DON'T MODIFY ANYTHING IN THIS CELL\n",
    "\"\"\"\n",
    "import numpy as np\n",
    "\n",
    "print('Dataset Stats')\n",
    "print('Roughly the number of unique words: {}'.format(len({word: None for word in text.split()})))\n",
    "scenes = text.split('\\n\\n')\n",
    "print('Number of scenes: {}'.format(len(scenes)))\n",
    "sentence_count_scene = [scene.count('\\n') for scene in scenes]\n",
    "print('Average number of sentences in each scene: {}'.format(np.average(sentence_count_scene)))\n",
    "\n",
    "sentences = [sentence for scene in scenes for sentence in scene.split('\\n')]\n",
    "print('Number of lines: {}'.format(len(sentences)))\n",
    "word_count_sentence = [len(sentence.split()) for sentence in sentences]\n",
    "print('Average number of words in each line: {}'.format(np.average(word_count_sentence)))\n",
    "\n",
    "print()\n",
    "print('The sentences {} to {}:'.format(*view_sentence_range))\n",
    "print('\\n'.join(text.split('\\n')[view_sentence_range[0]:view_sentence_range[1]]))"
   ]
  },
  {
   "cell_type": "markdown",
   "metadata": {},
   "source": [
    "## Implement Preprocessing Functions\n",
    "The first thing to do to any dataset is preprocessing.  Implement the following preprocessing functions below:\n",
    "- Lookup Table\n",
    "- Tokenize Punctuation\n",
    "\n",
    "### Lookup Table\n",
    "To create a word embedding, you first need to transform the words to ids.  In this function, create two dictionaries:\n",
    "- Dictionary to go from the words to an id, we'll call `vocab_to_int`\n",
    "- Dictionary to go from the id to word, we'll call `int_to_vocab`\n",
    "\n",
    "Return these dictionaries in the following tuple `(vocab_to_int, int_to_vocab)`"
   ]
  },
  {
   "cell_type": "code",
   "execution_count": 3,
   "metadata": {},
   "outputs": [
    {
     "name": "stdout",
     "output_type": "stream",
     "text": [
      "Tests Passed\n"
     ]
    }
   ],
   "source": [
    "import numpy as np\n",
    "import problem_unittests as tests\n",
    "#import python_utils as utils\n",
    "from collections import Counter\n",
    "\n",
    "def create_lookup_tables(text):\n",
    "    \"\"\"\n",
    "    Create lookup tables for vocabulary\n",
    "    :param text: The text of tv scripts split into words\n",
    "    :return: A tuple of dicts (vocab_to_int, int_to_vocab)\n",
    "    \"\"\"\n",
    "    # TODO: Implement Function\n",
    "    # words = utils.preprocessor(text)\n",
    "    words = text\n",
    "    word_counts = Counter(words)\n",
    "    sorted_vocab = sorted(word_counts, key=word_counts.get, reverse=True)\n",
    "    int_to_vocab = {ii: word for ii, word in enumerate(sorted_vocab)}\n",
    "    vocab_to_int = {word: ii for ii, word in int_to_vocab.items()}\n",
    "\n",
    "    return (vocab_to_int, int_to_vocab)\n",
    "\n",
    "\n",
    "\"\"\"\n",
    "DON'T MODIFY ANYTHING IN THIS CELL THAT IS BELOW THIS LINE\n",
    "\"\"\"\n",
    "tests.test_create_lookup_tables(create_lookup_tables)"
   ]
  },
  {
   "cell_type": "markdown",
   "metadata": {},
   "source": [
    "### Tokenize Punctuation\n",
    "We'll be splitting the script into a word array using spaces as delimiters.  However, punctuations like periods and exclamation marks make it hard for the neural network to distinguish between the word \"bye\" and \"bye!\".\n",
    "\n",
    "Implement the function `token_lookup` to return a dict that will be used to tokenize symbols like \"!\" into \"||Exclamation_Mark||\".  Create a dictionary for the following symbols where the symbol is the key and value is the token:\n",
    "- Period ( . )\n",
    "- Comma ( , )\n",
    "- Quotation Mark ( \" )\n",
    "- Semicolon ( ; )\n",
    "- Exclamation mark ( ! )\n",
    "- Question mark ( ? )\n",
    "- Left Parentheses ( ( )\n",
    "- Right Parentheses ( ) )\n",
    "- Dash ( -- )\n",
    "- Return ( \\n )\n",
    "\n",
    "This dictionary will be used to token the symbols and add the delimiter (space) around it.  This separates the symbols as it's own word, making it easier for the neural network to predict on the next word. Make sure you don't use a token that could be confused as a word. Instead of using the token \"dash\", try using something like \"||dash||\"."
   ]
  },
  {
   "cell_type": "code",
   "execution_count": 4,
   "metadata": {},
   "outputs": [
    {
     "name": "stdout",
     "output_type": "stream",
     "text": [
      "Tests Passed\n"
     ]
    }
   ],
   "source": [
    "def token_lookup():\n",
    "    \"\"\"\n",
    "    Generate a dict to turn punctuation into a token.\n",
    "    :return: Tokenize dictionary where the key is the punctuation and the value is the token\n",
    "    \"\"\"\n",
    "    # TODO: Implement Function\n",
    "    #the syntax is: mydict[key] = \"value\"\n",
    "    mydict = {}\n",
    "    mydict[\".\"] = \"||PERIOD||\"\n",
    "    mydict[\",\"] = \"||COMMA||\"\n",
    " #   mydict[\"'\"] = \"||QUOTATION||\"\n",
    "    mydict[\";\"] = \"||SEMICOLON||\"\n",
    "    mydict[\"!\"] = \"||EXCLAMATIONMARK||\"\n",
    "    mydict[\"?\"] = \"||QUESTIONMARK||\"\n",
    "    mydict[\"(\"] = \"||LEFTPARA||\"\n",
    "    mydict[\")\"] = \"||RIGHTPARA||\"\n",
    "    mydict[\"--\"] = \"||DASH||\"\n",
    "    mydict[\"\\n\"] = \"||RETURN||\"\n",
    "#    mydict[\"\\\"] = \"||BACKSLASH||\" \n",
    "    mydict['\"'] = \"||DBLQUOTATION||\" \n",
    "\n",
    "    return mydict\n",
    "\n",
    "\"\"\"\n",
    "DON'T MODIFY ANYTHING IN THIS CELL THAT IS BELOW THIS LINE\n",
    "\"\"\"\n",
    "tests.test_tokenize(token_lookup)"
   ]
  },
  {
   "cell_type": "markdown",
   "metadata": {},
   "source": [
    "## Preprocess all the data and save it\n",
    "Running the code cell below will preprocess all the data and save it to file."
   ]
  },
  {
   "cell_type": "code",
   "execution_count": 5,
   "metadata": {},
   "outputs": [],
   "source": [
    "\"\"\"\n",
    "DON'T MODIFY ANYTHING IN THIS CELL\n",
    "\"\"\"\n",
    "# Preprocess Training, Validation, and Testing Data\n",
    "helper.preprocess_and_save_data(data_dir, token_lookup, create_lookup_tables)"
   ]
  },
  {
   "cell_type": "markdown",
   "metadata": {},
   "source": [
    "# Check Point\n",
    "This is your first checkpoint. If you ever decide to come back to this notebook or have to restart the notebook, you can start from here. The preprocessed data has been saved to disk."
   ]
  },
  {
   "cell_type": "code",
   "execution_count": 6,
   "metadata": {},
   "outputs": [],
   "source": [
    "\"\"\"\n",
    "DON'T MODIFY ANYTHING IN THIS CELL\n",
    "\"\"\"\n",
    "import helper\n",
    "import numpy as np\n",
    "import problem_unittests as tests\n",
    "\n",
    "int_text, vocab_to_int, int_to_vocab, token_dict = helper.load_preprocess()"
   ]
  },
  {
   "cell_type": "markdown",
   "metadata": {},
   "source": [
    "## Build the Neural Network\n",
    "You'll build the components necessary to build a RNN by implementing the following functions below:\n",
    "- get_inputs\n",
    "- get_init_cell\n",
    "- get_embed\n",
    "- build_rnn\n",
    "- build_nn\n",
    "- get_batches\n",
    "\n",
    "### Check the Version of TensorFlow and Access to GPU"
   ]
  },
  {
   "cell_type": "code",
   "execution_count": 7,
   "metadata": {},
   "outputs": [
    {
     "name": "stdout",
     "output_type": "stream",
     "text": [
      "TensorFlow Version: 1.0.0\n"
     ]
    },
    {
     "name": "stderr",
     "output_type": "stream",
     "text": [
      "/Users/tanpohkeam/anaconda3/envs/py35/lib/python3.5/site-packages/ipykernel_launcher.py:14: UserWarning: No GPU found. Please use a GPU to train your neural network.\n",
      "  \n"
     ]
    }
   ],
   "source": [
    "\"\"\"\n",
    "DON'T MODIFY ANYTHING IN THIS CELL\n",
    "\"\"\"\n",
    "from distutils.version import LooseVersion\n",
    "import warnings\n",
    "import tensorflow as tf\n",
    "\n",
    "# Check TensorFlow Version\n",
    "assert LooseVersion(tf.__version__) >= LooseVersion('1.0'), 'Please use TensorFlow version 1.0 or newer'\n",
    "print('TensorFlow Version: {}'.format(tf.__version__))\n",
    "\n",
    "# Check for a GPU\n",
    "if not tf.test.gpu_device_name():\n",
    "    warnings.warn('No GPU found. Please use a GPU to train your neural network.')\n",
    "else:\n",
    "    print('Default GPU Device: {}'.format(tf.test.gpu_device_name()))"
   ]
  },
  {
   "cell_type": "markdown",
   "metadata": {},
   "source": [
    "### Input\n",
    "Implement the `get_inputs()` function to create TF Placeholders for the Neural Network.  It should create the following placeholders:\n",
    "- Input text placeholder named \"input\" using the [TF Placeholder](https://www.tensorflow.org/api_docs/python/tf/placeholder) `name` parameter.\n",
    "- Targets placeholder\n",
    "- Learning Rate placeholder\n",
    "\n",
    "Return the placeholders in the following tuple `(Input, Targets, LearningRate)`"
   ]
  },
  {
   "cell_type": "code",
   "execution_count": 8,
   "metadata": {},
   "outputs": [
    {
     "name": "stdout",
     "output_type": "stream",
     "text": [
      "Tests Passed\n"
     ]
    }
   ],
   "source": [
    "def get_inputs():\n",
    "    \"\"\"\n",
    "    Create TF Placeholders for input, targets, and learning rate.\n",
    "    :return: Tuple (input, targets, learning rate)\n",
    "    \"\"\"\n",
    "    # TODO: Implement Function\n",
    "    input = tf.placeholder(tf.int32, (None,None), name ='input')\n",
    "    targets = tf.placeholder(tf.int32, (None,None), name ='targets')\n",
    "    learningrate = tf.placeholder(tf.float32,(None), name ='learningrate')\n",
    "    return input, targets, learningrate\n",
    "\n",
    "\n",
    "\"\"\"\n",
    "DON'T MODIFY ANYTHING IN THIS CELL THAT IS BELOW THIS LINE\n",
    "\"\"\"\n",
    "tests.test_get_inputs(get_inputs)"
   ]
  },
  {
   "cell_type": "markdown",
   "metadata": {},
   "source": [
    "### Build RNN Cell and Initialize\n",
    "Stack one or more [`BasicLSTMCells`](https://www.tensorflow.org/api_docs/python/tf/contrib/rnn/BasicLSTMCell) in a [`MultiRNNCell`](https://www.tensorflow.org/api_docs/python/tf/contrib/rnn/MultiRNNCell).\n",
    "- The Rnn size should be set using `rnn_size`\n",
    "- Initalize Cell State using the MultiRNNCell's [`zero_state()`](https://www.tensorflow.org/api_docs/python/tf/contrib/rnn/MultiRNNCell#zero_state) function\n",
    "    - Apply the name \"initial_state\" to the initial state using [`tf.identity()`](https://www.tensorflow.org/api_docs/python/tf/identity)\n",
    "\n",
    "Return the cell and initial state in the following tuple `(Cell, InitialState)`"
   ]
  },
  {
   "cell_type": "markdown",
   "metadata": {},
   "source": [
    "### Word Embedding\n",
    "Apply embedding to `input_data` using TensorFlow.  Return the embedded sequence."
   ]
  },
  {
   "cell_type": "code",
   "execution_count": 9,
   "metadata": {
    "scrolled": false
   },
   "outputs": [
    {
     "name": "stdout",
     "output_type": "stream",
     "text": [
      "Tests Passed\n"
     ]
    }
   ],
   "source": [
    "def get_init_cell(batch_size, rnn_size):\n",
    "    \"\"\"\n",
    "    Create an RNN Cell and initialize it.\n",
    "    :param batch_size: Size of batches\n",
    "    :param rnn_size: Size of RNNs\n",
    "    :return: Tuple (cell, initialize state)\n",
    "    \"\"\"\n",
    "    # TODO: Implement Function\n",
    "    lstm = tf.contrib.rnn.BasicLSTMCell(rnn_size)\n",
    "# remove the drop layer as adviced in forum    \n",
    "#    drop = tf.contrib.rnn.DropoutWrapper(lstm, output_keep_prob = 0.2)\n",
    "    cell = tf.contrib.rnn.MultiRNNCell([lstm] * 3)\n",
    "  #  cell = tf.contrib.rnn.MultiRNNCell(lstm)\n",
    "    initial_state = tf.identity(cell.zero_state(batch_size, tf.float32), name=\"initial_state\")\n",
    "    return cell, initial_state\n",
    "\n",
    "\n",
    "\n",
    "\"\"\"\n",
    "DON'T MODIFY ANYTHING IN THIS CELL THAT IS BELOW THIS LINE\n",
    "\"\"\"\n",
    "tests.test_get_init_cell(get_init_cell)"
   ]
  },
  {
   "cell_type": "code",
   "execution_count": 10,
   "metadata": {
    "scrolled": true
   },
   "outputs": [
    {
     "name": "stdout",
     "output_type": "stream",
     "text": [
      "Tests Passed\n"
     ]
    }
   ],
   "source": [
    "def get_embed(input_data, vocab_size, embed_dim):\n",
    "    \"\"\"\n",
    "    Create embedding for <input_data>.\n",
    "    :param input_data: TF placeholder for text input.\n",
    "    :param vocab_size: Number of words in vocabulary.\n",
    "    :param embed_dim: Number of embedding dimensions\n",
    "    :return: Embedded input.\n",
    "    \"\"\"\n",
    "    # TODO: Implement Function\n",
    "        \n",
    "\n",
    "    n_vocab = vocab_size\n",
    "    n_embedding = embed_dim # Number of embedding features \n",
    "    #train_graph = tf.Graph()\n",
    "\n",
    "    # base on the forum, may need to change to weights to smaller value from 1 to 0.1\n",
    "    embedding = tf.Variable(tf.random_uniform((n_vocab, n_embedding), -0.1, 0.1))\n",
    "    embed = tf.nn.embedding_lookup(embedding, input_data)\n",
    "\n",
    "    return embed\n",
    "\n",
    "\n",
    "\"\"\"\n",
    "DON'T MODIFY ANYTHING IN THIS CELL THAT IS BELOW THIS LINE\n",
    "\"\"\"\n",
    "tests.test_get_embed(get_embed)"
   ]
  },
  {
   "cell_type": "markdown",
   "metadata": {},
   "source": [
    "### Build RNN\n",
    "You created a RNN Cell in the `get_init_cell()` function.  Time to use the cell to create a RNN.\n",
    "- Build the RNN using the [`tf.nn.dynamic_rnn()`](https://www.tensorflow.org/api_docs/python/tf/nn/dynamic_rnn)\n",
    " - Apply the name \"final_state\" to the final state using [`tf.identity()`](https://www.tensorflow.org/api_docs/python/tf/identity)\n",
    "\n",
    "Return the outputs and final_state state in the following tuple `(Outputs, FinalState)` "
   ]
  },
  {
   "cell_type": "code",
   "execution_count": 11,
   "metadata": {},
   "outputs": [
    {
     "name": "stdout",
     "output_type": "stream",
     "text": [
      "Tests Passed\n"
     ]
    }
   ],
   "source": [
    "def build_rnn(cell, inputs):\n",
    "    \"\"\"\n",
    "    Create a RNN using a RNN Cell\n",
    "    :param cell: RNN Cell\n",
    "    :param inputs: Input text data\n",
    "    :return: Tuple (Outputs, Final State)\n",
    "    \"\"\"  \n",
    "    \n",
    "#    initial_state = cell.zero_state(2, dtype=tf.float32)\n",
    "    \n",
    " #   outputs, final_state = tf.nn.dynamic_rnn(cell, inputs, initial_state=initial_state,dtype=tf.float32)\n",
    "    # \n",
    "    \n",
    "    outputs, final_state = tf.nn.dynamic_rnn(cell, inputs, dtype=tf.float32)\n",
    "    final_state = tf.identity(final_state,  name=\"final_state\")\n",
    "    outputs = tf.identity(outputs,  name=\"final_state\")\n",
    "\n",
    "    \n",
    "    return outputs , final_state\n",
    "     \n",
    "\"\"\"\n",
    "DONT MODIFY ANYTHING IN THIS CELL THAT IS BELOW THIS LINE\n",
    "\"\"\"\n",
    "tests.test_build_rnn(build_rnn)"
   ]
  },
  {
   "cell_type": "markdown",
   "metadata": {},
   "source": [
    "### Build the Neural Network\n",
    "Apply the functions you implemented above to:\n",
    "- Apply embedding to `input_data` using your `get_embed(input_data, vocab_size, embed_dim)` function.\n",
    "- Build RNN using `cell` and your `build_rnn(cell, inputs)` function.\n",
    "- Apply a fully connected layer with a linear activation and `vocab_size` as the number of outputs.\n",
    "\n",
    "Return the logits and final state in the following tuple (Logits, FinalState) "
   ]
  },
  {
   "cell_type": "code",
   "execution_count": 12,
   "metadata": {},
   "outputs": [
    {
     "name": "stdout",
     "output_type": "stream",
     "text": [
      "Tests Passed\n"
     ]
    }
   ],
   "source": [
    "def build_nn(cell, rnn_size, input_data, vocab_size, embed_dim):\n",
    "    \"\"\"\n",
    "    Build part of the neural network\n",
    "    :param cell: RNN cell\n",
    "    :param rnn_size: Size of rnns\n",
    "    :param input_data: Input data\n",
    "    :param vocab_size: Vocabulary size\n",
    "    :param embed_dim: Number of embedding dimensions\n",
    "    :return: Tuple (Logits, FinalState)\n",
    "    \"\"\"\n",
    "    # TODO: Implement Function\n",
    "    \n",
    "    embedded_input = get_embed(input_data, vocab_size, embed_dim)\n",
    "    outputs, final_state = build_rnn(cell, embedded_input)\n",
    "#   from docu: activation_fn: Activation function. The default value is a ReLU function. Explicitly set it to None to skip it and maintain a linear activation.    \n",
    "    logits = tf.contrib.layers.fully_connected(outputs,vocab_size,activation_fn = None)\n",
    "    return (logits, final_state)\n",
    "    \n",
    "\n",
    "\n",
    "\"\"\"\n",
    "DON'T MODIFY ANYTHING IN THIS CELL THAT IS BELOW THIS LINE\n",
    "\"\"\"\n",
    "tests.test_build_nn(build_nn)"
   ]
  },
  {
   "cell_type": "markdown",
   "metadata": {},
   "source": [
    "### Batches\n",
    "Implement `get_batches` to create batches of input and targets using `int_text`.  The batches should be a Numpy array with the shape `(number of batches, 2, batch size, sequence length)`. Each batch contains two elements:\n",
    "- The first element is a single batch of **input** with the shape `[batch size, sequence length]`\n",
    "- The second element is a single batch of **targets** with the shape `[batch size, sequence length]`\n",
    "\n",
    "If you can't fill the last batch with enough data, drop the last batch.\n",
    "\n",
    "For exmple, `get_batches([1, 2, 3, 4, 5, 6, 7, 8, 9, 10, 11, 12, 13, 14, 15, 16, 17, 18, 19, 20], 3, 2)` would return a Numpy array of the following:\n",
    "```\n",
    "[\n",
    "  # First Batch\n",
    "  [\n",
    "    # Batch of Input\n",
    "    [[ 1  2], [ 7  8], [13 14]]\n",
    "    # Batch of targets\n",
    "    [[ 2  3], [ 8  9], [14 15]]\n",
    "  ]\n",
    "\n",
    "  # Second Batch\n",
    "  [\n",
    "    # Batch of Input\n",
    "    [[ 3  4], [ 9 10], [15 16]]\n",
    "    # Batch of targets\n",
    "    [[ 4  5], [10 11], [16 17]]\n",
    "  ]\n",
    "\n",
    "  # Third Batch\n",
    "  [\n",
    "    # Batch of Input\n",
    "    [[ 5  6], [11 12], [17 18]]\n",
    "    # Batch of targets\n",
    "    [[ 6  7], [12 13], [18  1]]\n",
    "  ]\n",
    "]\n",
    "```\n",
    "\n",
    "Notice that the last target value in the last batch is the first input value of the first batch. In this case, `1`. This is a common technique used when creating sequence batches, although it is rather unintuitive."
   ]
  },
  {
   "cell_type": "code",
   "execution_count": 13,
   "metadata": {},
   "outputs": [
    {
     "name": "stdout",
     "output_type": "stream",
     "text": [
      "Tests Passed\n"
     ]
    }
   ],
   "source": [
    "def get_batches(int_text, batch_size, seq_length):\n",
    "    \"\"\"\n",
    "    Return batches of input and target\n",
    "    :param int_text: Text with the words replaced by their ids\n",
    "    :param batch_size: The size of batch\n",
    "    :param seq_length: The length of sequence\n",
    "    :return: Batches as a Numpy array\n",
    "    \"\"\"\n",
    "    # TODO: Implement Function\n",
    "\n",
    "    n_batches = int(len(int_text) / (batch_size * seq_length))\n",
    "\n",
    "    # Drop the last few characters to make only full batches\n",
    "    xdata = np.array(int_text[: n_batches * batch_size * seq_length])\n",
    "    ydata = np.array(int_text[1: n_batches * batch_size * seq_length + 1])\n",
    "\n",
    "# The line below was inserted to make the last element in y_data\n",
    "# to be of same value of xdata\n",
    "# Solution derived from looking forum\n",
    "    ydata[-1] = xdata[0]\n",
    "    \n",
    "    x_batches = np.split(xdata.reshape(batch_size, -1), n_batches, 1)\n",
    "    y_batches = np.split(ydata.reshape(batch_size, -1), n_batches, 1)\n",
    " \n",
    "\n",
    "    return np.array(list(zip(x_batches, y_batches)))\n",
    "\n",
    "\"\"\"\n",
    "DON'T MODIFY ANYTHING IN THIS CELL THAT IS BELOW THIS LINE\n",
    "\"\"\"\n",
    "tests.test_get_batches(get_batches)"
   ]
  },
  {
   "cell_type": "markdown",
   "metadata": {},
   "source": [
    "## Neural Network Training\n",
    "### Hyperparameters\n",
    "Tune the following parameters:\n",
    "\n",
    "- Set `num_epochs` to the number of epochs.\n",
    "- Set `batch_size` to the batch size.\n",
    "- Set `rnn_size` to the size of the RNNs.\n",
    "- Set `embed_dim` to the size of the embedding.\n",
    "- Set `seq_length` to the length of sequence.\n",
    "- Set `learning_rate` to the learning rate.\n",
    "- Set `show_every_n_batches` to the number of batches the neural network should print progress."
   ]
  },
  {
   "cell_type": "code",
   "execution_count": 14,
   "metadata": {},
   "outputs": [],
   "source": [
    "# Number of Epochs\n",
    "num_epochs = 500\n",
    "# Batch Size\n",
    "batch_size = 32\n",
    "# RNN Size  (number of hidden layers in LSTM cell that is the number of hidden nodes)\n",
    "rnn_size = 256\n",
    "# Embedding Dimension Size\n",
    "embed_dim = 128\n",
    "# Sequence Length\n",
    "seq_length = 100\n",
    "# Learning Rate\n",
    "learning_rate = 0.01\n",
    "# Show stats for every n number of batches\n",
    "show_every_n_batches = 50\n",
    "\n",
    "\"\"\"\n",
    "DON'T MODIFY ANYTHING IN THIS CELL THAT IS BELOW THIS LINE\n",
    "\"\"\"\n",
    "save_dir = './save'"
   ]
  },
  {
   "cell_type": "markdown",
   "metadata": {},
   "source": [
    "### Build the Graph\n",
    "Build the graph using the neural network you implemented."
   ]
  },
  {
   "cell_type": "code",
   "execution_count": 15,
   "metadata": {
    "scrolled": false
   },
   "outputs": [],
   "source": [
    "\"\"\"\n",
    "DON'T MODIFY ANYTHING IN THIS CELL\n",
    "\"\"\"\n",
    "from tensorflow.contrib import seq2seq\n",
    "\n",
    "train_graph = tf.Graph()\n",
    "with train_graph.as_default():\n",
    "    vocab_size = len(int_to_vocab)\n",
    "    input_text, targets, lr = get_inputs()\n",
    "    input_data_shape = tf.shape(input_text)\n",
    "    cell, initial_state = get_init_cell(input_data_shape[0], rnn_size)\n",
    "    logits, final_state = build_nn(cell, rnn_size, input_text, vocab_size, embed_dim)\n",
    "\n",
    "    # Probabilities for generating words\n",
    "    probs = tf.nn.softmax(logits, name='probs')\n",
    "\n",
    "    # Loss function\n",
    "    cost = seq2seq.sequence_loss(\n",
    "        logits,\n",
    "        targets,\n",
    "        tf.ones([input_data_shape[0], input_data_shape[1]]))\n",
    "\n",
    "    # Optimizer\n",
    "    optimizer = tf.train.AdamOptimizer(lr)\n",
    "\n",
    "    # Gradient Clipping\n",
    "    gradients = optimizer.compute_gradients(cost)\n",
    "    capped_gradients = [(tf.clip_by_value(grad, -1., 1.), var) for grad, var in gradients if grad is not None]\n",
    "    train_op = optimizer.apply_gradients(capped_gradients)"
   ]
  },
  {
   "cell_type": "markdown",
   "metadata": {},
   "source": [
    "## Train\n",
    "Train the neural network on the preprocessed data.  If you have a hard time getting a good loss, check the [forums](https://discussions.udacity.com/) to see if anyone is having the same problem."
   ]
  },
  {
   "cell_type": "code",
   "execution_count": 17,
   "metadata": {
    "scrolled": false
   },
   "outputs": [
    {
     "name": "stdout",
     "output_type": "stream",
     "text": [
      "Epoch   0 Batch    0/21   train_loss = 8.822\n",
      "Epoch   2 Batch    8/21   train_loss = 6.230\n",
      "Epoch   4 Batch   16/21   train_loss = 6.351\n",
      "Epoch   7 Batch    3/21   train_loss = 6.221\n",
      "Epoch   9 Batch   11/21   train_loss = 6.107\n",
      "Epoch  11 Batch   19/21   train_loss = 6.134\n",
      "Epoch  14 Batch    6/21   train_loss = 6.006\n",
      "Epoch  16 Batch   14/21   train_loss = 5.951\n",
      "Epoch  19 Batch    1/21   train_loss = 5.944\n",
      "Epoch  21 Batch    9/21   train_loss = 5.866\n",
      "Epoch  23 Batch   17/21   train_loss = 5.367\n",
      "Epoch  26 Batch    4/21   train_loss = 4.898\n",
      "Epoch  28 Batch   12/21   train_loss = 4.609\n",
      "Epoch  30 Batch   20/21   train_loss = 4.666\n",
      "Epoch  33 Batch    7/21   train_loss = 4.415\n",
      "Epoch  35 Batch   15/21   train_loss = 4.235\n",
      "Epoch  38 Batch    2/21   train_loss = 4.169\n",
      "Epoch  40 Batch   10/21   train_loss = 3.998\n",
      "Epoch  42 Batch   18/21   train_loss = 3.960\n",
      "Epoch  45 Batch    5/21   train_loss = 3.829\n",
      "Epoch  47 Batch   13/21   train_loss = 3.553\n",
      "Epoch  50 Batch    0/21   train_loss = 3.567\n",
      "Epoch  52 Batch    8/21   train_loss = 3.557\n",
      "Epoch  54 Batch   16/21   train_loss = 3.284\n",
      "Epoch  57 Batch    3/21   train_loss = 3.359\n",
      "Epoch  59 Batch   11/21   train_loss = 3.126\n",
      "Epoch  61 Batch   19/21   train_loss = 3.060\n",
      "Epoch  64 Batch    6/21   train_loss = 2.900\n",
      "Epoch  66 Batch   14/21   train_loss = 2.534\n",
      "Epoch  69 Batch    1/21   train_loss = 2.513\n",
      "Epoch  71 Batch    9/21   train_loss = 2.559\n",
      "Epoch  73 Batch   17/21   train_loss = 2.691\n",
      "Epoch  76 Batch    4/21   train_loss = 2.284\n",
      "Epoch  78 Batch   12/21   train_loss = 2.341\n",
      "Epoch  80 Batch   20/21   train_loss = 2.381\n",
      "Epoch  83 Batch    7/21   train_loss = 2.236\n",
      "Epoch  85 Batch   15/21   train_loss = 2.086\n",
      "Epoch  88 Batch    2/21   train_loss = 2.123\n",
      "Epoch  90 Batch   10/21   train_loss = 2.112\n",
      "Epoch  92 Batch   18/21   train_loss = 2.049\n",
      "Epoch  95 Batch    5/21   train_loss = 2.127\n",
      "Epoch  97 Batch   13/21   train_loss = 1.814\n",
      "Epoch 100 Batch    0/21   train_loss = 1.936\n",
      "Epoch 102 Batch    8/21   train_loss = 2.221\n",
      "Epoch 104 Batch   16/21   train_loss = 1.788\n",
      "Epoch 107 Batch    3/21   train_loss = 1.940\n",
      "Epoch 109 Batch   11/21   train_loss = 1.721\n",
      "Epoch 111 Batch   19/21   train_loss = 1.479\n",
      "Epoch 114 Batch    6/21   train_loss = 1.471\n",
      "Epoch 116 Batch   14/21   train_loss = 1.303\n",
      "Epoch 119 Batch    1/21   train_loss = 1.183\n",
      "Epoch 121 Batch    9/21   train_loss = 1.309\n",
      "Epoch 123 Batch   17/21   train_loss = 1.415\n",
      "Epoch 126 Batch    4/21   train_loss = 1.189\n",
      "Epoch 128 Batch   12/21   train_loss = 1.268\n",
      "Epoch 130 Batch   20/21   train_loss = 1.232\n",
      "Epoch 133 Batch    7/21   train_loss = 1.163\n",
      "Epoch 135 Batch   15/21   train_loss = 1.069\n",
      "Epoch 138 Batch    2/21   train_loss = 1.234\n",
      "Epoch 140 Batch   10/21   train_loss = 1.143\n",
      "Epoch 142 Batch   18/21   train_loss = 1.239\n",
      "Epoch 145 Batch    5/21   train_loss = 1.251\n",
      "Epoch 147 Batch   13/21   train_loss = 1.147\n",
      "Epoch 150 Batch    0/21   train_loss = 1.314\n",
      "Epoch 152 Batch    8/21   train_loss = 1.401\n",
      "Epoch 154 Batch   16/21   train_loss = 1.058\n",
      "Epoch 157 Batch    3/21   train_loss = 1.114\n",
      "Epoch 159 Batch   11/21   train_loss = 1.016\n",
      "Epoch 161 Batch   19/21   train_loss = 0.804\n",
      "Epoch 164 Batch    6/21   train_loss = 0.820\n",
      "Epoch 166 Batch   14/21   train_loss = 0.678\n",
      "Epoch 169 Batch    1/21   train_loss = 0.620\n",
      "Epoch 171 Batch    9/21   train_loss = 0.773\n",
      "Epoch 173 Batch   17/21   train_loss = 0.804\n",
      "Epoch 176 Batch    4/21   train_loss = 0.686\n",
      "Epoch 178 Batch   12/21   train_loss = 0.845\n",
      "Epoch 180 Batch   20/21   train_loss = 0.845\n",
      "Epoch 183 Batch    7/21   train_loss = 0.782\n",
      "Epoch 185 Batch   15/21   train_loss = 0.847\n",
      "Epoch 188 Batch    2/21   train_loss = 0.915\n",
      "Epoch 190 Batch   10/21   train_loss = 0.744\n",
      "Epoch 192 Batch   18/21   train_loss = 0.751\n",
      "Epoch 195 Batch    5/21   train_loss = 0.760\n",
      "Epoch 197 Batch   13/21   train_loss = 0.567\n",
      "Epoch 200 Batch    0/21   train_loss = 0.682\n",
      "Epoch 202 Batch    8/21   train_loss = 0.720\n",
      "Epoch 204 Batch   16/21   train_loss = 0.545\n",
      "Epoch 207 Batch    3/21   train_loss = 0.608\n",
      "Epoch 209 Batch   11/21   train_loss = 0.615\n",
      "Epoch 211 Batch   19/21   train_loss = 0.463\n",
      "Epoch 214 Batch    6/21   train_loss = 0.476\n",
      "Epoch 216 Batch   14/21   train_loss = 0.377\n",
      "Epoch 219 Batch    1/21   train_loss = 0.302\n",
      "Epoch 221 Batch    9/21   train_loss = 0.334\n",
      "Epoch 223 Batch   17/21   train_loss = 0.369\n",
      "Epoch 226 Batch    4/21   train_loss = 0.247\n",
      "Epoch 228 Batch   12/21   train_loss = 0.335\n",
      "Epoch 230 Batch   20/21   train_loss = 0.278\n",
      "Epoch 233 Batch    7/21   train_loss = 0.238\n",
      "Epoch 235 Batch   15/21   train_loss = 0.237\n",
      "Epoch 238 Batch    2/21   train_loss = 0.309\n",
      "Epoch 240 Batch   10/21   train_loss = 0.240\n",
      "Epoch 242 Batch   18/21   train_loss = 0.284\n",
      "Epoch 245 Batch    5/21   train_loss = 0.289\n",
      "Epoch 247 Batch   13/21   train_loss = 0.230\n",
      "Epoch 250 Batch    0/21   train_loss = 0.350\n",
      "Epoch 252 Batch    8/21   train_loss = 0.498\n",
      "Epoch 254 Batch   16/21   train_loss = 1.299\n",
      "Epoch 257 Batch    3/21   train_loss = 2.332\n",
      "Epoch 259 Batch   11/21   train_loss = 2.088\n",
      "Epoch 261 Batch   19/21   train_loss = 1.690\n",
      "Epoch 264 Batch    6/21   train_loss = 1.179\n",
      "Epoch 266 Batch   14/21   train_loss = 0.902\n",
      "Epoch 269 Batch    1/21   train_loss = 0.697\n",
      "Epoch 271 Batch    9/21   train_loss = 0.619\n",
      "Epoch 273 Batch   17/21   train_loss = 0.613\n",
      "Epoch 276 Batch    4/21   train_loss = 0.441\n",
      "Epoch 278 Batch   12/21   train_loss = 0.563\n",
      "Epoch 280 Batch   20/21   train_loss = 0.568\n",
      "Epoch 283 Batch    7/21   train_loss = 0.505\n",
      "Epoch 285 Batch   15/21   train_loss = 0.454\n",
      "Epoch 288 Batch    2/21   train_loss = 0.502\n",
      "Epoch 290 Batch   10/21   train_loss = 0.419\n",
      "Epoch 292 Batch   18/21   train_loss = 0.426\n",
      "Epoch 295 Batch    5/21   train_loss = 0.399\n",
      "Epoch 297 Batch   13/21   train_loss = 0.331\n",
      "Epoch 300 Batch    0/21   train_loss = 0.395\n",
      "Epoch 302 Batch    8/21   train_loss = 0.421\n",
      "Epoch 304 Batch   16/21   train_loss = 0.322\n",
      "Epoch 307 Batch    3/21   train_loss = 0.355\n",
      "Epoch 309 Batch   11/21   train_loss = 0.334\n",
      "Epoch 311 Batch   19/21   train_loss = 0.261\n",
      "Epoch 314 Batch    6/21   train_loss = 0.292\n",
      "Epoch 316 Batch   14/21   train_loss = 0.258\n",
      "Epoch 319 Batch    1/21   train_loss = 0.208\n",
      "Epoch 321 Batch    9/21   train_loss = 0.251\n",
      "Epoch 323 Batch   17/21   train_loss = 0.294\n",
      "Epoch 326 Batch    4/21   train_loss = 0.204\n",
      "Epoch 328 Batch   12/21   train_loss = 0.298\n",
      "Epoch 330 Batch   20/21   train_loss = 0.255\n",
      "Epoch 333 Batch    7/21   train_loss = 0.226\n",
      "Epoch 335 Batch   15/21   train_loss = 0.220\n",
      "Epoch 338 Batch    2/21   train_loss = 0.281\n",
      "Epoch 340 Batch   10/21   train_loss = 0.223\n",
      "Epoch 342 Batch   18/21   train_loss = 0.241\n",
      "Epoch 345 Batch    5/21   train_loss = 0.283\n",
      "Epoch 347 Batch   13/21   train_loss = 0.297\n",
      "Epoch 350 Batch    0/21   train_loss = 0.411\n",
      "Epoch 352 Batch    8/21   train_loss = 0.559\n",
      "Epoch 354 Batch   16/21   train_loss = 1.089\n",
      "Epoch 357 Batch    3/21   train_loss = 1.353\n",
      "Epoch 359 Batch   11/21   train_loss = 1.337\n",
      "Epoch 361 Batch   19/21   train_loss = 1.129\n",
      "Epoch 364 Batch    6/21   train_loss = 0.913\n",
      "Epoch 366 Batch   14/21   train_loss = 0.628\n",
      "Epoch 369 Batch    1/21   train_loss = 0.422\n",
      "Epoch 371 Batch    9/21   train_loss = 0.371\n",
      "Epoch 373 Batch   17/21   train_loss = 0.351\n",
      "Epoch 376 Batch    4/21   train_loss = 0.234\n",
      "Epoch 378 Batch   12/21   train_loss = 0.310\n",
      "Epoch 380 Batch   20/21   train_loss = 0.249\n",
      "Epoch 383 Batch    7/21   train_loss = 0.221\n",
      "Epoch 385 Batch   15/21   train_loss = 0.195\n",
      "Epoch 388 Batch    2/21   train_loss = 0.238\n",
      "Epoch 390 Batch   10/21   train_loss = 0.216\n",
      "Epoch 392 Batch   18/21   train_loss = 0.228\n",
      "Epoch 395 Batch    5/21   train_loss = 0.225\n",
      "Epoch 397 Batch   13/21   train_loss = 0.155\n",
      "Epoch 400 Batch    0/21   train_loss = 0.182\n",
      "Epoch 402 Batch    8/21   train_loss = 0.168\n",
      "Epoch 404 Batch   16/21   train_loss = 0.106\n",
      "Epoch 407 Batch    3/21   train_loss = 0.122\n",
      "Epoch 409 Batch   11/21   train_loss = 0.114\n",
      "Epoch 411 Batch   19/21   train_loss = 0.092\n",
      "Epoch 414 Batch    6/21   train_loss = 0.107\n",
      "Epoch 416 Batch   14/21   train_loss = 0.082\n",
      "Epoch 419 Batch    1/21   train_loss = 0.086\n",
      "Epoch 421 Batch    9/21   train_loss = 0.104\n",
      "Epoch 423 Batch   17/21   train_loss = 0.117\n",
      "Epoch 426 Batch    4/21   train_loss = 0.097\n",
      "Epoch 428 Batch   12/21   train_loss = 0.118\n",
      "Epoch 430 Batch   20/21   train_loss = 0.115\n",
      "Epoch 433 Batch    7/21   train_loss = 0.122\n"
     ]
    },
    {
     "name": "stdout",
     "output_type": "stream",
     "text": [
      "Epoch 435 Batch   15/21   train_loss = 0.142\n",
      "Epoch 438 Batch    2/21   train_loss = 0.226\n",
      "Epoch 440 Batch   10/21   train_loss = 0.435\n",
      "Epoch 442 Batch   18/21   train_loss = 0.853\n",
      "Epoch 445 Batch    5/21   train_loss = 1.440\n",
      "Epoch 447 Batch   13/21   train_loss = 1.772\n",
      "Epoch 450 Batch    0/21   train_loss = 1.910\n",
      "Epoch 452 Batch    8/21   train_loss = 1.349\n",
      "Epoch 454 Batch   16/21   train_loss = 1.081\n",
      "Epoch 457 Batch    3/21   train_loss = 0.762\n",
      "Epoch 459 Batch   11/21   train_loss = 0.626\n",
      "Epoch 461 Batch   19/21   train_loss = 0.492\n",
      "Epoch 464 Batch    6/21   train_loss = 0.401\n",
      "Epoch 466 Batch   14/21   train_loss = 0.308\n",
      "Epoch 469 Batch    1/21   train_loss = 0.280\n",
      "Epoch 471 Batch    9/21   train_loss = 0.300\n",
      "Epoch 473 Batch   17/21   train_loss = 0.305\n",
      "Epoch 476 Batch    4/21   train_loss = 0.205\n",
      "Epoch 478 Batch   12/21   train_loss = 0.227\n",
      "Epoch 480 Batch   20/21   train_loss = 0.208\n",
      "Epoch 483 Batch    7/21   train_loss = 0.174\n",
      "Epoch 485 Batch   15/21   train_loss = 0.192\n",
      "Epoch 488 Batch    2/21   train_loss = 0.232\n",
      "Epoch 490 Batch   10/21   train_loss = 0.176\n",
      "Epoch 492 Batch   18/21   train_loss = 0.202\n",
      "Epoch 495 Batch    5/21   train_loss = 0.192\n",
      "Epoch 497 Batch   13/21   train_loss = 0.132\n",
      "Model Trained and Saved\n"
     ]
    }
   ],
   "source": [
    "\"\"\"\n",
    "DON'T MODIFY ANYTHING IN THIS CELL\n",
    "\"\"\"\n",
    "batches = get_batches(int_text, batch_size, seq_length)\n",
    "\n",
    "with tf.Session(graph=train_graph) as sess:\n",
    "    sess.run(tf.global_variables_initializer())\n",
    "\n",
    "    for epoch_i in range(num_epochs):\n",
    "        state = sess.run(initial_state, {input_text: batches[0][0]})\n",
    "\n",
    "        for batch_i, (x, y) in enumerate(batches):\n",
    "            feed = {\n",
    "                input_text: x,\n",
    "                targets: y,\n",
    "                initial_state: state,\n",
    "                lr: learning_rate}\n",
    "            train_loss, state, _ = sess.run([cost, final_state, train_op], feed)\n",
    "\n",
    "            # Show every <show_every_n_batches> batches\n",
    "            if (epoch_i * len(batches) + batch_i) % show_every_n_batches == 0:\n",
    "                print('Epoch {:>3} Batch {:>4}/{}   train_loss = {:.3f}'.format(\n",
    "                    epoch_i,\n",
    "                    batch_i,\n",
    "                    len(batches),\n",
    "                    train_loss))\n",
    "\n",
    "    # Save Model\n",
    "    saver = tf.train.Saver()\n",
    "    saver.save(sess, save_dir)\n",
    "    print('Model Trained and Saved')"
   ]
  },
  {
   "cell_type": "markdown",
   "metadata": {},
   "source": [
    "## Save Parameters\n",
    "Save `seq_length` and `save_dir` for generating a new TV script."
   ]
  },
  {
   "cell_type": "code",
   "execution_count": 18,
   "metadata": {},
   "outputs": [],
   "source": [
    "\"\"\"\n",
    "DON'T MODIFY ANYTHING IN THIS CELL\n",
    "\"\"\"\n",
    "# Save parameters for checkpoint\n",
    "helper.save_params((seq_length, save_dir))"
   ]
  },
  {
   "cell_type": "markdown",
   "metadata": {},
   "source": [
    "# Checkpoint"
   ]
  },
  {
   "cell_type": "code",
   "execution_count": 19,
   "metadata": {},
   "outputs": [],
   "source": [
    "\"\"\"\n",
    "DON'T MODIFY ANYTHING IN THIS CELL\n",
    "\"\"\"\n",
    "import tensorflow as tf\n",
    "import numpy as np\n",
    "import helper\n",
    "import problem_unittests as tests\n",
    "\n",
    "_, vocab_to_int, int_to_vocab, token_dict = helper.load_preprocess()\n",
    "seq_length, load_dir = helper.load_params()"
   ]
  },
  {
   "cell_type": "markdown",
   "metadata": {},
   "source": [
    "## Implement Generate Functions\n",
    "### Get Tensors\n",
    "Get tensors from `loaded_graph` using the function [`get_tensor_by_name()`](https://www.tensorflow.org/api_docs/python/tf/Graph#get_tensor_by_name).  Get the tensors using the following names:\n",
    "- \"input:0\"\n",
    "- \"initial_state:0\"\n",
    "- \"final_state:0\"\n",
    "- \"probs:0\"\n",
    "\n",
    "Return the tensors in the following tuple `(InputTensor, InitialStateTensor, FinalStateTensor, ProbsTensor)` "
   ]
  },
  {
   "cell_type": "code",
   "execution_count": 20,
   "metadata": {},
   "outputs": [
    {
     "name": "stdout",
     "output_type": "stream",
     "text": [
      "Tests Passed\n"
     ]
    }
   ],
   "source": [
    "def get_tensors(loaded_graph):\n",
    "    \"\"\"\n",
    "    Get input, initial state, final state, and probabilities tensor from <loaded_graph>\n",
    "    :param loaded_graph: TensorFlow graph loaded from file\n",
    "    :return: Tuple (InputTensor, InitialStateTensor, FinalStateTensor, ProbsTensor)\n",
    "    \"\"\"\n",
    "    # TODO: Implement Function\n",
    "    InputTensor = loaded_graph.get_tensor_by_name(\"input:0\")\n",
    "    InitialStateTensor = loaded_graph.get_tensor_by_name(\"initial_state:0\")\n",
    "    FinalStateTensor = loaded_graph.get_tensor_by_name(\"final_state:0\")\n",
    "    ProbsTensor = loaded_graph.get_tensor_by_name(\"probs:0\")\n",
    "    return InputTensor, InitialStateTensor, FinalStateTensor, ProbsTensor\n",
    "\n",
    "\"\"\"\n",
    "DON'T MODIFY ANYTHING IN THIS CELL THAT IS BELOW THIS LINE\n",
    "\"\"\"\n",
    "tests.test_get_tensors(get_tensors)"
   ]
  },
  {
   "cell_type": "markdown",
   "metadata": {},
   "source": [
    "### Choose Word\n",
    "Implement the `pick_word()` function to select the next word using `probabilities`."
   ]
  },
  {
   "cell_type": "code",
   "execution_count": 21,
   "metadata": {},
   "outputs": [
    {
     "name": "stdout",
     "output_type": "stream",
     "text": [
      "Tests Passed\n"
     ]
    }
   ],
   "source": [
    "def pick_word(probabilities, int_to_vocab):\n",
    "    \"\"\"\n",
    "    Pick the next word in the generated text\n",
    "    :param probabilities: Probabilites of the next word\n",
    "    :param int_to_vocab: Dictionary of word ids as the keys and words as the values\n",
    "    :return: String of the predicted word\n",
    "    \"\"\"\n",
    "    # TODO: Implement Function\n",
    "#    return np.random.choice(list(int_to_vocab.values()), probabilities)\n",
    "#    print (np.random.choice(list(int_to_vocab.values()), 1, p=probabilities)[0])\n",
    "\n",
    "\n",
    "    return np.random.choice(list(int_to_vocab.values()), 1, p=probabilities)[0]\n",
    "\n",
    "\n",
    "\"\"\"\n",
    "DON'T MODIFY ANYTHING IN THIS CELL THAT IS BELOW THIS LINE\n",
    "\"\"\"\n",
    "tests.test_pick_word(pick_word)"
   ]
  },
  {
   "cell_type": "markdown",
   "metadata": {},
   "source": [
    "## Generate TV Script\n",
    "This will generate the TV script for you.  Set `gen_length` to the length of TV script you want to generate."
   ]
  },
  {
   "cell_type": "code",
   "execution_count": 22,
   "metadata": {},
   "outputs": [
    {
     "name": "stdout",
     "output_type": "stream",
     "text": [
      "moe_szyslak: yeah. big deal. you got a wife.\n",
      "homer_simpson:(gasp) hey, you might even get a beer in the morning?\n",
      "homer_simpson:(as fire) lenny!\n",
      "moe_szyslak:(to homer) i tell it, moe.\n",
      "homer_simpson: moe, you're still over a tongue.\n",
      "homer_simpson: hello? that's not try uh, and who love this love comes in the bar, they get the sign in coming of my face.\n",
      "carl_carlson: you got a lot about stick starving place--\n",
      "\n",
      "\n",
      "homer_simpson: so i have to come home?\n",
      "homer_simpson: woo hoo?\n",
      "lenny_leonard: it's just more beer with my head.(laughs)\n",
      "homer_simpson: i don't been in all hope. i am the bottles of this game? can i could have any once am have the only thing?\n",
      "moe_szyslak: get for the stuff. mr. _zander: we'll just never get duffed?\n",
      "bart_simpson:(pats sobs) i'll never wish when i ask it on the bar of appealing wheel... what?\n",
      "\n",
      "\n",
      "moe_szyslak: i'm\n"
     ]
    }
   ],
   "source": [
    "gen_length = 200\n",
    "# homer_simpson, moe_szyslak, or Barney_Gumble\n",
    "prime_word = 'moe_szyslak'\n",
    "\n",
    "\"\"\"\n",
    "DON'T MODIFY ANYTHING IN THIS CELL THAT IS BELOW THIS LINE\n",
    "\"\"\"\n",
    "loaded_graph = tf.Graph()\n",
    "with tf.Session(graph=loaded_graph) as sess:\n",
    "    # Load saved model\n",
    "    loader = tf.train.import_meta_graph(load_dir + '.meta')\n",
    "    loader.restore(sess, load_dir)\n",
    "\n",
    "    # Get Tensors from loaded model\n",
    "    input_text, initial_state, final_state, probs = get_tensors(loaded_graph)\n",
    "\n",
    "    # Sentences generation setup\n",
    "    gen_sentences = [prime_word + ':']\n",
    "    prev_state = sess.run(initial_state, {input_text: np.array([[1]])})\n",
    "¨41cv                    /?\n",
    "    # Generate sentences\n",
    "    for n in range(gen_length):\n",
    "        # Dynamic Input\n",
    "        dyn_input = [[vocab_to_int[word] for word in gen_sentences[-seq_length:]]]\n",
    "        dyn_seq_length = len(dyn_input[0])\n",
    "\n",
    "        # Get Prediction\n",
    "        probabilities, prev_state = sess.run(\n",
    "            [probs, final_state],\n",
    "            {input_text: dyn_input, initial_state: prev_state})\n",
    "        \n",
    "        pred_word = pick_word(probabilities[dyn_seq_length-1], int_to_vocab)\n",
    "\n",
    "        gen_sentences.append(pred_word)\n",
    "    \n",
    "    # Remove tokens\n",
    "    tv_script = ' '.join(gen_sentences)\n",
    "    for key, token in token_dict.items():\n",
    "        ending = ' ' if key in ['\\n', '(', '\"'] else ''\n",
    "        tv_script = tv_script.replace(' ' + token.lower(), key)\n",
    "    tv_script = tv_script.replace('\\n ', '\\n')\n",
    "    tv_script = tv_script.replace('( ', '(')\n",
    "        \n",
    "    print(tv_script)"
   ]
  },
  {
   "cell_type": "markdown",
   "metadata": {},
   "source": [
    "# The TV Script is Nonsensical\n",
    "It's ok if the TV script doesn't make any sense.  We trained on less than a megabyte of text.  In order to get good results, you'll have to use a smaller vocabulary or get more data.  Luckly there's more data!  As we mentioned in the begging of this project, this is a subset of [another dataset](https://www.kaggle.com/wcukierski/the-simpsons-by-the-data).  We didn't have you train on all the data, because that would take too long.  However, you are free to train your neural network on all the data.  After you complete the project, of course.\n",
    "# Submitting This Project\n",
    "When submitting this project, make sure to run all the cells before saving the notebook. Save the notebook file as \"dlnd_tv_script_generation.ipynb\" and save it as a HTML file under \"File\" -> \"Download as\". Include the \"helper.py\" and \"problem_unittests.py\" files in your submission."
   ]
  }
 ],
 "metadata": {
  "kernelspec": {
   "display_name": "Python 3",
   "language": "python",
   "name": "python3"
  },
  "language_info": {
   "codemirror_mode": {
    "name": "ipython",
    "version": 3
   },
   "file_extension": ".py",
   "mimetype": "text/x-python",
   "name": "python",
   "nbconvert_exporter": "python",
   "pygments_lexer": "ipython3",
   "version": "3.7.1"
  },
  "widgets": {
   "state": {},
   "version": "1.1.2"
  }
 },
 "nbformat": 4,
 "nbformat_minor": 1
}
