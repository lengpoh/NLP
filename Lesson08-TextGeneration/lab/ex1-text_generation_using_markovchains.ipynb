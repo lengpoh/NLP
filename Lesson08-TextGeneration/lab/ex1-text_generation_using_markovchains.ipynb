{
 "cells": [
  {
   "cell_type": "markdown",
   "metadata": {
    "run_control": {
     "frozen": false,
     "read_only": false
    }
   },
   "source": [
    "## Text Generation with Markov Chains"
   ]
  },
  {
   "cell_type": "markdown",
   "metadata": {
    "run_control": {
     "frozen": false,
     "read_only": false
    }
   },
   "source": [
    "\n",
    "Acknowledgement: Intel AI Developer Programme\n",
    "\n",
    "#### Introduction\n",
    "\n",
    "Text generation is a challenging problem that even the largest data science teams are still struggling with, so we'll explore some of the most common and accessible methods to solve the problem, starting at a somewhat basic level. The approach we will attempt in this notebook is: \n",
    "\n",
    "* Markov Chains\n"
   ]
  },
  {
   "cell_type": "markdown",
   "metadata": {
    "run_control": {
     "frozen": false,
     "read_only": false
    }
   },
   "source": [
    "## Define the Markov Chain Class\n",
    "\n",
    "* Create a class called markov_chain that takes the path of a text file as input when instantiating an object\n",
    ". Add a method (function) that preprocesses the text returning a list of lowercased words with all \" and ' removed.\n",
    "* Add a method (function) that reads the text fille and creates a dictionary of the form: `{(word1, word2): [word3], (word2, word3): [word4]...}`. If the sequence `(word1, word2, word4)` then shows up later.. we want to end up with `{(word1, word2): [word3, word4], (word2, word3): [word4]...}`. We want to map out how often every word follows each previous pair of words. If `(word1, word2, word3)` appears a second time then we want `{(word1, word2): [word3, word4, word3], (word2, word3): [word4]...}`.\n",
    "* Add a method (function) for generating new text from a seed, that takes in a key (e.g. `(word1, word2)`) as a starting point, then randomly samples one of the words that follows that key. (e.g. word3). Then have that sampled word appended to the \"generated words\" creating a new key (e.g. `(word2, word3)`). Repeat this process over and over to generate a sentence until reaching some sentence length as specified by the user. Return this sentence as a string.\n"
   ]
  },
  {
   "cell_type": "code",
   "execution_count": null,
   "metadata": {},
   "outputs": [],
   "source": []
  },
  {
   "cell_type": "code",
   "execution_count": 1,
   "metadata": {
    "run_control": {
     "frozen": false,
     "read_only": false
    }
   },
   "outputs": [],
   "source": [
    "import random\n",
    "class markov_chain(object):\n",
    "    \n",
    "    def __init__(self,text_path,ngram=2):\n",
    "        self.ngram = ngram\n",
    "        self.markov_keys = dict()\n",
    "        self.path = text_path\n",
    "        self.text_as_list = None\n",
    "\n",
    "    def preprocess(self):\n",
    "        with open(self.path,'r') as f:\n",
    "            raw = f.read()\n",
    "        self.text_as_list = raw.lower().replace('\"','').replace(\"'\",\"\").split()\n",
    "\n",
    "    def markov_group_generator(self,text_as_list):\n",
    "        if len(text_as_list) < self.ngram+1:\n",
    "            raise(\"NOT A LONG ENOUGH TEXT!\")\n",
    "            return\n",
    "\n",
    "        for i in range(self.ngram,len(text_as_list)):\n",
    "            yield tuple(text_as_list[i-self.ngram:i+1])\n",
    "\n",
    "    def create_probability_object(self):\n",
    "        if not self.text_as_list:\n",
    "            self.preprocess()\n",
    "        for group in self.markov_group_generator(self.text_as_list):\n",
    "            word_key = tuple(group[:-1])\n",
    "            if word_key in self.markov_keys:\n",
    "                self.markov_keys[word_key].append(group[-1])\n",
    "            else:\n",
    "                self.markov_keys[word_key] = [group[-1]]\n",
    "    \n",
    "    def generate_sentence(self, length=25, starting_word_id=None):\n",
    "        if (not starting_word_id or type(starting_word_id) != type(int(1)) \n",
    "            or starting_word_id < 0 or starting_word_id > len(self.text_as_list)-self.ngram):\n",
    "            starting_word_id = random.randint(0,len(self.text_as_list)-self.ngram)\n",
    "            \n",
    "        gen_words = self.text_as_list[starting_word_id:starting_word_id+self.ngram]\n",
    "        \n",
    "        while len(gen_words) < length:\n",
    "            seed = tuple(gen_words[-self.ngram:])\n",
    "            gen_words.append(random.choice(self.markov_keys[seed]))\n",
    "        return ' '.join(gen_words)\n",
    "        \n",
    "        "
   ]
  },
  {
   "cell_type": "markdown",
   "metadata": {},
   "source": [
    "* Instantial the markov chain object, using an input file"
   ]
  },
  {
   "cell_type": "code",
   "execution_count": 2,
   "metadata": {
    "run_control": {
     "frozen": false,
     "read_only": false
    }
   },
   "outputs": [],
   "source": [
    "MC = markov_chain('./data/lovecraft.txt',ngram=2)"
   ]
  },
  {
   "cell_type": "markdown",
   "metadata": {},
   "source": [
    "* Call the method to generate the dictionary"
   ]
  },
  {
   "cell_type": "code",
   "execution_count": 3,
   "metadata": {
    "run_control": {
     "frozen": false,
     "read_only": false
    }
   },
   "outputs": [],
   "source": [
    "MC.create_probability_object()"
   ]
  },
  {
   "cell_type": "code",
   "execution_count": 4,
   "metadata": {
    "run_control": {
     "frozen": false,
     "read_only": false
    },
    "scrolled": true
   },
   "outputs": [
    {
     "name": "stdout",
     "output_type": "stream",
     "text": [
      "('the', 'nameless') ['city', 'city', 'city,', 'city,', 'city,', 'city.', 'city', 'city', 'city', 'city;', 'city', 'city.', 'city', 'city,', 'city', 'city', 'city,', 'city', 'city', 'race,', 'city:', 'city.', 'fate', 'monstrosity', 'monstrosity,', 'entity,', 'outsiders', 'design--living', 'entities', 'stone', 'city', 'and', 'scent', 'scent', 'scent', 'stench', 'artist', 'stench', 'cylinder,', 'odour', 'hybrids', 'things', 'scenes', 'larvae', 'ancient', 'pastimes', 'larvae', 'doom', 'museum', 'summit', 'denizens', 'dread.']\n",
      "\n",
      "('nameless', 'city') ['when', 'i', 'that', 'was', 'what', 'and', 'in', 'in', 'had', 'under', 'at', 'of', 'of']\n",
      "\n",
      "('city', 'when') ['i']\n",
      "\n",
      "('when', 'i') ['drew', 'came', 'was', 'had', 'chanced', 'glanced', 'saw', 'thought', 'did', 'tried', 'came', 'sounded', 'sat', 'fancied', 'looked', 'staggered', 'still', 'went', 'went', 'saw', 'think', 'dream', 'did', 'think', 'think', 'commit', 'make', 'brought', 'studied', 'started', 'think', 'telephoned', 'drove', 'developed', 'link', 'shall', 'showed', 'say', 'tried', 'rushed', 'left', 'try', 'demurred', 'had', 'saw', 'tell', 'spoke', 'gently', 'seed', 'reached', 'finally', 'knew', 'stopped', 'had', 'noticed', 'reached', 'heard', 'emerged', 'staggered', 'might', 'told', 'came', 'saw', 'saw', 'diffidently', 'did', 'first', 'waked', 'studied', 'was', 'looked', 'saw', 'shewed', 'was', 'staggered', 'was', 'first', 'looked', 'ran', 'came', 'was', 'brought', 'tottered', 'reached', 'neared', 'flashed', 'dispatched', 'speak', 'made', 'read', 'see', 'tell', 'feared', 'hadde', 'hint', 'call', 'call.', 'ring', 'first', 'hung', 'told', 'perceived', 'examined', 'reflected', 'suggested', 'had', 'saw', 'finally', 'had', 'gained', 'was', 'came', 'saw', 'learned', 'came', 'asked', 'needed', 'am', 'was', 'found', 'say', 'learned', 'slammed', 'chiseled', 'beheld', 'stopped', 'saw', 'say', 'was', 'recovered--or', 'felt', 'realized', 'glimpsed', 'saw', 'saw', 'saw', 'was', 'first', 'overheard', 'tried', 'pulled', 'raised', 'shewed', 'tried', 'had', 'went', 'pulled', 'seem', 'thought', 'saw', 'saw', 'forced', 'dropped', 'came', 'listened', 'found', 'bore', 'listened', 'looked', 'did', 'think', 'aroused', 'spoke', 'saw', 'arose,', 'had', 'stumbled', 'hear', 'heard', 'heard', 'awaked', 'told', 'saw', 'opened', 'am', 'moved', 'had', 'did', 'looked', 'reached', 'moved', 'returned', 'opened', 'had', 'see', 'questioned', 'see', 'see', 'read', 'was', 'went', 'returned.', 'examined', 'turned', 'noticed', 'awoke', 'speak', 'saw--or', 'told', 'recovered', 'see', 'saw', 'saw', 'attained', 'named', 'got', 'do', 'saw', 'get', 'was', 'pointed', 'pulled', 'shot', 'opened', 'came', 'said', 'saw', 'might', 'awakened,', 'asked', 'was', 'looked', 'went', 'had', 'tell', 'saw', 'raised', 'saw', 'awaked,', 'could']\n",
      "\n",
      "('i', 'drew') ['nigh', 'up', 'into', 'close', 'out', 'near', 'a', 'behind', 'my', 'near', 'a', 'my']\n",
      "\n",
      "('drew', 'nigh') ['the', 'there', 'that']\n",
      "\n",
      "('nigh', 'the') ['nameless', 'devils', 'time', 'crag', 'city', 'haouse', 'middle--the', 'place']\n",
      "\n",
      "('city', 'i') ['knew', 'saw', 'had']\n",
      "\n",
      "('i', 'knew') ['it', 'it', 'that', 'and', 'it', 'we', 'from', 'it', 'it', 'it', 'as', 'less', 'i', 'of', 'enough', 'that', 'that', 'that', 'what', 'the', 'that', 'his', 'i', 'that', 'that', 'that', 'that', 'those', 'that', 'that', 'the', 'that', 'too', 'also', 'would', 'how', 'too', 'in', 'my', 'this', 'what', 'there', 'it', 'all', 'it', 'i', 'from', 'unerringly', 'that', 'there', 'nothing,', 'they', 'that', 'not', 'that', 'him', 'what', 'how', 'not', 'too', 'that', 'what', 'he', 'that', 'that', 'would', 'to', 'his', 'all', 'how', 'that', 'of', 'that', 'she', 'id', 'and', 'she', 'id', 'that', 'he', 'that', 'we', 'people', 'you', 'too', 'the', 'the', 'what', 'i', 'of', 'the', 'that', 'not;', 'must', 'that', 'to', 'amidst', 'i', 'to', 'no', 'it', 'that', 'not;', 'they', 'from', 'that', 'that', 'of', 'it', 'in', 'as', 'this', 'i', 'not', 'not', 'i', 'that', 'not', 'in', 'that', 'i', 'of', 'that', 'now', 'before', 'of', 'not', 'that', 'nothing', 'that', 'of', 'that', 'who', 'that', 'what', 'what', 'what', 'she', 'and', 'i', 'the', 'that', 'that', 'that', 'would', 'not']\n",
      "\n",
      "('knew', 'it') ['was', 'was', 'lay', 'the', 'had', 'would', 'would', 'would', 'well,', 'stood', 'was', 'would', 'i', 'when', 'would', 'he', 'must', 'must', 'had', 'he', 'i', 'only', 'no', 'who', 'was']\n",
      "\n",
      "('it', 'was') ['accursed.', 'ever', 'of', 'this', 'a', 'a', 'all', 'as', 'driven', 'a', 'largely', 'the', 'the', 'a', 'told', 'an', 'not', 'certainly', 'a', 'the', 'a', 'indeed', 'i', 'morning', 'too', 'as', 'not', 'a', 'then', 'oddly', 'not', 'a', 'magnetic,', 'in', 'now', 'still', 'only', 'nothing', 'the', 'the', 'a', 'the', 'then', 'none', 'there', 'a', 'ammi,', 'very', 'much', 'really', 'little', 'very', 'quite', 'he', 'still', 'some', 'getting', 'not', 'seen', 'the', 'like', 'truly', 'soon', 'a', 'no', 'pouring', 'awful,', 'clear', 'very', 'bad', 'blind', 'a', 'just', 'just', 'just', 'not', 'the', 'then', 'from', 'a', 'a', 'voodoo,', 'nightmare', 'to', 'inside', 'not', 'wholly', 'by', 'returned', 'really', 'nothing', 'an', 'the', 'owned', 'a', 'nothing', 'only', 'rodriguez', 'a', 'balanced.', 'the', 'the', 'in', 'candlemas,', 'somewhat', 'a', 'a', 'the', 'all', 'uncanny', 'the', 'not', 'partly', 'semi-anthropomorphic;', 'the', 'manifest', 'sent', 'not', 'in', 'as', 'here', 'horrible,', 'his', 'in', 'in', 'couched', 'written,', 'of', 'then', 'a', 'still', 'mis', 'all', 'jest', 'the', 'no', 'one', 'hard', 'obvious', 'the', 'a', 'originally', 'an', 'like', 'yards', 'mostly', 'his', 'just', 'really', 'my', 'bad', 'not', 'of', 'hard', 'easy', 'hideously', 'not', 'very', 'hard', 'noteworthy,', 'not', 'with', 'a', 'like', 'hinted,', 'an', 'noticeable', 'not', 'only', 'bad', 'a', 'in', 'dead,', 'surely', 'a', 'a', 'time,', 'postmarked', 'greater', 'clearly', 'not', 'not', 'the', 'in', 'obvious', 'not', 'not', 'the', 'a', 'a', 'above', 'shocking', 'as', 'not', 'incapable', 'surely', 'absurd,', 'full', 'curious', 'from', 'the', 'this', 'only', 'mixed', 'not', 'in', 'like', 'also', 'always', 'wise', 'certainly', 'in', 'a', 'roughly', 'about', 'patriots', 'keziahs', 'a', 'too', 'when', 'a', 'wholly', 'obviously', 'by', 'a', 'stated', 'not', 'when', 'associated.', 'one', 'a', 'reared', 'then', 'odd', 'transparent,', 'to', 'a', 'then,', 'in', 'called.', 'fashioned', 'treasured', 'obvious', 'only', 'somehow', 'some', 'then', 'the', 'agreed', 'found--into', 'i', 'only', 'really', 'probably', 'foreign', 'the', 'clearly', 'tall', 'the', 'as', 'labeled', 'called,', 'merely', 'the', 'said,', 'caused', 'as', 'a', 'a', 'the', 'in', 'awful', 'generally', 'impossible', 'not', 'probably', 'no', 'not', 'said', 'then', 'plentiful.', 'all', 'curious', 'jest', 'to', 'designed', 'flanked', 'still', 'then', 'plain', 'completely', 'a', 'here,', 'foredoomed', 'the', 'in', 'a', 'said', 'in', 'clear', 'then', 'hurt,', 'on', 'clear', 'a', 'about', 'at', 'still', 'coming', 'a', 'not', 'then', 'permitted', 'allowed', 'purged', 'largely', 'frequently', 'significantly', 'the', 'when', 'evident', 'known', 'upon', 'postmarked', 'on', 'on', 'almost', 'a', 'one', 'just', 'just', 'the', 'the', 'something', 'only', 'the', 'then', 'all', 'sheer', 'titled', 'my', 'merely', 'only', 'as', 'slightly', 'before', 'the', 'the', 'now', 'of', 'appalling', 'technically', 'possible', 'agreed', 'clear', 'about', 'not', 'amphibian,', 'partly', 'marine', 'after', 'at', 'very', 'risky', 'as', 'young', 'approximately', 'hard', 'the', 'so', 'hideous', 'the', 'not', 'decided', 'probably', 'futile', 'the', 'a', 'composed', 'generally', 'a', 'totally', 'impossible', 'fully', 'under', 'now', 'curious', 'curious', 'infinitely', 'a', 'only', 'obvious', 'now', 'doubtful', 'probably', 'likewise', 'during', 'both', 'now', 'a', 'all', 'that', 'certainly', 'precisely', 'the', 'a', 'not', 'only', 'the', 'suicidally', 'just', 'composed', 'countersunk', 'a', 'wholly', 'like,', 'not', 'what', 'very', 'an', 'that', 'not', 'the', 'a', 'as', 'while', 'then,', 'not,', 'so', 'clear', 'only', 'up', 'getting', 'long', 'at', 'that', 'that,', 'held,', 'observed', 'in', 'the', 'near', 'no', 'very', 'after', 'not', 'on', 'in', 'clear,', 'not', 'the', 'just', 'the', 'later', 'deep', 'explained,', 'not', 'not', 'delivered', 'hardly', 'at', 'likely', 'meanwhile', 'observed', 'in', 'he', 'learned', 'toward', 'on', 'this', 'twilight,', 'noticed', 'overshadowed', 'only', 'not,', 'so', 'as', 'a', 'no', 'this', 'mixed', 'a', 'vacant', 'the', 'not', 'impossible', 'soon', 'from', 'the', 'strange--but', 'obvious', 'then', 'clear', 'agreed,', 'then', 'in', 'wrong,', 'what', 'something', 'obvious', 'a', 'a', 'the', 'better', 'very', 'like', 'alive.', 'too', 'not', 'neither', 'unmistakably', 'weirdly', 'only', 'the', 'here', 'obvious', 'not', 'unyielding.', 'a', 'that', 'folded', 'easy', 'made', 'very', 'gradually', 'noon', 'known', 'evident', 'he', 'he', 'he', 'not', 'not', 'from', 'on', 'his', 'hardly', 'also', 'natural', 'moonlight,', 'none', 'the', 'there', 'he', 'very', 'alive', 'now', 'good', 'in', 'to', 'merely', 'the', 'entered,', 'exceedingly', 'this', 'the', 'unwise', 'he', 'this', 'probably', 'the', 'said,', 'worshipped.', 'for', 'no', 'with', 'human', 'certainly', 'clearly', 'he', 'for', 'not', 'connected', 'on', 'infinitely', 'that', 'rather', 'indeed', 'dangerous', 'apoplexy', 'in', 'in', 'a', 'too', 'by', 'greenwich,', 'the', 'the', 'seeking', 'here', 'this', 'not', 'uncanny', 'i', 'agreed', 'a', 'underground.', 'not', 'almost', 'white', 'fairly', 'not', 'wholly', 'a', 'not', 'necessary', 'disturbing', 'in', 'in', 'better', 'rather', 'queer', 'too', 'necessary', 'still', 'the', 'a', 'a', 'about', 'herbert', 'west', 'like', 'not', 'not', 'at', 'sunset', 'in', 'below', 'then', 'i', 'still', 'curious', 'the', 'sudden,', 'quickly', 'easier', 'horrible--hideous', 'all', 'the', 'apocalyptic', 'very', 'egypt.', 'hideously', 'crushing', 'the', 'very', 'continuing', 'not', 'to', 'of', 'the', 'hideous', 'merciful', 'of', 'so', 'not', 'something', 'as', 'only', 'generally', 'possible', 'very', 'just', 'pitiful', 'meant', 'asaphs', 'a', 'a', 'unlocked,', 'not', 'very', 'raining', 'rather', 'in', 'a', 'too', 'a', 'there.', 'a', 'about', 'postmarked', 'the', 'marsh', 'plain', 'in', 'in', 'sacred', 'a', 'arranged', 'very', 'without', 'of', 'a', 'my', 'the', 'a', 'all', 'all', 'all', 'devilish', 'loathsome', 'too', 'wrinkled', 'all', 'plain', 'a', 'terrible', 'different', 'the', 'no', 'worst', 'that', 'as', 'beyond', 'amply', 'nothing', 'a', 'a', 'a', 'the', 'too', 'like', 'months', 'then', 'in', 'partly', 'his', 'we', 'to', 'all', 'the', 'that', 'that', 'the', 'their', 'not', 'pandemonium', 'a', 'the', 'to', 'like', 'the', 'a', 'only', 'the', 'in', 'perhaps', 'at', 'upon', 'that', 'the', 'also', 'of', 'not', 'in', 'a', 'by', 'not', 'seen', 'very', 'the', 'fully', 'fearful,', 'blue,', 'darker', 'apparently', 'slightly', 'it', 'at', 'highly', 'safe', 'when', 'because', 'not', 'set', 'wrought', 'clear,', 'not', 'always', 'the', 'long', 'a', 'the', 'possibly', 'twilight', 'the', 'lucky', 'something', 'sunset', 'hard', 'not', 'not', 'no', 'dark', 'very', 'such', 'circular,', 'night', 'caught', 'the', 'a', 'upon', 'one', 'dark', 'of', 'from', 'cheering', 'indeed', 'bleaker', 'this', 'a', 'no', 'a', 'strange', 'indeed', 'this', 'divinely', 'clear', 'some', 'not', 'the', 'naked', 'disastrous', 'the', 'best', 'very', 'still', 'a', 'very', 'clear', 'equally', 'only', 'verily', 'now', 'fortunate', 'decided', 'dawn', 'a', 'highly', 'too', 'doubtful', 'ancient', 'a', 'not', 'very', 'thought', 'thought', 'left', 'not', 'unmistakably', 'so.', 'a', 'no', 'something', 'he', 'thousands', 'only', 'hard', 'that', 'a', 'the', 'wisest', 'ticklish', 'on', 'to', 'not', 'a', 'decided', 'not', 'more', 'on,', 'horrible', 'blackness', 'plain', 'well-nigh', 'a', 'lost', 'not', 'true,', 'a', 'old', 'very', 'not', 'getting', 'the', 'unmistakably', 'absolutely', 'obviously', 'in', 'the', 'a', 'generally', 'the', 'based', 'to', 'here', 'nominally', 'deemed', 'absurd.', 'murder--strangulation--but', 'signed', 'wrapped', 'with', 'a', 'all', 'hither', 'choked', 'this', 'rumored', 'who', 'the', 'incredibly', 'the', 'not', 'the', 'dark.', 'not', 'hard', 'out', 'so', 'organic,', 'from', 'dismal', 'dark', 'amply', 'only', 'without', 'the', 'almost', 'with', 'a', 'the', 'from', 'there', 'lonely', 'drained.', 'over.', 'very', 'the', 'not', 'over', 'within', 'always', 'almost', 'because', 'because', 'the', 'an', 'not', 'not', 'perhaps', 'not', 'more', 'very', 'he', 'long', 'never', 'still', 'stupefying,', 'merely', 'like,', 'a', 'the', 'not', 'to', 'that', 'bound', 'produced', 'this', 'this', 'sometimes', 'said', 'never', 'said,', 'entered', 'so', 'that', 'only', 'full', 'little', 'then', 'a', 'the', 'a', 'too', 'decided', 'the', 'not', 'the', 'plainly', 'the', 'wholly', 'the', 'more', 'ann', 'something', 'not', 'the', 'freely', 'truly', 'in', 'our', 'our', 'merely', 'this', 'of', 'queer--damnably', 'not', 'not', 'all', 'to', 'a', 'frightful', 'sunny', 'unspeakably', 'twilight', 'after', 'in', 'about', 'bound', 'not', 'no', 'in', 'deep;', 'as', 'a', 'that', 'in', 'the', 'inevitable', 'very', 'plain', 'at', 'but', 'said', 'known', 'our', 'useless.', 'during', 'necessary,', 'decided', 'a', 'at', 'annoying', 'an', 'horribly', 'indeed', 'which', 'early', 'not', 'probably', 'after', 'very', 'really', 'in', 'edward--and', 'clear', 'as', 'shut', 'deeper,', 'a', 'plain', 'heard', 'horrible,', 'she', 'about', 'in', 'found', 'fully', 'in', 'sudden,', 'after', 'only', 'in', 'after', 'with', 'only', 'in', 'the', 'the', 'not', 'not', 'my', 'seen', 'romeros', 'useless--for', 'such', 'like', 'not', 'without', 'open,', 'stolen', 'to', 'strange,', 'whispered', 'definitely', 'his', 'not,', 'averred,', 'that', 'a', 'so', 'an', 'answered.', 'still', 'the', 'plain', 'everywhere--a', 'the', 'the', 'that', 'by', 'against', 'a', 'he', 'from', 'amid', 'in', 'then', 'as', 'this', 'the', 'sad', 'really', 'not', 'not', 'indeed', 'reserved', 'a', 'sent', 'made', 'to', 'as', 'connected', 'as', 'largely', 'an', 'perhaps', 'as', 'derived.', 'autumn,', 'there', 'then', 'in', 'empty.', 'in', 'under', 'unlike', 'my', 'the', 'in', 'a', 'the', 'not', 'too', 'at', 'from', 'the']\n",
      "\n",
      "('was', 'accursed.') ['i']\n",
      "\n",
      "('accursed.', 'i') ['was']\n",
      "\n",
      "('i', 'was') ['traveling', 'inside', 'prying', 'more', 'crawling.', 'frightened', 'still', 'still', 'quite', 'in', 'alone', 'staring.', 'beset', 'pushed', 'plunged', 'far', 'the', 'glad', 'eager', 'almost', 'strange', 'half', 'fully', 'not', 'not', 'sure', 'determined', 'sure', 'expected', 'then', 'sure,', 'willing', 'on', 'in', 'stung', 'right', 'then,', 'almost', 'directed', 'told', 'in', 'to', 'glad', 'by', 'informed', 'scarcely', 'duly', 'afraid', 'at', 'at', 'going;', 'entering', 'at', 'likewise', 'indeed', 'a', 'glad', 'at', 'bringing', 'on', 'scanning', 'shut', 'tremendously', 'told', 'led', 'told', 'sorry', 'glad', 'in', 'meeting.', 'broad', 'under', 'also', 'even', 'willing', 'not', 'celebrating', 'you.', 'stopping,', 'sorry', 'not', 'looking', 'glad', 'glad', 'several', 'even', 'steering', 'resolved', 'careful', 'seven', 'hearing', 'glad', 'up', 'fifteen', 'afeared--never', 'left', 'forced', 'still', 'somewhat', 'sleepy', 'really', 'unarmed.', 'sorry', 'irresolutely', 'though,', 'shuddering', 'past', 'now', 'glad', 'to', 'transfixed', 'glad', 'none', 'very', 'by', 'prepared', 'somehow', 'in', 'a', 'grateful', 'eight', 'thoroughly', 'forced', 'coming', 'sane', 'alone--and', 'born', 'conducting', 'in', 'for', 'lectured', 'some', 'a', 'driven,', 'given', 'driven', 'indeed', 'the', 'greatly', 'and', 'for', 'mightily', 'preparing--half', 'taken', 'none', 'prospecting', 'queerly', 'getting', 'close', 'not', 'awaked', 'up', 'awake', 'wholly', 'in', 'torn', 'leaping', 'now', 'past', 'not', 'beyond', 'not', 'afraid', 'taking,', 'nearly', 'past', 'only', 'dreaming?', 'looking', 'climbing,', 'dreaming,', 'in', 'at', 'in', 'clawing', 'rather', 'interested', 'interested', 'glad', 'persistently', 'trying', 'frighted', 'conscious', 'coming', 'a', 'led', 'face', 'overworking;', 'wildly', 'viewing', 'broken', 'eventually,', 'touched', 'in', 'supercargo', 'somewhat', 'in', 'too', 'awake', 'conscious', 'unable', 'in', 'repulsed', 'held', 'sure', 'seeing', 'about', 'walking', 'taken', 'threading', 'subtly', 'alarmed,', 'faint,', 'steadying', 'his', 'by', 'pouring', 'with', 'increasingly', 'used', 'rather', 'moved', 'impressed', 'answered', 'elated', 'a', 'held', 'holding', 'wests', 'with', 'going', 'to', 'often', 'vainly', 'forced', 'ever', 'soon', 'carried,', 'plunging', 'soaring', 'experiencing', 'in', 'lowered', 'in', 'completely', 'tortured', 'free', 'still', 'alone...with', 'stirred', 'wounded,', 'finally', 'too', 'precipitated', 'glad,', 'quite', 'his', 'conscious', 'tempted', 'ready', 'able', 'twenty,', 'losing', 'always', 'shocked', 'glad', 'absolutely', 'laid', 'utterly', 'really', 'inclined', 'long', 'at', 'glad', 'frightfully', 'forced', 'soon', 'ready', 'in', 'almost', 'too', 'too', 'half-ready', 'too', 'too', 'sorry', 'a', 'glad', 'wholly', 'just', 'acutely', 'helpless,', 'doing', 'desperately', 'comfortably', 'on', 'glad', 'trying', 'not', 'when', 'pretty', 'much', 'paralysed', 'too', 'reaching', 'born,', 'an', 'permitted', 'able', 'able', 'absolutely', 'every', 'resolved', 'left', 'free,', 'strangely', 'unable', 'at', 'lost,', 'by', 'certain.', 'on', 'now', 'entirely', 'petrified,', 'so', 'swept', 'closer', 'more', 'partly', 'calmer,', 'irresistibly', 'obviously', 'not', 'now', 'to', 'one', 'not', 'between', 'not', 'alone', 'the', 'glad.', 'digging', 'digging', 'saved', 'uttering', 'digging', 'consumed', 'with', 'going', 'very', 'glad,', 'waking', 'awake.', 'to', 'silent', 'lying', 'mad', 'saved', 'alone', 'not', 'haunted', 'yet', 'fascinated,', 'inclined', 'while', 'close', 'able', 'born,', 'now', 'disappointed;', 'or', 'almost', 'not', 'driven', 'not', 'alseep,', 'going', 'laboring,', 'up', 'amused', 'presently', 'rocked', 'but', 'small', 'entertained', 'forced', 'much', 'at', 'constantly', 'in', 'abruptly', 'not', 'called', 'hearing,', 'not', 'told,', 'affected', 'disposed', 'forced', 'almost', 'at', 'not', 'to', 'glad', 'still', 'nearly', 'done,', 'found', 'alone,', 'nevertheless', 'rather', 'scientifically', 'very', 'proud,', 'sure;', 'scarcely', 'also', 'soon', 'the', 'slow,', 'confronted', 'a', 'too', 'misled--or', 'sixteen.', 'perhaps', 'puzzled', 'afterward', 'locked', 'there', 'glad', 'in', 'glad', 'half-afraid', 'careful,', 'helpless.', 'all', 'back', 'steering', 'made', 'close', 'the', 'about', 'included', 'edwards', 'lying', 'in', 'all', 'desperate,', 'not', 'not', 'much', 'likewise', 'either', 'greatly', 'no', 'forced', 'now', 'borne', 'the', 'brought', 'often', 'more', 'afterward', 'myself', 'safe', 'soon', 'too', 'a', 'knocked', 'not', 'too', 'young', 'able', 'not', 'not', 'feeble', 'to', 'a']\n",
      "\n",
      "('was', 'traveling') ['in']\n",
      "\n",
      "('traveling', 'in') ['a']\n",
      "\n",
      "('in', 'a') ['parched', 'very', 'precipitous', 'place', 'narrow', 'creeping', 'moment', 'world', 'pictured', 'tunnel,', 'loose', 'corner,', 'while', 'moment', 'very', 'tale', 'curious', 'great', 'glass', 'state', 'crucible', 'glass', 'queer', 'woodchuck', 'healthy', 'police', 'constant', 'locked', 'way', 'clutching', 'stone.', 'democrat-wagon,', 'month,', 'fearsome', 'dream,', 'mad', 'dreamy,', 'dream', 'short', 'tour', 'natural', 'short', 'manner', 'strangely', 'rear', 'half-delirious', 'small', 'diagonal', 'waking', 'large', 'home', 'very', 'foetid', 'kind', 'long,', 'huge', 'panic;', 'few', 'modern', 'style', 'cold', 'easy', 'half-comatose', 'great', 'boarded-up', 'room', 'few', 'corner', 'car,', 'kind', 'while', 'mood', 'singularly', 'normal', 'bewilderment', 'commandeered', 'letter', 'manner', 'tentative', 'while,', 'deserted', 'gulf', 'while', 'very', 'human', 'sort', 'line', 'script', 'turmoil', 'week', 'searchlight', 'few', 'week,', 'madhouse', 'cycle', 'jagged', 'whisper,', 'moment', 'neat', 'week', 'wholly', 'position', 'common', 'garage', 'position', 'vault', 'room', 'form', 'violet', 'passage', 'while', 'singular', 'certain', 'seemingly', 'cold', 'flash', 'jagged', 'crude,', 'candlestick', 'straight', 'public', 'room', 'rubbish-heap', 'dark,', 'daze', 'place', 'second.', 'language', 'certain', 'ravine', 'fashion', 'grassy', 'little', 'north', 'wind-swept', 'state', 'corner', 'rapid', 'rear', 'rough', 'very', 'halting', 'viscous,', 'singular', 'crude', 'frantic', 'dressing-gown,', 'vast,', 'spasmodic', 'haunt', 'peculiarly', 'corner', 'brawl.', 'few', 'silent,', 'while', 'book,', 'clumsy', 'steadier', 'single', 'closed,', 'sententious', 'confidential', 'bad', 'dory,', 'cupola', 'taown', 'half-hour.', 'language', 'throaty', 'highly', 'room', 'chamber', 'second', 'lateral', 'way', 'second', 'zigzagging', 'doorway', 'positively', 'limitless', 'grotesque,', 'ghoulishly', 'boston', 'downtown', 'phosphorescent', 'frenzy', 'sanitarium', 'grotesque', 'stupor', 'few', 'while,', 'script', 'queer', 'fever,', 'colossal', 'gigantic', 'while,', 'scattered', 'very', 'cold', 'stream', 'vain,', 'moment.', 'few', 'marvelous', 'kind', 'state', 'kind', 'terrible', 'mangling', 'deafening', 'pandaemoniae', 'series', 'shuttle', 'dream', 'year.', 'single', 'far', 'condition', 'poor', 'lightened', 'queer', 'climate', 'sinister', 'spare', 'way', 'bag', 'continuous', 'while', 'formless,', 'striking', 'mighty', 'similar', 'while', 'while', 'strange', 'less', 'measure', 'kind', 'graveyard', 'long,', 'prodigious', 'late,', 'body,', 'series', 'frenzied,', 'moment', 'less', 'nebulous', 'state', 'cloud', 'non-committal', 'very', 'front', 'way,', 'different', 'condition', 'non', 'lean-to', 'show', 'frame', 'lighter', 'long', 'rear', 'customs', 'while', 'cipher', 'chirography', 'state', 'long', 'spacious', 'carved', 'hand', 'cipher;', 'swamp', 'certain', 'place', 'singularly', 'yah!', 'neighbouring', 'growing', 'savage', 'motor', 'spot', 'great', 'lonely', 'highly', 'manner', 'very', 'very', 'kind', 'very', 'mania', 'handwriting', 'yeares', 'moment', 'locked', 'crabbed', 'gigantic', 'moment', 'voice', 'moment', 'moment', 'phaleron', 'lekythos.', 'tidal', 'dressing-gown,', 'crabbed', 'covered', 'knot', 'sullen', 'cupboard', 'clear', 'city', 'manner', 'whiskey', 'demoniac', 'panic,', 'vague', 'straightjacket.', 'barbarous', 'kind', 'region', 'half-stupor', 'week', 'dream', 'dream', 'golden', 'galley', 'prehistoric', 'finely', 'lifetime', 'marvellously', 'heavy', 'man', 'tone', 'mechanic', 'breathless,', 'deep', 'strange,', 'small', 'short', 'cold', 'system', 'moment', 'san', 'barge', 'mighty', 'madhouse', 'rational', 'vast', 'high', 'hand', 'drone', 'vortex', 'grotesque', 'high', 'spacious,', 'corner', 'canvas', 'wordy', 'supremely', 'manner', 'house', 'padded', 'forest', 'tiny', 'shocking', 'state', 'dense', 'moment', 'life', 'canadian', 'great', 'corpse;', 'field', 'dark', 'nearly', 'room', 'far', 'frightful', 'repulsive', 'gesture', 'cataclysm', 'shadowy', 'way--but', 'venerable', 'sub-cellar', 'highly', 'railway', 'kind', 'brief', 'non-material', 'remote', 'manner', 'taxi', 'victoria', 'line', 'transverse', 'complete', 'late', 'temple', 'few', 'manner', 'flash', 'chill', 'space', 'horrible', 'row', 'while', 'very', 'city;', 'fit', 'dusk', 'corner', 'tone', 'half-swoon.', 'box', 'dream,', 'moment;', 'very', 'bad', 'year', 'drawing', 'few', 'few', 'certain', 'much', 'sense,', 'strained,', 'voice', 'great', 'very', 'hoarse', 'cab', 'rage', 'day', 'moment', 'way', 'way,', 'sense--but', 'vast', 'pattern', 'half-daze,', 'while', 'lime-packed', 'tree', 'crumbling', 'different', 'narrow', 'while,', 'bare', 'way', 'way', 'parvenu', 'minute', 'churchyard', 'spirit', 'direction', 'half-familiar', 'low-cut', 'row', 'distant', 'nearby', 'profusion', 'massive', 'place', 'skull-cap', 'rumbling', 'field,', 'total', 'most', 'face', 'grey,', 'fantastic', 'tongue', 'circle', 'strange', 'cavern', 'tone', 'peace', 'piping', 'fabric', 'mist;', 'sinister', 'festooned', 'week', 'prehistoric', 'resplendent', 'detestable', 'swelling', 'black', 'tunnel', 'sheltered', 'crevice.', 'gods', 'whirling,', 'bundle', 'cemetery', 'forest', 'noxious', 'surprisingly', 'series', 'nearby', 'great', 'circular', 'golden', 'cottage', 'while', 'grey', 'valley', 'smock', 'chair', 'dressing', 'prehistoric', 'great', 'low-ceiled', 'roadside', 'camp', 'while', 'panic', 'great', 'great', 'hateful', 'style', 'ring.', 'moment', 'short', 'tavern.', 'very', 'semicircle', 'nightmare', 'hellish', 'realm', 'ring', 'valley', 'strange', 'new', 'few', 'moment', 'moment', 'stumble', 'georgian', 'strange', 'series', 'brighter', 'raid', 'sort', 'cracked,', 'state', 'state', 'multitude', 'distant', 'body', 'few', 'niche', 'squalid', 'small', 'frightful', 'short', 'familiar', 'hamlet', 'week', 'remote', 'green', 'dreamless', 'flame', 'lofty', 'cheap', 'friendly', 'howling', 'silent', 'labyrinth', 'thickly', 'swoon', 'chaos', 'dream', 'thin,', 'book', 'robe', 'stable,', 'fair', 'days,', 'barge', 'gilded', 'far', 'chronicle', 'lonely', 'building', 'moment', 'merciful', 'covered', 'while', 'boys', 'georgian', 'coarse', 'horrible', 'madhouse.', 'wood,', 'carelessly', 'light', 'while,', 'mindless', 'meaningless', 'dream,', 'world', 'tall', 'discoloured', 'nameless', 'box', 'certain', 'deep,', 'certain', 'tense', 'shaky', 'pitch', 'college', 'few', 'foreign', 'manner', 'detestably', 'sullen', 'delirium', 'moment', 'marked', 'paved', 'bottle', 'bare', 'madhouse', 'boston', 'half-decayed', 'cryptic', 'car.', 'cell', 'pitiable', 'field', 'virtual', 'sprightly', 'mans', 'moment', 'choking', 'flash', 'week.', 'flood', 'remote', 'while', 'kind', 'queerly', 'manner', 'vague', 'past', 'moment', 'conspicuous', 'book,', 'smartly', 'crude', 'tempest.', 'great', 'startling', 'marble', 'good', 'few', 'lonely', 'soft', 'resplendent', 'vast', 'deep', 'grove', 'book', 'spot', 'manner', 'torrid,', 'language', 'moment', 'chaos', 'bewildered', 'flash', 'firmament', 'chilling', 'region', 'fashion', 'lane', 'black', 'thin', 'kind', 'kind', 'vast', 'hollow', 'tongue', 'dream,', 'market', 'place', 'while', 'pool']\n",
      "\n",
      "('a', 'parched') ['and']\n",
      "\n",
      "('parched', 'and') ['terrible']\n",
      "\n",
      "('and', 'terrible') ['valley', 'significance--scenes', 'clues', 'lines', 'books', 'hidden', 'alliances', 'powers--the', 'things.', 'meaning,', 'access', 'corroboration', 'fruition.', 'cast', 'colloquy', 'expectation.', 'groping,', 'tradition', 'revenge.', 'shone', 'goal', 'has', 'things', 'was', 'still', 'old', 'eyrie', 'disclosure.', 'things', 'one,']\n",
      "\n",
      "('terrible', 'valley') ['under', 'and']\n",
      "\n",
      "('valley', 'under') ['the']\n",
      "\n",
      "('under', 'the') ['moon,', 'red', 'spectroscope', 'sea;', 'waters,', 'very', 'electric', 'hills', 'rud', 'circumstances,', 'hills,', 'protection', 'name', 'same', 'bedclothes,', 'sea,', 'electric', 'sea', 'sea,', 'moon,', 'quasi-hypnotic', 'mocking', 'sea.', 'prevailing', 'sea,', 'ocean', 'ground,', 'mingled', 'direct', 'city', 'magic', 'vast', 'glaciation,', 'glacial', 'sea', 'sea,', 'sea', 'sea', 'sea,', 'sea,', 'sea', 'known', 'known', 'domination', 'early', 'stars.', 'strain.', 'name', 'waves', 'earth', 'strictest', 'table', 'electric', 'pressure', 'curiously', 'sinister', 'eaves', 'lee', 'afternoon', 'wan', 'stress', 'sun', 'strain', 'lime', 'cellar', 'same', 'great', 'name', 'name', 'sway', 'slow', 'dark', 'trees,', 'trees.', 'dark', 'ivory', 'stars', 'whole', 'enchanted', 'lurid', 'phosphorescent', 'low', 'suydam', 'yews', 'circumstances,', 'calm', 'harvest', 'unmeasured', 'persistent', 'dark', 'yath-trees', 'trees.', 'direction', 'circumstances;', 'endless', 'cellar', 'ridicule', 'great', 'table,', 'waves.', 'strain,', 'sea.', 'title', 'boxes', 'table;', 'table', 'ground!', 'eaves.', 'full', 'full', 'sea,', 'moon.', 'control', 'arched,', 'horned', 'horned', 'hot,', 'military', 'modern']\n",
      "\n",
      "('the', 'moon,') ['and', 'and', 'but', 'whose', 'slightly', 'now', 'and', 'and', 'and', 'and', 'and']\n",
      "\n",
      "('moon,', 'and') ['afar', 'despite', 'a', 'the', 'devil-lights', 'the', 'all', 'of', 'the', 'of', 'soft', 'ever', 'saw']\n",
      "\n",
      "('and', 'afar') ['i', 'off,']\n",
      "\n",
      "('afar', 'i') ['saw']\n",
      "\n",
      "('i', 'saw') ['it', 'the', 'that', 'with', 'that', 'no', 'the', 'with', 'that', 'that', 'it.', 'the', 'its', 'later', 'signs', 'outlined', 'kingsport', 'that', 'not', 'from', 'that', 'that', 'them', 'some', 'the', 'them', 'this,', 'something', 'when', 'that', 'that', 'it,', 'the', 'above', 'no', 'the', 'the', 'and', 'he', 'that', 'that', 'it', 'that', 'the', 'these', 'noyes', 'the', 'that', 'that', 'him', 'the', 'that', 'it', 'there', 'that', 'the', 'a', 'listless-looking', 'a', 'the', 'the', 'the', 'that', 'a', 'a', 'that', 'that', 'that', 'that', 'that', 'that', 'that', 'a', 'that', 'the', 'the', 'that', 'a', 'to', 'the', 'that', 'the', 'that', 'them', 'them', 'no', 'a', 'that', 'the', 'interminable', 'monstrous', 'an', 'the', 'tremendously', 'them', 'the', 'the', 'also', 'some,', 'at', 'those', 'the', 'again', 'masses', 'some', 'that', 'that', 'the', 'the', 'or', 'in', 'that', 'no', 'that', 'rampart', 'the', 'that', 'his', 'the', 'that', 'in', 'that', 'dr.', 'the', 'protruding', 'how', 'it.', 'this', 'that', 'only', 'the', 'that', 'tillinghast', 'the', 'to', 'him', 'at', 'him', 'that', 'nothing', 'the', 'the', 'a', 'the', 'the', 'this', 'that', 'him', 'the', 'sweep', 'the', 'a', 'outlined', 'that', 'that', 'the', 'phantom', 'the', 'the', 'my', 'it', 'that', 'that', 'in', 'what', 'the', 'vindictiveness', 'that', 'how', 'a', 'that', 'that', 'her', 'the', 'it.', 'that', 'the', 'that', 'that', 'that', 'his', 'the', 'it', 'the', 'that', 'that', 'it', 'those', 'that', 'that', 'he', 'a', 'how', 'the', 'the', 'the', 'a', 'the', 'a', 'hooded', 'the', 'a', 'on', 'that', 'pickman', 'in', 'by', 'my', 'that', 'in', 'about', 'a', 'a', 'the', 'an', 'the', 'there', 'he', 'the', 'in', 'on', 'a', 'that', 'from', 'nothing', 'glistening', 'that', 'that', 'in', 'a', 'on', 'the', 'dark', 'in', 'zann', 'no', 'drawn', 'that', 'in', 'no', 'below', 'it', 'without', 'the', 'him', 'a', 'again', 'that', 'a', 'him', 'my', 'unnerved', 'only', 'this', 'the', 'a', 'the', 'that', 'him', 'that', 'what', 'was', 'that', 'less', 'some', 'his', 'him', 'that', 'in', 'a', 'and', 'a', 'that', 'him', 'that', 'outlined', 'that', 'on', 'unwonted', 'that', 'therein', 'in', 'afar', 'that', 'that', 'the', 'light', 'the']\n",
      "\n",
      "('saw', 'it') ['protruding', 'first.', 'strengthen,', 'and', 'for', 'on', 'i', 'led', 'again,', 'was', 'in', 'was', 'and', 'then', 'at', 'as']\n",
      "\n",
      "('it', 'protruding') ['uncannily']\n",
      "\n",
      "('protruding', 'uncannily') ['above']\n",
      "\n",
      "('uncannily', 'above') ['the']\n",
      "\n",
      "('above', 'the') ['sands', 'deserts', 'ruins', 'ripped', 'others,', 'miasmal', 'unclean', 'deep', 'general', 'old', 'waist', 'murmurs', 'toiling', 'limits', 'barking', 'waters.', 'ceiling--which', 'rest', 'slanting', 'slanting', 'young', 'slanting', 'distant', 'small', 'city', 'tangle', 'tiers', 'surrounding', 'place,', 'altar', 'drifting', 'water', 'waves.', 'slant', 'horizon', 'glacier', 'unicellular', 'line', 'ground.', 'present', 'aperture.', 'glacial', 'glacial', 'winds', 'great', 'fireplace', 'right', 'pictures', 'howling', 'doomed', 'river.', 'lovely', 'young', 'oddly', 'archway', 'whip-rack;', 'middle', 'coarsest', 'chatter', 'eastern', 'towering', 'dark', 'billows', 'luminous', 'shimmering', 'crowded', 'bodys', 'cobbled', 'mounting', 'dead', 'waist.', 'titanic', 'door.', 'spheres', 'ground', 'level', 'rank', 'faint', 'other', 'waves', 'gleaming', 'clouds', 'meadows', 'ghouls,', 'vapours.', 'general', 'right-hand', 'clouds', 'wharves,', 'perils', 'broken', 'line', 'mountains', 'pinnacles.', 'peaks', 'level', 'myriad', 'clouds', 'scenes', 'terrace', 'air', 'low-lying', 'fast', 'mounting', 'pulpit;', 'pulpit', 'fireplace', 'maniacally', 'watchers,', 'mists', 'topmost', 'trees', 'forest', 'accursed', 'many-coloured', 'hellishly', 'existing', 'court', 'anthropomorphic', 'other.', 'miskatonic', 'estuary', 'waves.', 'plain', 'wreckage', 'oceanbed', 'wheel.', 'arch,', 'din', 'eastern', 'scene', 'apartment', 'keystone', 'keystone', 'waters,', 'cemetery', 'stricken', 'nighted']\n",
      "\n",
      "('the', 'sands') ['as', 'of', 'under', 'of', 'of', 'of', 'so', 'of']\n",
      "\n",
      "('sands', 'as') ['parts']\n",
      "\n",
      "('as', 'parts') ['of', 'of']\n",
      "\n",
      "('parts', 'of') ['a', 'the', 'his', 'books', 'the', 'the', 'the', 'the', 'the', 'the', 'the', 'the', 'their', 'arches', 'the', 'some', 'them', 'the', 'our', 'the', 'one', 'the', 'the', 'the', 'the', 'the', 'the', 'the', 'the', 'the', 'it,', 'the', 'the', 'africa,', 'a', 'bodies.', 'what', 'bodies,', 'the', 'even', 'the', 'the', 'the', 'the', 'the', 'the', 'the', 'the', 'dreamland.', 'space,', 'it', 'dreamland', 'the', 'the', 'the', 'the', 'the', 'the', 'the', 'the', 'which']\n",
      "\n",
      "('of', 'a') ['corpse', 'cold', 'little', 'wind', 'temple', 'corridor', 'strange', 'mighty', 'gate', 'steep', 'definite', 'distant', 'race', 'gigantic', 'gibbet', 'village', 'high', 'feeble', 'returning', 'puritan', 'spacious', 'fire;', 'large', 'maple', 'frenzied', 'spectral', 'hugely', 'new', 'dead', 'form', 'cyclopean', 'word', 'fantastically', 'paper', 'somewhat', 'more', 'rotting', 'hidden', 'glimpse', 'very', 'sensitive', 'type,', 'very', 'mere', 'local', 'hideous', 'strange,', 'giant', 'neat', 'daemon', 'cloven', 'thousand', 'faint,', 'course', 'fringed', 'circle', 'morbid', 'complaint', 'book', 'burglar-alarm', 'dying', 'frightful', 'crocodile', 'tail', 'panic-struck', 'branch', 'line', 'vast', 'shelf-lined', 'cipher;', 'very', 'mouthful.', 'tangle', 'long', 'party', 'manifestation', 'fearful', 'daemon.', 'moderately', 'blow.', 'sunlight', 'highly', 'bald,', 'well-known', 'long,', 'man', 'tricky', 'woodland', 'wild', 'queer', 'cave', 'man', 'frightful', 'green', 'plainly', 'cosmos-wide', 'chlorophyll-like', 'form', 'strange', 'train.', 'region', 'thousand', 'sharp', 'mans', 'very', 'metal', 'metal', 'mixed', 'frightful', 'clumsy,', 'mechanical', 'great', 'sleeper.', 'spectral', 'master', 'small', 'former', 'bygone', 'remarkable', 'rat,', 'neighbouring', 'given', 'superstitious', 'violet', 'slippery-looking', 'different', 'system', 'starfish--nearly', 'monstrous,', 'squalid', 'large', 'fresh', 'clod-like', 'pair', 'far', 'sign', 'rat', 'police', 'rat', 'ghostly', 'singularly', 'huge', 'diminutive', 'rat,', 'human', 'fantastic', 'bizarre,', 'venerable', 'century', 'flight', 'headstone', 'hot-air', 'monstrous', 'metal', 'puzzling', 'newspaper', 'distant', 'scraping', 'strengthening', 'night', 'ladder', 'vast,', 'demoniac', 'sluggishly', 'tourists', 'town', 'queer', 'time.', 'fairly', 'few', 'bygone', 'waterfall', 'sparse', 'circular', 'cracked', 'tall,', 'deserted', 'factory', 'dingy', 'royal', 'ship', 'sunday--too', 'shoggoth?', 'bolt', 'handy', 'doubt,', 'genuine', 'bolted', 'moon', 'general', 'design', 'curious', 'parklike,', 'curious', 'black', 'connected', 'sanitarium', 'generation', 'wholly', 'black,', 'book', 'peculiar', 'mere', 'kind', 'monstrous', 'purplish', 'totally', 'bizarre', 'ghastly,', 'hundred', 'loathsome', 'fixed', 'queer', 'viscous', 'dying', 'ridgy', 'third', 'kind', 'disembodied', 'flexible', 'vast', 'general', 'twelfth-century', 'king', 'roman', 'priest', 'suffolk', 'court', 'curiously', 'strange,', 'peculiar,', 'sense', 'peculiar', 'particularly', 'monstrous', 'mile', 'queer', 'curvilinear', 'dark', 'myth', 'change', 'sudden,', 'vast', 'non-vistial', 'hundred', 'frightful', 'million', 'wildly', 'sort', 'wild', 'breeches-buoy', 'raw', 'mile', 'bygone', 'greenish', 'gasoline', 'sensory', 'group', 'frightful', 'vague,', 'world', 'cyclopean', 'hard', 'haunted,', 'peculiarly', 'piece', 'scott,', 'bleak', 'thickness', 'solid,', 'petrified', 'more', 'greater', 'surviving', 'colossal', 'fabulous', 'long,', 'former', 'frightful', 'species', 'viscous', 'new', 'stressful', 'long', 'decreased', 'mile', 'mile', 'pointed', 'lone', 'nightmare', 'nature', 'line', 'penguin.', 'living', 'sort', 'large', 'huge,', 'mile', 'previous', 'used', 'rookery', 'panic', 'monstrous', 'single,', 'general', 'very', 'progressive', 'glamorous', 'quaint', 'man', 'very', 'mile', 'learned', 'sort.', 'wizard', 'private', 'quiet', 'scope', 'sort', 'profusion', 'stock', 'passage', 'moon-light', 'coach', 'single', 'long', 'passage', 'native', 'more', 'new', 'negro', 'window', 'specified', 'pallid,', 'late', 'new', 'motor', 'tense,', 'quality', 'dialogue,', 'sighing', 'man', 'man', 'lean,', 'colleague.', 'programme', 'well-developed', 'crack.', 'blind.', 'ritual', 'very', 'vital', 'foreigner,', 'material', 'long-dead', 'yawning', 'century', 'cylindrical', 'vast', 'tangible', 'glow', 'logical', 'century', 'single', 'pinkish-white', 'certain', 'rather', 'dry,', 'very', 'hunted', 'house', 'particular', 'profound,', 'lantern', 'man', 'little', 'grave', 'few', 'terrible', 'primitive', 'little-traveled', 'sheriffs', 'tree,', 'catskill', 'stronger', 'steady', 'long', 'few', 'tramp', 'draught', 'mild', 'metropolis,', 'shabby', 'room', 'rather', 'barber', 'well-born', 'nervous', 'sepulchred', 'rage', 'few', 'distinct', 'poe', 'great', 'day', 'golden', 'portuguese', 'forgotten', 'lost', 'gray', 'great', 'gods', 'portuguese', 'layman', 'gigantic', 'kind', 'theater.', 'continuous', 'lineage', 'private', 'candelabrum', 'vast', 'barefoot', 'tomahawk', 'powerful', 'ghoulish', 'new', 'youthful', 'terrible', 'circus', 'padded', 'revolver', 'home', 'crowd', 'suspected', 'fight', 'dead', 'particular', 'village', 'cold', 'less', 'severe', 'headless', 'putrescent', 'crowd', 'height', 'sculptor,', 'jester,', 'few', 'clamorous', 'nocturnal', 'strange', 'strange', 'narrow', 'great', 'saracenic', 'king,', 'literal', 'lifetime', 'chill,', 'mighty', 'column--a', 'sort', 'cyclopic', 'giant,', 'heavy', 'malignant', 'task', 'breaking', 'spare', 'carved', 'distinct', 'bygone', 'dove,', 'very', 'gentleman.', 'great', 'civilization', 'temper.', 'chap.', 'great', 'patrician,', 'certain', 'sort', 'rimbaud,', 'bizarre', 'chair', 'relief.', 'shod', 'deep', 'less', 'thick', 'slow,', 'door', 'maddened', 'room', 'cloudy', 'great', 'shocking', 'disquieting', 'correspondence--school', 'salt', 'beacon', 'changeling,', 'young', 'revolver,', 'bard', 'new', 'stream', 'beauty', 'mighty', 'swelling', 'stone', 'family', 'curse', 'certain', 'reminder', 'flight', 'man', 'terrible', 'skeleton,', 'serpent,', 'guiding', 'quadruped,', 'long', 'nature', 'long', 'city', 'neglected', 'black', 'chinese', 'faun', 'change', 'single', 'bent', 'line', 'descent', 'world', 'splendor', 'bright', 'far', 'peaceful', 'great', 'god', 'greater', 'few', 'ship,', 'thousand', 'monstrous', 'sluggish', 'leprous-looking', 'city.', 'sort', 'toad-thing', 'divine', 'sunken', 'square,', 'primal', 'form', 'condor', 'god.', 'race', 'curse.', 'large', 'small', 'nose,', 'victim.', 'frenzy;', 'tense', 'pleasant', 'land', 'park', 'young', 'god', 'strange', 'large', 'level', 'giants', 'blasted', 'squat', 'prayer', 'subterrene', 'frightful', 'side', 'northern', 'broad', 'ghoul,', 'mans', 'greyish', 'winding', 'realm', 'cold', 'vast', 'size', 'giant', 'rifle', 'planet', 'bag', 'design', 'great', 'surety', 'daemon', 'kind', 'dark', 'temple.', 'dreamers', 'small', 'vacuum', 'bishop.', 'chair.', 'drowning', 'suitable', 'terrible', 'backward-glancing', 'malignant', 'laugh.', 'bystander', 'well-known', 'horror', 'restful', 'squalid', 'dialect', 'kidnapped', 'metal', 'faint', 'mob', 'dublin', 'red', 'naked', 'contagion', 'corpulent', 'blasphemous', 'running', 'night-black', 'prosaic', 'crouching', 'nameless', 'gigantic', 'dominating', 'month', 'silent', 'demon', 'possible', 'phantasmal', 'monstrous', 'struggle.', 'thunderstorm', 'cancerous', 'man', 'subterranean', 'man', 'nightmare', 'human', 'certain', 'ghoulish,', 'latticed', 'temple', 'new-risen', 'classic', 'whole', 'foreigner.', 'respectable', 'chair.', 'horrible', 'haunted', 'living', 'dizzying', 'kind', 'forgotten', 'bridge', 'conquering', 'rocky', 'road,', 'century', 'leaky', 'playmate,', 'fair', 'still', 'proud', 'prehistoric', 'phrygian', 'cult', 'particularly', 'cat', 'warming-pan', 'nature', 'baffled', 'madness', 'roman', 'de', 'fifth', 'mere', 'staring', 'useful,', 'new', 'glassy-eyed,', 'somewhat', 'long', 'lease', 'small', 'new', 'boy', 'man', 'proper', 'newer', 'choking', 'house--an', 'miniature', 'pit.', 'stuck', 'primal', 'man', 'wild-minded', 'century.', 'drawer', 'sacred', 'blindly', 'flight', 'quaint', 'citizen.', 'young', 'vast', 'hideous', 'thousand', 'stout', 'common', 'battleship', 'delegation', 'soft,', 'large', 'narrow', 'great', 'radiant', 'past', 'weak', 'stray', 'ghastly', 'horror', 'sombre,', 'somewhat', 'child;', 'friend', 'strange', 'certain', 'most', 'city', 'long', 'long', 'guest', 'broken', 'ghoulish', 'long', 'commercial', 'forgotten', 'pitiful', 'man', 'chesterfield', 'rochester.', 'watcher.', 'calamity', 'violent', 'young', 'prodigious', 'passage', 'great', 'tottering,', 'flighty', 'house,', 'childless,', 'malign,', 'hybrid', 'split', 'vicious', 'mighty', 'thousand', 'thousand', 'monstrous', 'vessel', 'whiteness', 'scarcely', 'high-caste', 'strange', 'pylon', 'man', 'monstrous', 'single', 'high,', 'manifestation', 'circle', 'wall,', 'titanic', 'horror', 'tri-dimensional', 'cone', 'blazing', 'frightful', 'figure', 'labyrinth', 'clawed,', 'sort,', 'charlatan', 'most', 'vast', 'shocking', 'sun', 'true', 'dream', 'house', 'sinister', 'prã¦torian', 'cohort', 'province', 'little', 'slight', 'roman', 'single', 'great', 'centurio', 'young', 'final']\n",
      "\n",
      "('a', 'corpse') ['may', 'fully', 'sufficiently', 'whose']\n",
      "\n",
      "('corpse', 'may') ['protrude']\n",
      "\n",
      "('may', 'protrude') ['from']\n",
      "\n",
      "('protrude', 'from') ['an']\n",
      "\n",
      "('from', 'an') ['ill-made', 'accidental', 'aged', 'unknown', 'ancient', 'attic', 'object', 'obvious', 'ineffable', 'infinite', 'electrical', 'outer', 'adjacent', 'oil', 'old', 'entirely', 'unidentified', 'unseen', 'unseen', 'arcaded', 'overhanging', 'earth', 'immense', 'intervening', 'earthly']\n",
      "\n",
      "('an', 'ill-made') ['grave.']\n",
      "\n",
      "('ill-made', 'grave.') ['fear']\n",
      "\n",
      "('grave.', 'fear') ['spoke']\n",
      "\n",
      "('fear', 'spoke') ['from']\n",
      "\n",
      "('spoke', 'from') ['the', 'a']\n",
      "\n",
      "('from', 'the') ['age-worn', 'rays', 'banks', 'long', 'black', 'outside,', 'land', 'apocryphal', 'delirious', 'peak', 'passage', 'vaults', 'idea', 'primal', 'direction', 'tunnels', 'banks', 'hill;', 'diamond', 'roads', 'light,', 'stone', 'library', 'awkward', 'strange', 'valley', 'stars,', 'gardner', 'college', 'stone', 'abyss.', 'soil.', 'window', 'account', 'world,', 'tainted', 'attic,', 'yard', 'lantern', 'great', 'college', 'well...cant', 'rim.', 'house.', 'well,', 'grey', 'black', 'college', 'well', 'house', 'well--in', 'slimy', 'well', 'window', 'well--seething,', 'skies', 'revelation', 'light', 'newport', 'waterfront', 'artists', 'erratic', 'captured', 'swamp', 'gulfs', 'cape', 'immensely', 'stars,', 'specimens', 'sea', 'bondage', 'stars,', 'peril', 'sea-bottom', 'dark', 'waters.', 'newly', 'stars', 'pit', 'moon', 'gnarled', 'ground', 'village', 'unwholesome', 'ordinary', 'ground.', 'sealed', 'vacant', 'window.', 'necronomicon', 'library.', 'dog,', 'abdomen', 'necronomicon,', 'crowd,', 'external', 'great', 'rud', 'barn;', 'stable', 'glen', 'wizards', 'repeated', 'hill', 'air.', 'air', 'house', 'current', 'earth', 'solar', 'stack', 'college', 'associated', 'air', 'increasing', 'storm', 'summit.', 'swath.', 'partys', 'distance,', 'sky.', 'pit', 'frantic', 'purple', 'hill', 'distance,', 'same', 'unfrequented', 'top', 'great', 'stars.', 'letters', 'first', 'stars', 'envelope,', 'veritable', 'tube-connected', 'pictures', 'application', 'demented,', 'college', 'wells', 'gulfs', 'world', 'dark', 'boston', 'office.', 'old,', 'low', 'utterly', 'sun.', 'quick', 'townshend', 'snapshot', 'car', 'akeley', 'door', 'ultimate', 'central', 'uttermost', 'first', 'study', 'speech-machine', 'table', 'seat', 'kings', 'dreaded', 'first--for', 'outer', 'exterior', 'unplumbed', 'century-closed', 'ancient', 'monstrous', 'earth', 'black', 'formulae', 'thought', 'pull,', 'sardonic', 'head', 'central', 'narrow', 'city.', 'closed', 'north', 'ground', 'next', 'stars--the', 'old', 'university.', 'total', 'ruined', 'expressed', 'brow', 'stars--and', 'avenue.', 'square--was', 'gate', 'little', 'windows,', 'days', 'stone,', 'steeples', 'cobwebbed', 'days', 'nightmare', 'outer', 'fireworks', 'ladder,', 'church,', 'unseen', 'crowd.', 'trees', 'west', 'books,', 'blindly', 'materialistic', 'rest', 'eternal', 'pawnbroker,', 'east', 'exhaust.', 'main', 'tangle', 'water,', 'shore', 'past.', 'quantities', 'outside', 'noise', 'visibly', 'confused,', 'quart', 'other', 'island;', 'look', 'cupalo', 'cupalo.', 'churches', 'unwholesome', 'evil-visaged', 'aged', 'marks,', 'general', 'first', 'town.', 'grocery', 'next', 'other', 'connecting', 'immediate', 'south,', 'gilman', 'hotel', 'lofty', 'crumbling', 'rowley', 'north.', 'rowley', 'town,', 'sea', 'moment', 'sight', 'burning', 'days', 'great', 'titanic', 'normal', 'position', 'stars;', 'accomplishments', 'apexes.', 'great', 'future--to', 'days', 'shelves', 'top', 'majority,', 'abyss', 'endless', 'planet', 'winged,', 'reptile', 'furry', 'wholly', 'arachnid', 'hardy', 'cruel', 'west', 'top,', 'future', 'planets', 'dreams.', 'place', 'enclosed', 'press.', 'college,', 'camp', 'air,', 'very', 'earlier', 'dream-world,', 'wall,', 'star-headed', 'archives.', 'bottom', 'normal', 'open,', 'spaces', 'past,', 'antarctic.', 'university--pabodie,', 'ships', 'arkham', 'plateau,', 'parts', 'larger', 'west,', 'shortwave', 'camp.', 'camp--had', 'pencil', 'droning', 'camp,', 'external', 'stars', 'laboratory', 'dogs,', 'moving', 'increasingly', 'terrifying', 'great', 'first', 'actual', 'look', 'camp', 'wind', 'ravaged', 'human', 'improvised', 'great', 'actual', 'plateaus', 'mountains,', 'glaciated', 'oppressive', 'river,', 'bursting', 'original', 'life', 'pictorial', 'air--saved', 'stars', 'solid', 'pictured', 'sculptures', 'neighboring', 'antarctic', 'pictured', 'once', 'pliocene', 'waters', 'stars--which', 'dead', 'long', 'nameless', 'ill-fated', 'present,', 'ancient', 'heart', 'nearest', 'evident', 'oppressive', 'air.', 'ones', 'upper', 'air,', 'plane', 'foothills', 'basement', 'same', 'unfathomed', 'abyss.', 'monstrous', 'thick,', 'other', 'nauseously', 'fetid', 'old', 'southern', 'essential', 'dust', 'venerable', 'relics', 'study', 'myriad', 'rear', 'lovely', 'curwen', 'kingstown', 'essential', 'dust', 'affair', 'curwen', 'black,', 'statements', 'garden', 'river.', 'rustic', 'preliminary', 'cove', 'regions', 'same', 'sign', 'stone', 'direction', 'accursed', 'curwen', 'scream', 'slate', 'horrors', 'text', 'ancient', 'scene', 'crooker', 'north', 'great', 'grave', 'overmantel.', 'moses', 'sight', 'white', 'laboratory', 'living', 'bay,', 'water.', 'roadway', 'space', 'first', 'business', 'now', 'house', 'house', 'laboratory', 'oil', 'south', 'butchers', 'city', 'senior', 'dark', 'time', 'vampirism', 'two', 'known', 'normal.', 'house', 'saltes', 'thing', 'which', 'photostatic', 'past,', 'panelled', 'bygone', 'grave,', 'disordered', 'black', 'crypt', 'prospect', 'reluctant', 'steep-roofed', 'damp', 'open', 'relative', 'scientific', 'room', 'shelves', 'shelves', 'jug', 'custodes', 'stained', 'pits', 'far-away', 'inscriptions', 'shelf', 'car.', 'latters', 'kylix', 'cheap', 'great', 'detectives', 'strange', 'only', 'wells!', 'youth.', 'skies.', 'officials', 'painted', 'chimney', 'chimney', 'upstairs', 'second', 'subtle', 'chair', 'creature', 'bay,', 'lonely', 'life', 'baldness', 'decayed', 'medical', 'cold;', 'scene', 'man.', 'manner', 'dream', 'crude', 'pages', 'world', 'village', 'cliff', 'regions', 'shore,', 'river', 'high-priest', 'infinity', 'late', 'smaller', 'inside.', 'outside', 'open', 'nasty', 'general', 'german', 'background', 'second', 'tales', 'room', 'room,', 'regions', 'cellar', 'house.', 'state', 'farthermost', 'direction', 'machine.', 'stars...i', 'newspaper', 'evasive', 'first', 'sight', 'possibilities', 'same', 'plaster-strewn', 'sagged', 'wreckage,', 'river', 'dark', 'shadows', 'dark', 'college--materials', 'slight', 'dead.', 'pitch-black', 'halls', 'nightmare', 'second', 'closest', 'local', 'very', 'potters', 'potters', 'field', 'revolver', 'soul', 'well--shaped', 'shadows', 'shadows.', 'nearly', 'spinal', 'material', 'shock', 'large', 'first', 'detached', 'morbid', 'crumpled', 'hour', 'box,', 'centuried', 'chasm', 'pipe', 'unutterable', 'northeast.', 'black', 'publishers', 'dizzy', 'great', 'jagged', 'above', 'binding', 'temple', 'conscious', 'sunken', 'entrance', 'fishermans', 'draft', 'place', 'sound', 'ghoulish', 'elaborateness', 'upper', 'noisome', 'cavernous', 'tomb.', 'daily', 'weakened', 'inferior', 'outside.', 'road,', 'carvings', 'gate--isnt', 'cleanliness', 'books', 'start.', 'dime', 'golden', 'start.', 'branches', 'scalp', 'knob', 'horror', 'door,', 'days', 'same', 'wall', 'other', 'storehouse.', 'womans', 'outside', 'surface', 'easel', 'rear', 'unknown', 'earth.', 'control', 'greenish', 'fact', 'spectral', 'pretenders', 'concoctions', 'elevated', 'sea;', 'commonplace,', 'elevated', 'scriptures.', 'usual.', 'use', 'light', 'haunts', 'table', 'influence.', 'formal,', 'lotosgardens', 'tower', 'society', 'unwilling', 'lowly', 'hour', 'idea', 'curse;', 'twisted', 'damp', 'regular', 'apparently', 'party,', 'on-coming', 'sinister', 'tips', 'all-pervading', 'earth', 'south', 'merchants.', 'cottage', 'idea', 'exterior', 'stupor', 'door', 'pounding', 'imperilled', 'stars.', 'earth', 'golden', 'shuddering', 'new-flooded', 'plutonic', 'close', 'moon', 'gray', 'greatness', 'earth', 'lake', 'lake', 'gardens', 'vaults', 'distant', 'bnazic', 'lake,', 'gibbous', 'lake', 'doomed', 'gates', 'slopes', 'railed', 'placid', 'traders', 'butchers', 'wharves', 'higher', 'farther', 'captains', 'lava-gatherers', 'groves.', 'shore', 'chill', 'north', 'isle', 'rustling', 'spot', 'other', 'ground', 'cavern', 'granary', 'north', 'stair-containing', 'charter', 'top', 'cave', 'furtive', 'darkness', 'singular', 'loss', 'less', 'river', 'north', 'marble', 'north', 'mindless', 'chilly', 'sea-cliffs', 'waking', 'faces', 'under', 'valleys', 'galleys', 'lower', 'temple', 'seven', 'seven', 'lodges', 'scattered', 'haunts', 'grey', 'cold', 'moon.', 'moon,', 'frescoes', 'cliffs', 'altar', 'urns', 'moon.', 'motions', 'abyss,', 'enchanted', 'black', 'huddled', 'growing', 'enchanted', 'rock', 'little', 'thing', 'solid', 'rear', 'sentries', 'narrow', 'party', 'unseen', 'hostile', 'moonbeasts', 'island', 'black', 'frescoes', 'other', 'castle', 'jagged', 'haunted', 'stars,', 'chambers', 'three', 'marvellous', 'world', 'deeds', 'sacred', 'chair', 'similarly', 'sight', 'distant', 'adjacent', 'sumptuous', 'inn.', 'far', 'normal', 'crowd', 'infuriate', 'wharves', 'first', 'contagion.', 'smuggling', 'police,', 'squinting', 'social', 'long', 'suydam', 'room', 'stateroom', 'tramp,', 'berths,', 'sea,', 'streets', 'other', 'ship', 'church', 'universes', 'realm', 'oldest', 'long', 'centuried', 'abhorrent', 'dismal', 'unnamed', 'village', 'carnage.', 'dead;', 'empty', 'beginning', 'terror', 'window', 'slight', 'unseen', 'wooded', 'lethal', 'south', 'first', 'outside', 'horrible', 'cellar', 'north.', 'north,', 'north,', 'north', 'north,', 'distance;', 'north.', 'haunted', 'lonely', 'window', 'strange', 'north,', 'direction', 'ruins', 'east', 'strange', 'ground', 'top', 'peaked', 'theater', 'window--the', 'fifth', 'floor', 'hint', 'viol;', 'unknown', 'ghoulish', 'forest,', 'castle', 'floor', 'castle', 'newly', 'amazing', 'restrictions', 'enlightenment', 'prehistoric', 'remote,', 'remnant', 'notes', 'hills', 'liranian', 'mountains.', 'lips', 'mexican', 'castle', 'old', 'study', 'crevice', 'solid', 'biped', 'cliff', 'priory', 'roadway;', 'noxious', 'busy', 'hard', 'nitrous', 'great', 'first', 'shock', 'time', 'nooseneck', 'papers,', 'common', 'providence', 'daily', 'war,', 'darkest', 'village', 'stake', 'town?', 'cellar', 'placid', 'cellar', 'laboratories', 'life-force', 'rain-harassed', 'detestable', 'street', 'famous', 'street', 'spaces', 'machine', 'east,', 'white', 'filthy', 'factory', 'idols', 'delusion', 'first', 'world', 'blackened', 'sitting-room', 'old', 'flat,', 'instrument,', 'innermost', 'deep,', 'diadem', 'water', 'empty', 'land,', 'tales', 'plain', 'deep', 'cliffs', 'sea', 'sea', 'north', 'deep', 'elder', 'blessed', 'woodland', 'mother', 'mother', 'distance--first', 'river', 'slums', 'woodland', 'peril.', 'ravages', 'ruins.', 'men', 'nervous', 'hour', 'south,', 'crazy', 'conning', 'searchlight', 'scene', 'organisms', 'table,', 'plaza', 'solid', 'virgin', 'u-29,', 'sea', 'victory', 'outside', 'rocky', 'sea', 'prophecies', 'attention', 'time', 'life-processes', 'exercises', 'parental', 'college.', 'altar,', 'sea--it', 'black', 'first', 'face', 'old', 'housemaids', 'morbid', 'doorway.', 'visible', 'whispers', 'visible', 'hideous', 'uncouth', 'vault', 'damp', 'rank', 'neighbouring', 'heavens;', 'neighbouring', 'mass', 'very', 'patois', 'deepest', 'bunk', 'deck,', 'watchmans', 'mexican,', 'confusion,', 'sight', 'other,', 'rough', 'grove.', 'wreckage', 'daily', 'architectural', 'same', 'tomb', 'old', 'shore', 'east.', 'sea', 'templed', 'sea', 'grotto-born', 'three--colored', 'distant', 'mists', 'full', 'east', 'south', 'far', 'face', 'tedium', 'sight', 'wild,', 'witchcraft', 'shadow', 'car.', 'tripods,', 'silently', 'tripods', 'stars', 'crypts', 'arabesques', 'sitting-room.', 'first', 'bondage', 'supreme', 'remote', 'choked,', 'vague', 'lore', 'human', 'dead,', 'close-glimpsed', 'swami', 'swami', 'pocket', 'turban', 'embowered', 'sullen', 'sky', 'north', 'heights', 'same', 'zenith,', 'land', 'pnakotic', 'black', 'hills,', 'tethered', 'belt', 'sky--even']\n",
      "\n",
      "('the', 'age-worn') ['stones']\n",
      "\n",
      "('age-worn', 'stones') ['of']\n",
      "\n"
     ]
    }
   ],
   "source": [
    "i = 0\n",
    "for key,value in MC.markov_keys.items():\n",
    "    print(key,value)\n",
    "    print()\n",
    "    i+=1\n",
    "    if i>50:\n",
    "        break"
   ]
  },
  {
   "cell_type": "markdown",
   "metadata": {},
   "source": [
    "* Generate the sentences"
   ]
  },
  {
   "cell_type": "code",
   "execution_count": 5,
   "metadata": {
    "run_control": {
     "frozen": false,
     "read_only": false
    },
    "scrolled": true
   },
   "outputs": [
    {
     "name": "stdout",
     "output_type": "stream",
     "text": [
      "the nameless larvae of the ninth, and wondered how close a watch had been dark and shapely, and salt breezes swept up the harbour met nameless extinction from the altar, and paused in his study. the next day returned to the presence of the myths were of a strange hindoo, but he could form no idea what the carvings was correct, these abhorred things must have been trapped by the subtle stirring of the exclamation. there was hope that some noxious marine mind had learned from the sitting-room matchsafe, and edging through the midst of swan point cemetery were excluded,\n"
     ]
    }
   ],
   "source": [
    "print(MC.generate_sentence(length=100, starting_word_id=7))"
   ]
  },
  {
   "cell_type": "markdown",
   "metadata": {},
   "source": [
    "### Exercise A\n",
    "\n",
    "Copy the previous line (print(MC.generate_sentence(length=100, starting_word_id=7)) as it is and generate the text again. What do you notice about the output?\n"
   ]
  },
  {
   "cell_type": "code",
   "execution_count": 6,
   "metadata": {},
   "outputs": [
    {
     "name": "stdout",
     "output_type": "stream",
     "text": [
      "the nameless scent was excessively pungent here; so much visual as cerebral, amidst which joseph curwen was wont to put you in a remote cellar storeroom, the tracks, the dirt, the hastily rifled wardrobe, the baffling bands were in a padded cell for sixteen and completed his course now lay on the way, was clad in cheap woollen togas--and sprinklings of helmeted legionaries and coarse-mantled, black-bearded tribesmen of the elder ones were choked it was infinitely painful, and colored by fantastic dreams and their sojournings in soul and messenger nyarlathotep. meanwhile the cliffs and boulders, with no flaw in my\n"
     ]
    }
   ],
   "source": [
    "print(MC.generate_sentence(length=100, starting_word_id=7))"
   ]
  },
  {
   "cell_type": "markdown",
   "metadata": {},
   "source": [
    "### Exercise B\n",
    "\n",
    "Write a line of code to generate text of 40 words. Use a different seed to intiate the starting state."
   ]
  },
  {
   "cell_type": "code",
   "execution_count": 7,
   "metadata": {},
   "outputs": [
    {
     "name": "stdout",
     "output_type": "stream",
     "text": [
      "drew nigh that gigantic reef. so i started violently. pickman reappeared with his california son whether or not by any wakeful souls in the hidden and nighted ocean. to behold them dancing by moonlight. so, atal said, heed a mans\n"
     ]
    }
   ],
   "source": [
    "print(MC.generate_sentence(length=40, starting_word_id=5))"
   ]
  },
  {
   "cell_type": "markdown",
   "metadata": {},
   "source": [
    "### Exercise C\n",
    "\n",
    "\n",
    "In the example above, the current state is represented by 2 words ({(word1, word2): [word3]}.\n",
    "Adding more words to represent the state ({(word1, word2, word3): [word4]) should generate sentences\n",
    "that makes better sense as the level of randomization is reduced. For example, it is less likely that\n",
    "20 words will appear together than 5 words.\n",
    "                                    \n",
    "- Instantial a new markov chan object, Set the parameter ngram to 3.\n",
    "- Run the method create_probability_object()\n",
    "- List out the dictionary within the markov chain object\n",
    "- Run the method generate_sentence() to generate new statements"
   ]
  },
  {
   "cell_type": "code",
   "execution_count": 8,
   "metadata": {
    "scrolled": true
   },
   "outputs": [
    {
     "name": "stdout",
     "output_type": "stream",
     "text": [
      "('the', 'nameless', 'city') ['when', 'i', 'that', 'was', 'what', 'and', 'in', 'in', 'had', 'under', 'at', 'of']\n",
      "\n",
      "('nameless', 'city', 'when') ['i']\n",
      "\n",
      "('city', 'when', 'i') ['drew']\n",
      "\n",
      "('when', 'i', 'drew') ['nigh']\n",
      "\n",
      "('i', 'drew', 'nigh') ['the']\n",
      "\n",
      "('drew', 'nigh', 'the') ['nameless']\n",
      "\n",
      "('nigh', 'the', 'nameless') ['city']\n",
      "\n",
      "('nameless', 'city', 'i') ['knew']\n",
      "\n",
      "('city', 'i', 'knew') ['it']\n",
      "\n",
      "('i', 'knew', 'it') ['was', 'was', 'lay', 'the', 'had', 'well,', 'would', 'i', 'he', 'i']\n",
      "\n",
      "('knew', 'it', 'was') ['accursed.', 'this', 'keziahs', 'useless.']\n",
      "\n",
      "('it', 'was', 'accursed.') ['i']\n",
      "\n",
      "('was', 'accursed.', 'i') ['was']\n",
      "\n",
      "('accursed.', 'i', 'was') ['traveling']\n",
      "\n",
      "('i', 'was', 'traveling') ['in']\n",
      "\n",
      "('was', 'traveling', 'in') ['a']\n",
      "\n",
      "('traveling', 'in', 'a') ['parched']\n",
      "\n",
      "('in', 'a', 'parched') ['and']\n",
      "\n",
      "('a', 'parched', 'and') ['terrible']\n",
      "\n",
      "('parched', 'and', 'terrible') ['valley']\n",
      "\n",
      "('and', 'terrible', 'valley') ['under']\n",
      "\n",
      "('terrible', 'valley', 'under') ['the']\n",
      "\n",
      "('valley', 'under', 'the') ['moon,']\n",
      "\n",
      "('under', 'the', 'moon,') ['and', 'but']\n",
      "\n",
      "('the', 'moon,', 'and') ['afar', 'the', 'devil-lights', 'all', 'of', 'of', 'soft']\n",
      "\n",
      "('moon,', 'and', 'afar') ['i']\n",
      "\n",
      "('and', 'afar', 'i') ['saw']\n",
      "\n",
      "('afar', 'i', 'saw') ['it']\n",
      "\n",
      "('i', 'saw', 'it') ['protruding', 'and', 'for', 'on', 'i', 'led', 'then']\n",
      "\n",
      "('saw', 'it', 'protruding') ['uncannily']\n",
      "\n",
      "('it', 'protruding', 'uncannily') ['above']\n",
      "\n",
      "('protruding', 'uncannily', 'above') ['the']\n",
      "\n",
      "('uncannily', 'above', 'the') ['sands']\n",
      "\n",
      "('above', 'the', 'sands') ['as']\n",
      "\n",
      "('the', 'sands', 'as') ['parts']\n",
      "\n",
      "('sands', 'as', 'parts') ['of']\n",
      "\n",
      "('as', 'parts', 'of') ['a', 'arches']\n",
      "\n",
      "('parts', 'of', 'a') ['corpse', 'continuous']\n",
      "\n",
      "('of', 'a', 'corpse') ['may']\n",
      "\n",
      "('a', 'corpse', 'may') ['protrude']\n",
      "\n",
      "('corpse', 'may', 'protrude') ['from']\n",
      "\n",
      "('may', 'protrude', 'from') ['an']\n",
      "\n",
      "('protrude', 'from', 'an') ['ill-made']\n",
      "\n",
      "('from', 'an', 'ill-made') ['grave.']\n",
      "\n",
      "('an', 'ill-made', 'grave.') ['fear']\n",
      "\n",
      "('ill-made', 'grave.', 'fear') ['spoke']\n",
      "\n",
      "('grave.', 'fear', 'spoke') ['from']\n",
      "\n",
      "('fear', 'spoke', 'from') ['the']\n",
      "\n",
      "('spoke', 'from', 'the') ['age-worn']\n",
      "\n",
      "('from', 'the', 'age-worn') ['stones']\n",
      "\n",
      "('the', 'age-worn', 'stones') ['of']\n",
      "\n"
     ]
    }
   ],
   "source": [
    "MC = markov_chain('./data/lovecraft.txt',ngram=3)\n",
    "MC.create_probability_object()\n",
    "\n",
    "i = 0\n",
    "for key,value in MC.markov_keys.items():\n",
    "    print(key,value)\n",
    "    print()\n",
    "    i+=1\n",
    "    if i>50:\n",
    "        break"
   ]
  },
  {
   "cell_type": "code",
   "execution_count": 9,
   "metadata": {},
   "outputs": [
    {
     "name": "stdout",
     "output_type": "stream",
     "text": [
      "the nameless city of arabia deserta. as we flew above that tangle of alleys in another direction, it seems, for when we sighted a lamp-post we were in one of the neighboring ones were choked it was doubtful how they would regard a guest whose object was to see them and plead before them. no man had gone before, i ought to have been recently cleared. it took us only a moment to see which one might readily forget! (indistinguishable sounds) (a cultivated male human voice) ...is the lord of the woods, being...seven and nine, down the onyx steps...(tri)butes to\n"
     ]
    }
   ],
   "source": [
    "print(MC.generate_sentence(length=100, starting_word_id=7))"
   ]
  }
 ],
 "metadata": {
  "anaconda-cloud": {},
  "kernelspec": {
   "display_name": "Python 3",
   "language": "python",
   "name": "python3"
  },
  "language_info": {
   "codemirror_mode": {
    "name": "ipython",
    "version": 3
   },
   "file_extension": ".py",
   "mimetype": "text/x-python",
   "name": "python",
   "nbconvert_exporter": "python",
   "pygments_lexer": "ipython3",
   "version": "3.7.4"
  },
  "latex_envs": {
   "LaTeX_envs_menu_present": true,
   "bibliofile": "biblio.bib",
   "cite_by": "apalike",
   "current_citInitial": 1,
   "eqLabelWithNumbers": true,
   "eqNumInitial": 1,
   "hotkeys": {
    "equation": "Ctrl-E",
    "itemize": "Ctrl-I"
   },
   "labels_anchors": false,
   "latex_user_defs": false,
   "report_style_numbering": false,
   "user_envs_cfg": false
  },
  "toc": {
   "colors": {
    "hover_highlight": "#DAA520",
    "running_highlight": "#FF0000",
    "selected_highlight": "#FFD700"
   },
   "moveMenuLeft": true,
   "nav_menu": {
    "height": "12px",
    "width": "252px"
   },
   "navigate_menu": true,
   "number_sections": true,
   "sideBar": true,
   "threshold": 4,
   "toc_cell": false,
   "toc_section_display": "block",
   "toc_window_display": false
  }
 },
 "nbformat": 4,
 "nbformat_minor": 4
}
