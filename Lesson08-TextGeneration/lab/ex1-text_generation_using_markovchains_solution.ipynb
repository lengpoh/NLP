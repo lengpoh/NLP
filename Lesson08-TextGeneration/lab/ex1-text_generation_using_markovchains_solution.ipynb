{
 "cells": [
  {
   "cell_type": "markdown",
   "metadata": {
    "collapsed": true,
    "run_control": {
     "frozen": false,
     "read_only": false
    }
   },
   "source": [
    "## Text Generation with Markov Chains"
   ]
  },
  {
   "cell_type": "markdown",
   "metadata": {
    "run_control": {
     "frozen": false,
     "read_only": false
    }
   },
   "source": [
    "\n",
    "Acknowledgement: Intel AI Developer Programme\n",
    "\n",
    "#### Introduction\n",
    "\n",
    "Text generation is a challenging problem that even the largest data science teams are still struggling with, so we'll explore some of the most common and accessible methods to solve the problem, starting at a somewhat basic level. The approach we will attempt in this notebook is: \n",
    "\n",
    "* Markov Chains\n"
   ]
  },
  {
   "cell_type": "markdown",
   "metadata": {
    "run_control": {
     "frozen": false,
     "read_only": false
    }
   },
   "source": [
    "## Define the Markov Chain Class\n",
    "\n",
    "* Create a class called markov_chain that takes the path of a text file as input when instantiating an object\n",
    ". Add a method (function) that preprocesses the text returning a list of lowercased words with all \" and ' removed.\n",
    "* Add a method (function) that reads the text fille and creates a dictionary of the form: `{(word1, word2): [word3], (word2, word3): [word4]...}`. In essense, when word1 and word2 appeared together, the next word is word3. \n",
    "If the sequence `(word1, word2, word4)` then shows up later.. we want to end up with `{(word1, word2): [word3, word4], (word2, word3): [word4]...}`. We want to map out how often every word follows each previous pair of words. If `(word1, word2, word3)` appears a second time then we want `{(word1, word2): [word3, word4, word3], (word2, word3): [word4]...}`.\n",
    "* Add a method (function) for generating new text from a seed, that takes in a key (e.g. `(word1, word2)`) as a starting point, then randomly samples one of the words that follows that key. (e.g. word3). Then have that sampled word appended to the \"generated words\" creating a new key (e.g. `(word2, word3)`). Repeat this process over and over to generate a sentence until reaching some sentence length as specified by the user. Return this sentence as a string.\n"
   ]
  },
  {
   "cell_type": "code",
   "execution_count": null,
   "metadata": {},
   "outputs": [],
   "source": []
  },
  {
   "cell_type": "code",
   "execution_count": 1,
   "metadata": {
    "run_control": {
     "frozen": false,
     "read_only": false
    }
   },
   "outputs": [],
   "source": [
    "import random\n",
    "class markov_chain(object):\n",
    "    \n",
    "    def __init__(self,text_path,ngram=2):\n",
    "        self.ngram = ngram\n",
    "        self.markov_keys = dict()\n",
    "        self.path = text_path\n",
    "        self.text_as_list = None\n",
    "\n",
    "    def preprocess(self):\n",
    "        with open(self.path,'r') as f:\n",
    "            raw = f.read()\n",
    "        self.text_as_list = raw.lower().replace('\"','').replace(\"'\",\"\").split()\n",
    "\n",
    "    def markov_group_generator(self,text_as_list):\n",
    "        if len(text_as_list) < self.ngram+1:\n",
    "            raise(\"NOT A LONG ENOUGH TEXT!\")\n",
    "            return\n",
    "\n",
    "        for i in range(self.ngram,len(text_as_list)):\n",
    "            yield tuple(text_as_list[i-self.ngram:i+1])\n",
    "\n",
    "    def create_probability_object(self):\n",
    "        if not self.text_as_list:\n",
    "            self.preprocess()\n",
    "        for group in self.markov_group_generator(self.text_as_list):\n",
    "            word_key = tuple(group[:-1])\n",
    "            if word_key in self.markov_keys:\n",
    "                self.markov_keys[word_key].append(group[-1])\n",
    "            else:\n",
    "                self.markov_keys[word_key] = [group[-1]]\n",
    "    \n",
    "    def generate_sentence(self, length=25, starting_word_id=None):\n",
    "        if (not starting_word_id or type(starting_word_id) != type(int(1)) \n",
    "            or starting_word_id < 0 or starting_word_id > len(self.text_as_list)-self.ngram):\n",
    "            starting_word_id = random.randint(0,len(self.text_as_list)-self.ngram)\n",
    "            \n",
    "        gen_words = self.text_as_list[starting_word_id:starting_word_id+self.ngram]\n",
    "        \n",
    "        while len(gen_words) < length:\n",
    "            seed = tuple(gen_words[-self.ngram:])\n",
    "            gen_words.append(random.choice(self.markov_keys[seed]))\n",
    "        return ' '.join(gen_words)\n",
    "        "
   ]
  },
  {
   "cell_type": "markdown",
   "metadata": {},
   "source": [
    "* Instantial the markov chain object, using an input file"
   ]
  },
  {
   "cell_type": "code",
   "execution_count": 2,
   "metadata": {
    "run_control": {
     "frozen": false,
     "read_only": false
    }
   },
   "outputs": [],
   "source": [
    "MC = markov_chain('./data/lovecraft.txt',ngram=2)"
   ]
  },
  {
   "cell_type": "markdown",
   "metadata": {},
   "source": [
    "* Call the method to generate the dictionary"
   ]
  },
  {
   "cell_type": "code",
   "execution_count": 3,
   "metadata": {
    "run_control": {
     "frozen": false,
     "read_only": false
    }
   },
   "outputs": [],
   "source": [
    "MC.create_probability_object()"
   ]
  },
  {
   "cell_type": "markdown",
   "metadata": {},
   "source": [
    "Let's take a look at the dictonary"
   ]
  },
  {
   "cell_type": "code",
   "execution_count": 23,
   "metadata": {
    "run_control": {
     "frozen": false,
     "read_only": false
    },
    "scrolled": false
   },
   "outputs": [
    {
     "name": "stdout",
     "output_type": "stream",
     "text": [
      "('the', 'nameless') ['city', 'city', 'city,', 'city,', 'city,', 'city.', 'city', 'city', 'city', 'city;', 'city', 'city.', 'city', 'city,', 'city', 'city', 'city,', 'city', 'city', 'race,', 'city:', 'city.', 'fate', 'monstrosity', 'monstrosity,', 'entity,', 'outsiders', 'design--living', 'entities', 'stone', 'city', 'and', 'scent', 'scent', 'scent', 'stench', 'artist', 'stench', 'cylinder,', 'odour', 'hybrids', 'things', 'scenes', 'larvae', 'ancient', 'pastimes', 'larvae', 'doom', 'museum', 'summit', 'denizens', 'dread.']\n",
      "\n",
      "('nameless', 'city') ['when', 'i', 'that', 'was', 'what', 'and', 'in', 'in', 'had', 'under', 'at', 'of', 'of']\n",
      "\n",
      "('city', 'when') ['i']\n",
      "\n",
      "('when', 'i') ['drew', 'came', 'was', 'had', 'chanced', 'glanced', 'saw', 'thought', 'did', 'tried', 'came', 'sounded', 'sat', 'fancied', 'looked', 'staggered', 'still', 'went', 'went', 'saw', 'think', 'dream', 'did', 'think', 'think', 'commit', 'make', 'brought', 'studied', 'started', 'think', 'telephoned', 'drove', 'developed', 'link', 'shall', 'showed', 'say', 'tried', 'rushed', 'left', 'try', 'demurred', 'had', 'saw', 'tell', 'spoke', 'gently', 'seed', 'reached', 'finally', 'knew', 'stopped', 'had', 'noticed', 'reached', 'heard', 'emerged', 'staggered', 'might', 'told', 'came', 'saw', 'saw', 'diffidently', 'did', 'first', 'waked', 'studied', 'was', 'looked', 'saw', 'shewed', 'was', 'staggered', 'was', 'first', 'looked', 'ran', 'came', 'was', 'brought', 'tottered', 'reached', 'neared', 'flashed', 'dispatched', 'speak', 'made', 'read', 'see', 'tell', 'feared', 'hadde', 'hint', 'call', 'call.', 'ring', 'first', 'hung', 'told', 'perceived', 'examined', 'reflected', 'suggested', 'had', 'saw', 'finally', 'had', 'gained', 'was', 'came', 'saw', 'learned', 'came', 'asked', 'needed', 'am', 'was', 'found', 'say', 'learned', 'slammed', 'chiseled', 'beheld', 'stopped', 'saw', 'say', 'was', 'recovered--or', 'felt', 'realized', 'glimpsed', 'saw', 'saw', 'saw', 'was', 'first', 'overheard', 'tried', 'pulled', 'raised', 'shewed', 'tried', 'had', 'went', 'pulled', 'seem', 'thought', 'saw', 'saw', 'forced', 'dropped', 'came', 'listened', 'found', 'bore', 'listened', 'looked', 'did', 'think', 'aroused', 'spoke', 'saw', 'arose,', 'had', 'stumbled', 'hear', 'heard', 'heard', 'awaked', 'told', 'saw', 'opened', 'am', 'moved', 'had', 'did', 'looked', 'reached', 'moved', 'returned', 'opened', 'had', 'see', 'questioned', 'see', 'see', 'read', 'was', 'went', 'returned.', 'examined', 'turned', 'noticed', 'awoke', 'speak', 'saw--or', 'told', 'recovered', 'see', 'saw', 'saw', 'attained', 'named', 'got', 'do', 'saw', 'get', 'was', 'pointed', 'pulled', 'shot', 'opened', 'came', 'said', 'saw', 'might', 'awakened,', 'asked', 'was', 'looked', 'went', 'had', 'tell', 'saw', 'raised', 'saw', 'awaked,', 'could']\n",
      "\n",
      "('i', 'drew') ['nigh', 'up', 'into', 'close', 'out', 'near', 'a', 'behind', 'my', 'near', 'a', 'my']\n",
      "\n",
      "('drew', 'nigh') ['the', 'there', 'that']\n",
      "\n",
      "('nigh', 'the') ['nameless', 'devils', 'time', 'crag', 'city', 'haouse', 'middle--the', 'place']\n",
      "\n",
      "('city', 'i') ['knew', 'saw', 'had']\n",
      "\n",
      "('i', 'knew') ['it', 'it', 'that', 'and', 'it', 'we', 'from', 'it', 'it', 'it', 'as', 'less', 'i', 'of', 'enough', 'that', 'that', 'that', 'what', 'the', 'that', 'his', 'i', 'that', 'that', 'that', 'that', 'those', 'that', 'that', 'the', 'that', 'too', 'also', 'would', 'how', 'too', 'in', 'my', 'this', 'what', 'there', 'it', 'all', 'it', 'i', 'from', 'unerringly', 'that', 'there', 'nothing,', 'they', 'that', 'not', 'that', 'him', 'what', 'how', 'not', 'too', 'that', 'what', 'he', 'that', 'that', 'would', 'to', 'his', 'all', 'how', 'that', 'of', 'that', 'she', 'id', 'and', 'she', 'id', 'that', 'he', 'that', 'we', 'people', 'you', 'too', 'the', 'the', 'what', 'i', 'of', 'the', 'that', 'not;', 'must', 'that', 'to', 'amidst', 'i', 'to', 'no', 'it', 'that', 'not;', 'they', 'from', 'that', 'that', 'of', 'it', 'in', 'as', 'this', 'i', 'not', 'not', 'i', 'that', 'not', 'in', 'that', 'i', 'of', 'that', 'now', 'before', 'of', 'not', 'that', 'nothing', 'that', 'of', 'that', 'who', 'that', 'what', 'what', 'what', 'she', 'and', 'i', 'the', 'that', 'that', 'that', 'would', 'not']\n",
      "\n",
      "('knew', 'it') ['was', 'was', 'lay', 'the', 'had', 'would', 'would', 'would', 'well,', 'stood', 'was', 'would', 'i', 'when', 'would', 'he', 'must', 'must', 'had', 'he', 'i', 'only', 'no', 'who', 'was']\n",
      "\n",
      "('it', 'was') ['accursed.', 'ever', 'of', 'this', 'a', 'a', 'all', 'as', 'driven', 'a', 'largely', 'the', 'the', 'a', 'told', 'an', 'not', 'certainly', 'a', 'the', 'a', 'indeed', 'i', 'morning', 'too', 'as', 'not', 'a', 'then', 'oddly', 'not', 'a', 'magnetic,', 'in', 'now', 'still', 'only', 'nothing', 'the', 'the', 'a', 'the', 'then', 'none', 'there', 'a', 'ammi,', 'very', 'much', 'really', 'little', 'very', 'quite', 'he', 'still', 'some', 'getting', 'not', 'seen', 'the', 'like', 'truly', 'soon', 'a', 'no', 'pouring', 'awful,', 'clear', 'very', 'bad', 'blind', 'a', 'just', 'just', 'just', 'not', 'the', 'then', 'from', 'a', 'a', 'voodoo,', 'nightmare', 'to', 'inside', 'not', 'wholly', 'by', 'returned', 'really', 'nothing', 'an', 'the', 'owned', 'a', 'nothing', 'only', 'rodriguez', 'a', 'balanced.', 'the', 'the', 'in', 'candlemas,', 'somewhat', 'a', 'a', 'the', 'all', 'uncanny', 'the', 'not', 'partly', 'semi-anthropomorphic;', 'the', 'manifest', 'sent', 'not', 'in', 'as', 'here', 'horrible,', 'his', 'in', 'in', 'couched', 'written,', 'of', 'then', 'a', 'still', 'mis', 'all', 'jest', 'the', 'no', 'one', 'hard', 'obvious', 'the', 'a', 'originally', 'an', 'like', 'yards', 'mostly', 'his', 'just', 'really', 'my', 'bad', 'not', 'of', 'hard', 'easy', 'hideously', 'not', 'very', 'hard', 'noteworthy,', 'not', 'with', 'a', 'like', 'hinted,', 'an', 'noticeable', 'not', 'only', 'bad', 'a', 'in', 'dead,', 'surely', 'a', 'a', 'time,', 'postmarked', 'greater', 'clearly', 'not', 'not', 'the', 'in', 'obvious', 'not', 'not', 'the', 'a', 'a', 'above', 'shocking', 'as', 'not', 'incapable', 'surely', 'absurd,', 'full', 'curious', 'from', 'the', 'this', 'only', 'mixed', 'not', 'in', 'like', 'also', 'always', 'wise', 'certainly', 'in', 'a', 'roughly', 'about', 'patriots', 'keziahs', 'a', 'too', 'when', 'a', 'wholly', 'obviously', 'by', 'a', 'stated', 'not', 'when', 'associated.', 'one', 'a', 'reared', 'then', 'odd', 'transparent,', 'to', 'a', 'then,', 'in', 'called.', 'fashioned', 'treasured', 'obvious', 'only', 'somehow', 'some', 'then', 'the', 'agreed', 'found--into', 'i', 'only', 'really', 'probably', 'foreign', 'the', 'clearly', 'tall', 'the', 'as', 'labeled', 'called,', 'merely', 'the', 'said,', 'caused', 'as', 'a', 'a', 'the', 'in', 'awful', 'generally', 'impossible', 'not', 'probably', 'no', 'not', 'said', 'then', 'plentiful.', 'all', 'curious', 'jest', 'to', 'designed', 'flanked', 'still', 'then', 'plain', 'completely', 'a', 'here,', 'foredoomed', 'the', 'in', 'a', 'said', 'in', 'clear', 'then', 'hurt,', 'on', 'clear', 'a', 'about', 'at', 'still', 'coming', 'a', 'not', 'then', 'permitted', 'allowed', 'purged', 'largely', 'frequently', 'significantly', 'the', 'when', 'evident', 'known', 'upon', 'postmarked', 'on', 'on', 'almost', 'a', 'one', 'just', 'just', 'the', 'the', 'something', 'only', 'the', 'then', 'all', 'sheer', 'titled', 'my', 'merely', 'only', 'as', 'slightly', 'before', 'the', 'the', 'now', 'of', 'appalling', 'technically', 'possible', 'agreed', 'clear', 'about', 'not', 'amphibian,', 'partly', 'marine', 'after', 'at', 'very', 'risky', 'as', 'young', 'approximately', 'hard', 'the', 'so', 'hideous', 'the', 'not', 'decided', 'probably', 'futile', 'the', 'a', 'composed', 'generally', 'a', 'totally', 'impossible', 'fully', 'under', 'now', 'curious', 'curious', 'infinitely', 'a', 'only', 'obvious', 'now', 'doubtful', 'probably', 'likewise', 'during', 'both', 'now', 'a', 'all', 'that', 'certainly', 'precisely', 'the', 'a', 'not', 'only', 'the', 'suicidally', 'just', 'composed', 'countersunk', 'a', 'wholly', 'like,', 'not', 'what', 'very', 'an', 'that', 'not', 'the', 'a', 'as', 'while', 'then,', 'not,', 'so', 'clear', 'only', 'up', 'getting', 'long', 'at', 'that', 'that,', 'held,', 'observed', 'in', 'the', 'near', 'no', 'very', 'after', 'not', 'on', 'in', 'clear,', 'not', 'the', 'just', 'the', 'later', 'deep', 'explained,', 'not', 'not', 'delivered', 'hardly', 'at', 'likely', 'meanwhile', 'observed', 'in', 'he', 'learned', 'toward', 'on', 'this', 'twilight,', 'noticed', 'overshadowed', 'only', 'not,', 'so', 'as', 'a', 'no', 'this', 'mixed', 'a', 'vacant', 'the', 'not', 'impossible', 'soon', 'from', 'the', 'strange--but', 'obvious', 'then', 'clear', 'agreed,', 'then', 'in', 'wrong,', 'what', 'something', 'obvious', 'a', 'a', 'the', 'better', 'very', 'like', 'alive.', 'too', 'not', 'neither', 'unmistakably', 'weirdly', 'only', 'the', 'here', 'obvious', 'not', 'unyielding.', 'a', 'that', 'folded', 'easy', 'made', 'very', 'gradually', 'noon', 'known', 'evident', 'he', 'he', 'he', 'not', 'not', 'from', 'on', 'his', 'hardly', 'also', 'natural', 'moonlight,', 'none', 'the', 'there', 'he', 'very', 'alive', 'now', 'good', 'in', 'to', 'merely', 'the', 'entered,', 'exceedingly', 'this', 'the', 'unwise', 'he', 'this', 'probably', 'the', 'said,', 'worshipped.', 'for', 'no', 'with', 'human', 'certainly', 'clearly', 'he', 'for', 'not', 'connected', 'on', 'infinitely', 'that', 'rather', 'indeed', 'dangerous', 'apoplexy', 'in', 'in', 'a', 'too', 'by', 'greenwich,', 'the', 'the', 'seeking', 'here', 'this', 'not', 'uncanny', 'i', 'agreed', 'a', 'underground.', 'not', 'almost', 'white', 'fairly', 'not', 'wholly', 'a', 'not', 'necessary', 'disturbing', 'in', 'in', 'better', 'rather', 'queer', 'too', 'necessary', 'still', 'the', 'a', 'a', 'about', 'herbert', 'west', 'like', 'not', 'not', 'at', 'sunset', 'in', 'below', 'then', 'i', 'still', 'curious', 'the', 'sudden,', 'quickly', 'easier', 'horrible--hideous', 'all', 'the', 'apocalyptic', 'very', 'egypt.', 'hideously', 'crushing', 'the', 'very', 'continuing', 'not', 'to', 'of', 'the', 'hideous', 'merciful', 'of', 'so', 'not', 'something', 'as', 'only', 'generally', 'possible', 'very', 'just', 'pitiful', 'meant', 'asaphs', 'a', 'a', 'unlocked,', 'not', 'very', 'raining', 'rather', 'in', 'a', 'too', 'a', 'there.', 'a', 'about', 'postmarked', 'the', 'marsh', 'plain', 'in', 'in', 'sacred', 'a', 'arranged', 'very', 'without', 'of', 'a', 'my', 'the', 'a', 'all', 'all', 'all', 'devilish', 'loathsome', 'too', 'wrinkled', 'all', 'plain', 'a', 'terrible', 'different', 'the', 'no', 'worst', 'that', 'as', 'beyond', 'amply', 'nothing', 'a', 'a', 'a', 'the', 'too', 'like', 'months', 'then', 'in', 'partly', 'his', 'we', 'to', 'all', 'the', 'that', 'that', 'the', 'their', 'not', 'pandemonium', 'a', 'the', 'to', 'like', 'the', 'a', 'only', 'the', 'in', 'perhaps', 'at', 'upon', 'that', 'the', 'also', 'of', 'not', 'in', 'a', 'by', 'not', 'seen', 'very', 'the', 'fully', 'fearful,', 'blue,', 'darker', 'apparently', 'slightly', 'it', 'at', 'highly', 'safe', 'when', 'because', 'not', 'set', 'wrought', 'clear,', 'not', 'always', 'the', 'long', 'a', 'the', 'possibly', 'twilight', 'the', 'lucky', 'something', 'sunset', 'hard', 'not', 'not', 'no', 'dark', 'very', 'such', 'circular,', 'night', 'caught', 'the', 'a', 'upon', 'one', 'dark', 'of', 'from', 'cheering', 'indeed', 'bleaker', 'this', 'a', 'no', 'a', 'strange', 'indeed', 'this', 'divinely', 'clear', 'some', 'not', 'the', 'naked', 'disastrous', 'the', 'best', 'very', 'still', 'a', 'very', 'clear', 'equally', 'only', 'verily', 'now', 'fortunate', 'decided', 'dawn', 'a', 'highly', 'too', 'doubtful', 'ancient', 'a', 'not', 'very', 'thought', 'thought', 'left', 'not', 'unmistakably', 'so.', 'a', 'no', 'something', 'he', 'thousands', 'only', 'hard', 'that', 'a', 'the', 'wisest', 'ticklish', 'on', 'to', 'not', 'a', 'decided', 'not', 'more', 'on,', 'horrible', 'blackness', 'plain', 'well-nigh', 'a', 'lost', 'not', 'true,', 'a', 'old', 'very', 'not', 'getting', 'the', 'unmistakably', 'absolutely', 'obviously', 'in', 'the', 'a', 'generally', 'the', 'based', 'to', 'here', 'nominally', 'deemed', 'absurd.', 'murder--strangulation--but', 'signed', 'wrapped', 'with', 'a', 'all', 'hither', 'choked', 'this', 'rumored', 'who', 'the', 'incredibly', 'the', 'not', 'the', 'dark.', 'not', 'hard', 'out', 'so', 'organic,', 'from', 'dismal', 'dark', 'amply', 'only', 'without', 'the', 'almost', 'with', 'a', 'the', 'from', 'there', 'lonely', 'drained.', 'over.', 'very', 'the', 'not', 'over', 'within', 'always', 'almost', 'because', 'because', 'the', 'an', 'not', 'not', 'perhaps', 'not', 'more', 'very', 'he', 'long', 'never', 'still', 'stupefying,', 'merely', 'like,', 'a', 'the', 'not', 'to', 'that', 'bound', 'produced', 'this', 'this', 'sometimes', 'said', 'never', 'said,', 'entered', 'so', 'that', 'only', 'full', 'little', 'then', 'a', 'the', 'a', 'too', 'decided', 'the', 'not', 'the', 'plainly', 'the', 'wholly', 'the', 'more', 'ann', 'something', 'not', 'the', 'freely', 'truly', 'in', 'our', 'our', 'merely', 'this', 'of', 'queer--damnably', 'not', 'not', 'all', 'to', 'a', 'frightful', 'sunny', 'unspeakably', 'twilight', 'after', 'in', 'about', 'bound', 'not', 'no', 'in', 'deep;', 'as', 'a', 'that', 'in', 'the', 'inevitable', 'very', 'plain', 'at', 'but', 'said', 'known', 'our', 'useless.', 'during', 'necessary,', 'decided', 'a', 'at', 'annoying', 'an', 'horribly', 'indeed', 'which', 'early', 'not', 'probably', 'after', 'very', 'really', 'in', 'edward--and', 'clear', 'as', 'shut', 'deeper,', 'a', 'plain', 'heard', 'horrible,', 'she', 'about', 'in', 'found', 'fully', 'in', 'sudden,', 'after', 'only', 'in', 'after', 'with', 'only', 'in', 'the', 'the', 'not', 'not', 'my', 'seen', 'romeros', 'useless--for', 'such', 'like', 'not', 'without', 'open,', 'stolen', 'to', 'strange,', 'whispered', 'definitely', 'his', 'not,', 'averred,', 'that', 'a', 'so', 'an', 'answered.', 'still', 'the', 'plain', 'everywhere--a', 'the', 'the', 'that', 'by', 'against', 'a', 'he', 'from', 'amid', 'in', 'then', 'as', 'this', 'the', 'sad', 'really', 'not', 'not', 'indeed', 'reserved', 'a', 'sent', 'made', 'to', 'as', 'connected', 'as', 'largely', 'an', 'perhaps', 'as', 'derived.', 'autumn,', 'there', 'then', 'in', 'empty.', 'in', 'under', 'unlike', 'my', 'the', 'in', 'a', 'the', 'not', 'too', 'at', 'from', 'the']\n",
      "\n"
     ]
    }
   ],
   "source": [
    "i = 0\n",
    "for key,value in MC.markov_keys.items():\n",
    "    print(key,value)\n",
    "    print()\n",
    "    i+=1\n",
    "    if i>10:\n",
    "        break"
   ]
  },
  {
   "cell_type": "code",
   "execution_count": 24,
   "metadata": {},
   "outputs": [
    {
     "name": "stdout",
     "output_type": "stream",
     "text": [
      "['the', 'nameless', 'city', 'when', 'i', 'drew', 'nigh', 'the', 'nameless', 'city', 'i', 'knew', 'it', 'was', 'accursed.', 'i', 'was', 'traveling', 'in', 'a', 'parched', 'and', 'terrible', 'valley', 'under', 'the', 'moon,', 'and', 'afar', 'i', 'saw', 'it', 'protruding', 'uncannily', 'above', 'the', 'sands', 'as', 'parts', 'of', 'a', 'corpse', 'may', 'protrude', 'from', 'an', 'ill-made', 'grave.', 'fear', 'spoke', 'from', 'the', 'age-worn', 'stones', 'of', 'this', 'hoary', 'survivor', 'of', 'the', 'deluge,', 'this', 'great-grandfather', 'of', 'the', 'eldest', 'pyramid;', 'and', 'a', 'viewless', 'aura', 'repelled', 'me', 'and', 'bade', 'me', 'retreat', 'from', 'antique', 'and', 'sinister', 'secrets', 'that', 'no', 'man', 'should', 'see,', 'and', 'no', 'man', 'else', 'had', 'dared', 'to', 'see..', 'remote', 'in', 'the', 'desert', 'of']\n"
     ]
    }
   ],
   "source": [
    "i = 0\n",
    "print (MC.text_as_list[0:100])"
   ]
  },
  {
   "cell_type": "code",
   "execution_count": 13,
   "metadata": {},
   "outputs": [
    {
     "name": "stdout",
     "output_type": "stream",
     "text": [
      "2\n"
     ]
    }
   ],
   "source": [
    "print (MC.text_as_list.index('city'))"
   ]
  },
  {
   "cell_type": "markdown",
   "metadata": {},
   "source": [
    "* Generate the sentences"
   ]
  },
  {
   "cell_type": "code",
   "execution_count": null,
   "metadata": {
    "run_control": {
     "frozen": false,
     "read_only": false
    },
    "scrolled": true
   },
   "outputs": [],
   "source": [
    "print(MC.generate_sentence(length=100, starting_word_id=7))"
   ]
  },
  {
   "cell_type": "markdown",
   "metadata": {},
   "source": [
    "### Exercise A\n",
    "\n",
    "Copy the previous line (print(MC.generate_sentence(length=100, starting_word_id=7)) as it is and generate the text again. What do you notice about the output?\n"
   ]
  },
  {
   "cell_type": "code",
   "execution_count": null,
   "metadata": {
    "scrolled": false
   },
   "outputs": [],
   "source": [
    "print(MC.generate_sentence(length=100, starting_word_id=7))"
   ]
  },
  {
   "cell_type": "markdown",
   "metadata": {},
   "source": [
    "### Exercise B\n",
    "\n",
    "Write a line of code to generate text of 40 words. Use a different seed to intiate the starting state."
   ]
  },
  {
   "cell_type": "code",
   "execution_count": null,
   "metadata": {},
   "outputs": [],
   "source": [
    "print(MC.generate_sentence(length=100, starting_word_id=7))"
   ]
  },
  {
   "cell_type": "markdown",
   "metadata": {},
   "source": [
    "### Exercise C\n",
    "\n",
    "\n",
    "In the example above, the current state is represented by 2 words ({(word1, word2): [word3]}.\n",
    "Adding more words to represent the state ({(word1, word2, word3): [word4]) should generate sentences\n",
    "that makes better sense as the level of randomization is reduced. For example, it is less likely that\n",
    "20 words will appear together than 5 words.\n",
    "                                    \n",
    "- Instantial a new markov chan object, Set the parameter ngram to 3.\n",
    "- Run the method create_probability_object()\n",
    "- List out the dictionary within the markov chain object\n",
    "- Run the method generate_sentence() to generate new statements"
   ]
  },
  {
   "cell_type": "code",
   "execution_count": 26,
   "metadata": {},
   "outputs": [
    {
     "name": "stdout",
     "output_type": "stream",
     "text": [
      "('the', 'nameless', 'city', 'when') ['i']\n",
      "\n",
      "('nameless', 'city', 'when', 'i') ['drew']\n",
      "\n",
      "('city', 'when', 'i', 'drew') ['nigh']\n",
      "\n",
      "('when', 'i', 'drew', 'nigh') ['the']\n",
      "\n",
      "('i', 'drew', 'nigh', 'the') ['nameless']\n",
      "\n",
      "('drew', 'nigh', 'the', 'nameless') ['city']\n",
      "\n",
      "('nigh', 'the', 'nameless', 'city') ['i']\n",
      "\n",
      "('the', 'nameless', 'city', 'i') ['knew']\n",
      "\n",
      "('nameless', 'city', 'i', 'knew') ['it']\n",
      "\n",
      "('city', 'i', 'knew', 'it') ['was']\n",
      "\n",
      "('i', 'knew', 'it', 'was') ['accursed.', 'this']\n",
      "\n",
      "('knew', 'it', 'was', 'accursed.') ['i']\n",
      "\n",
      "('it', 'was', 'accursed.', 'i') ['was']\n",
      "\n",
      "('was', 'accursed.', 'i', 'was') ['traveling']\n",
      "\n",
      "('accursed.', 'i', 'was', 'traveling') ['in']\n",
      "\n",
      "('i', 'was', 'traveling', 'in') ['a']\n",
      "\n",
      "('was', 'traveling', 'in', 'a') ['parched']\n",
      "\n",
      "('traveling', 'in', 'a', 'parched') ['and']\n",
      "\n",
      "('in', 'a', 'parched', 'and') ['terrible']\n",
      "\n",
      "('a', 'parched', 'and', 'terrible') ['valley']\n",
      "\n",
      "('parched', 'and', 'terrible', 'valley') ['under']\n",
      "\n",
      "('and', 'terrible', 'valley', 'under') ['the']\n",
      "\n",
      "('terrible', 'valley', 'under', 'the') ['moon,']\n",
      "\n",
      "('valley', 'under', 'the', 'moon,') ['and']\n",
      "\n",
      "('under', 'the', 'moon,', 'and') ['afar']\n",
      "\n",
      "('the', 'moon,', 'and', 'afar') ['i']\n",
      "\n",
      "('moon,', 'and', 'afar', 'i') ['saw']\n",
      "\n",
      "('and', 'afar', 'i', 'saw') ['it']\n",
      "\n",
      "('afar', 'i', 'saw', 'it') ['protruding']\n",
      "\n",
      "('i', 'saw', 'it', 'protruding') ['uncannily']\n",
      "\n",
      "('saw', 'it', 'protruding', 'uncannily') ['above']\n",
      "\n",
      "('it', 'protruding', 'uncannily', 'above') ['the']\n",
      "\n",
      "('protruding', 'uncannily', 'above', 'the') ['sands']\n",
      "\n",
      "('uncannily', 'above', 'the', 'sands') ['as']\n",
      "\n",
      "('above', 'the', 'sands', 'as') ['parts']\n",
      "\n",
      "('the', 'sands', 'as', 'parts') ['of']\n",
      "\n",
      "('sands', 'as', 'parts', 'of') ['a']\n",
      "\n",
      "('as', 'parts', 'of', 'a') ['corpse']\n",
      "\n",
      "('parts', 'of', 'a', 'corpse') ['may']\n",
      "\n",
      "('of', 'a', 'corpse', 'may') ['protrude']\n",
      "\n",
      "('a', 'corpse', 'may', 'protrude') ['from']\n",
      "\n",
      "('corpse', 'may', 'protrude', 'from') ['an']\n",
      "\n",
      "('may', 'protrude', 'from', 'an') ['ill-made']\n",
      "\n",
      "('protrude', 'from', 'an', 'ill-made') ['grave.']\n",
      "\n",
      "('from', 'an', 'ill-made', 'grave.') ['fear']\n",
      "\n",
      "('an', 'ill-made', 'grave.', 'fear') ['spoke']\n",
      "\n",
      "('ill-made', 'grave.', 'fear', 'spoke') ['from']\n",
      "\n",
      "('grave.', 'fear', 'spoke', 'from') ['the']\n",
      "\n",
      "('fear', 'spoke', 'from', 'the') ['age-worn']\n",
      "\n",
      "('spoke', 'from', 'the', 'age-worn') ['stones']\n",
      "\n",
      "('from', 'the', 'age-worn', 'stones') ['of']\n",
      "\n"
     ]
    }
   ],
   "source": [
    "new_MC = markov_chain('./data/lovecraft.txt',ngram=4)\n",
    "new_MC.create_probability_object()\n",
    "i = 0\n",
    "for key,value in new_MC.markov_keys.items():\n",
    "    print(key,value)\n",
    "    print()\n",
    "    i+=1\n",
    "    if i>50:\n",
    "        break"
   ]
  },
  {
   "cell_type": "code",
   "execution_count": 27,
   "metadata": {
    "scrolled": true
   },
   "outputs": [
    {
     "name": "stdout",
     "output_type": "stream",
     "text": [
      "the nameless city i knew it was accursed. i was traveling in a parched and terrible valley under the moon, and afar i saw it protruding uncannily above the sands as parts of a corpse may protrude from an ill-made grave. fear spoke from the age-worn stones of this hoary survivor of the deluge, this great-grandfather of the eldest pyramid; and a viewless aura repelled me and bade me retreat from antique and sinister secrets that no man should see, and no man else had dared to see.. remote in the desert of araby lies the nameless city, crumbling and\n"
     ]
    }
   ],
   "source": [
    "print(new_MC.generate_sentence(length=100, starting_word_id=7))"
   ]
  },
  {
   "cell_type": "code",
   "execution_count": 28,
   "metadata": {},
   "outputs": [
    {
     "name": "stdout",
     "output_type": "stream",
     "text": [
      "i knew it was this chilly, sandy wind which had disturbed the camel and was about to abandon his efforts when i noticed a trivial circumstance which made me shudder, even though it implied nothing more than i had already imagined. i told him of it, and we both looked at its almost imperceptible manifestation with the fixedness of fascinated discovery and acknowledgment. it was only this--that the flame of the lantern set down near the altar was slightly but certainly flickering from a draught of air which it had not before received, and which came indubitably from the crevice\n"
     ]
    }
   ],
   "source": [
    "print(new_MC.generate_sentence(length=100, starting_word_id=10))"
   ]
  },
  {
   "cell_type": "code",
   "execution_count": 29,
   "metadata": {},
   "outputs": [],
   "source": [
    "a = new_MC.generate_sentence(length=100, starting_word_id=10)"
   ]
  },
  {
   "cell_type": "code",
   "execution_count": 30,
   "metadata": {},
   "outputs": [
    {
     "name": "stdout",
     "output_type": "stream",
     "text": [
      "i knew it was accursed. i was traveling in a parched and terrible valley under the moon, and afar i saw it protruding uncannily above the sands as parts of a corpse may protrude from an ill-made grave. fear spoke from the age-worn stones of this hoary survivor of the deluge, this great-grandfather of the eldest pyramid; and a viewless aura repelled me and bade me retreat from antique and sinister secrets that no man should see, and no man else had dared to see.. remote in the desert of araby to seek a nameless city of faint report, which\n"
     ]
    }
   ],
   "source": [
    "print (a)"
   ]
  },
  {
   "cell_type": "code",
   "execution_count": 31,
   "metadata": {},
   "outputs": [
    {
     "name": "stdout",
     "output_type": "stream",
     "text": [
      "216\n"
     ]
    }
   ],
   "source": [
    "print (MC.text_as_list.index('which'))\n"
   ]
  },
  {
   "cell_type": "code",
   "execution_count": 32,
   "metadata": {},
   "outputs": [],
   "source": [
    "a = new_MC.generate_sentence(length=100, starting_word_id=216)"
   ]
  },
  {
   "cell_type": "code",
   "execution_count": 33,
   "metadata": {},
   "outputs": [
    {
     "name": "stdout",
     "output_type": "stream",
     "text": [
      "which can eternal lie, and with strange aeons even death may die. only the grim brooding desert gods know what really took place--what indescribable struggles and scrambles in the dark i endured or what abaddon guided me back to life, where i must always remember and shiver in the night wind till oblivion--or worse--claims me. monstrous, unnatural, colossal, was the thing--too far beyond all the ideas of man to be believed except in the silent damnable small hours of the morning we often injected wests various solutions into the veins of dead things, and if they were fresh enough they\n"
     ]
    }
   ],
   "source": [
    "print (a)"
   ]
  },
  {
   "cell_type": "code",
   "execution_count": null,
   "metadata": {},
   "outputs": [],
   "source": []
  }
 ],
 "metadata": {
  "anaconda-cloud": {},
  "kernelspec": {
   "display_name": "Python 3",
   "language": "python",
   "name": "python3"
  },
  "language_info": {
   "codemirror_mode": {
    "name": "ipython",
    "version": 3
   },
   "file_extension": ".py",
   "mimetype": "text/x-python",
   "name": "python",
   "nbconvert_exporter": "python",
   "pygments_lexer": "ipython3",
   "version": "3.7.1"
  },
  "latex_envs": {
   "LaTeX_envs_menu_present": true,
   "bibliofile": "biblio.bib",
   "cite_by": "apalike",
   "current_citInitial": 1,
   "eqLabelWithNumbers": true,
   "eqNumInitial": 1,
   "hotkeys": {
    "equation": "Ctrl-E",
    "itemize": "Ctrl-I"
   },
   "labels_anchors": false,
   "latex_user_defs": false,
   "report_style_numbering": false,
   "user_envs_cfg": false
  },
  "toc": {
   "colors": {
    "hover_highlight": "#DAA520",
    "running_highlight": "#FF0000",
    "selected_highlight": "#FFD700"
   },
   "moveMenuLeft": true,
   "nav_menu": {
    "height": "12px",
    "width": "252px"
   },
   "navigate_menu": true,
   "number_sections": true,
   "sideBar": true,
   "threshold": 4,
   "toc_cell": false,
   "toc_section_display": "block",
   "toc_window_display": false
  }
 },
 "nbformat": 4,
 "nbformat_minor": 2
}
