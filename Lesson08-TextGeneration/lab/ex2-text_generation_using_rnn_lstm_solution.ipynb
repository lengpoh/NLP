{
 "cells": [
  {
   "cell_type": "markdown",
   "metadata": {},
   "source": [
    "## Text Generation with Neural Network (RNN)\n",
    "\n",
    "Acknowledgement: Max Woolf https://github.com/minimaxir/textgenrnn\n",
    "\n",
    "#### Introduction\n",
    "\n",
    "Text generation is a challenging problem that even the largest data science teams are still struggling with, so we'll explore some of the most common and accessible methods to solve the problem, starting at a somewhat basic level. The approach we will attempt in this notebook is:\n",
    "\n",
    "* Character and word based RNN using the library textgenrnn\n",
    "\n",
    "textgenrnn is a Python module on top of Keras/TensorFlow which can easily generate text using a pretrained recurrent neural network: textgenrnn is a project by Max Woolf (https://github/minimaxir/textgenrnn)         "
   ]
  },
  {
   "cell_type": "markdown",
   "metadata": {},
   "source": [
    "#### Train a new model\n",
    "You can train a new model using any modern RNN architecture you want by:\n",
    "* calling train_new_model if supplying texts, or adding a new_model=True parameter if training from a file. If you do, the model will save a config file and a vocab file in addition to the weights, and those must be also loaded into a textgenrnn instances.\n",
    "\n",
    "The config parameters available are:\n",
    "* word_level: Whether to train the model at the word level (default: False)\n",
    "* rnn_layers: Number of recurrent LSTM layers in the model (default: 2)\n",
    "* rnn_size: Number of cells in each LSTM layer (default: 128)\n",
    "* rnn_bidirectional: Whether to use Bidirectional LSTMs, which account for sequences both forwards and backwards. Recommended if the input text follows a specific schema. (default: False)\n",
    "* max_length: Maximum number of previous characters/words to use before predicting the next token. This value should be reduced for word-level models (default: 40)\n",
    "* max_words: Maximum number of words (by frequency) to consider for training (default: 10000)\n",
    "* dim_embeddings: Dimensionality of the character/word embeddings (default: 100)\n",
    "\n"
   ]
  },
  {
   "cell_type": "code",
   "execution_count": 1,
   "metadata": {},
   "outputs": [
    {
     "name": "stderr",
     "output_type": "stream",
     "text": [
      "Using TensorFlow backend.\n",
      "/Users/tanpohkeam/anaconda3/envs/tipp_nlp/lib/python3.6/site-packages/tensorflow/python/framework/dtypes.py:471: FutureWarning: Passing (type, 1) or '1type' as a synonym of type is deprecated; in a future version of numpy, it will be understood as (type, (1,)) / '(1,)type'.\n",
      "  _np_qint8 = np.dtype([(\"qint8\", np.int8, 1)])\n",
      "/Users/tanpohkeam/anaconda3/envs/tipp_nlp/lib/python3.6/site-packages/tensorflow/python/framework/dtypes.py:472: FutureWarning: Passing (type, 1) or '1type' as a synonym of type is deprecated; in a future version of numpy, it will be understood as (type, (1,)) / '(1,)type'.\n",
      "  _np_quint8 = np.dtype([(\"quint8\", np.uint8, 1)])\n",
      "/Users/tanpohkeam/anaconda3/envs/tipp_nlp/lib/python3.6/site-packages/tensorflow/python/framework/dtypes.py:473: FutureWarning: Passing (type, 1) or '1type' as a synonym of type is deprecated; in a future version of numpy, it will be understood as (type, (1,)) / '(1,)type'.\n",
      "  _np_qint16 = np.dtype([(\"qint16\", np.int16, 1)])\n",
      "/Users/tanpohkeam/anaconda3/envs/tipp_nlp/lib/python3.6/site-packages/tensorflow/python/framework/dtypes.py:474: FutureWarning: Passing (type, 1) or '1type' as a synonym of type is deprecated; in a future version of numpy, it will be understood as (type, (1,)) / '(1,)type'.\n",
      "  _np_quint16 = np.dtype([(\"quint16\", np.uint16, 1)])\n",
      "/Users/tanpohkeam/anaconda3/envs/tipp_nlp/lib/python3.6/site-packages/tensorflow/python/framework/dtypes.py:475: FutureWarning: Passing (type, 1) or '1type' as a synonym of type is deprecated; in a future version of numpy, it will be understood as (type, (1,)) / '(1,)type'.\n",
      "  _np_qint32 = np.dtype([(\"qint32\", np.int32, 1)])\n"
     ]
    }
   ],
   "source": [
    "from textgenrnn import textgenrnn"
   ]
  },
  {
   "cell_type": "code",
   "execution_count": 4,
   "metadata": {
    "scrolled": true
   },
   "outputs": [
    {
     "name": "stdout",
     "output_type": "stream",
     "text": [
      "345 texts collected.\n",
      "Training on 49,613 character sequences.\n",
      "Epoch 1/4\n",
      "387/387 [==============================] - 86s 223ms/step - loss: 1.5354\n",
      "####################\n",
      "Temperature: 0.2\n",
      "####################\n",
      "eeee to do the project and the worksheet and the worksheet to do the worksheet and we were and we did the worksheet and discuss to do the team to do and the worksheet to do the startup and the worksheet is able to completed to the worksheet and the team and the worksheet is between the worksheet an\n",
      "\n",
      "eeeeors we were and the worksheet to do the worksheet and some to be the project to completed to do the worksheet and we did the completion of the worksheet. We all the worksheet and we were are able to completed the worksheet to do and the worksheet and the worksheet and do the project and we were\n",
      "\n",
      "telte of the worksheet to do the worksheet and the worksheet and we were all of the worksheet and do the worksheet and the worksheet and we did the team and the worksheet and we were answers and the team team and the worksheet and the constraints that we were and the worksheet and the worksheet and\n",
      "\n",
      "####################\n",
      "Temperature: 0.5\n",
      "####################\n",
      "ethmes and some to each of the worksheet and estimated and also the seasons of the worksheet is as a surpremier of the worksheet and the worksheet to group to a group. I were arrested to work all the own so that we did a schedule to a work after a work of worksheet in the completion when we were to\n",
      "\n",
      "t eeo the project is managers who can all the project and set murtic in the worksheet. It will each out the first worksheet is project that I will left our discuss and we can in to do the worksheet as the team and the project completing the team worksheet of the completion to plan the worksheet and\n",
      "\n",
      "ehpeed of the worksheet document will be were i worksheet when we are discussed and the questions we are discussed and a sumpow time as the project were were we see as the is the stakeholder that we did the more than a team and the worksheet were having to sell up as we shared the different are a W\n",
      "\n",
      "####################\n",
      "Temperature: 1.0\n",
      "####################\n",
      " c_cey. Our knows the document Whian we have a project planned to be to\n",
      "\n",
      "aаemreepare everyone tasks the time time. We created that we were imparents as center the kids when the be our tolve loag helpars on team Platica the teamworks of whatev face\n",
      "\n",
      "uCahame is that were the role why what matericular systemple Junkine\n",
      "\n",
      "Epoch 2/4\n",
      "387/387 [==============================] - 88s 227ms/step - loss: 1.2403\n",
      "####################\n",
      "Temperature: 0.2\n",
      "####################\n",
      "o the worksheet to get the worksheet to contributed a submittion and the team worksheet to contributed the worksheet to contributed the worksheet to contributed a submittion and the questions to contributed the worksheet with the worksheet to contributed the project and scope and we will do the tea\n",
      "\n",
      " o the worksheet and added to complete the scope of the worksheet to consided to the worksheet to contributed the worksheet that we can also and started to contributed the worksheet to contributed the worksheet with the worksheet on the worksheet to consided to the worksheet to contributed the work\n",
      "\n",
      "oond the worksheet on the worksheet that we contributed the questions on the worksheet to contributed the worksheet in the project and the worksheet will ask it to constrain to the team worksheet to do the questions on the worksheet to constraint the worksheet. We are done that the worksheet is the\n",
      "\n",
      "####################\n",
      "Temperature: 0.5\n",
      "####################\n",
      "eossered . Snore on the artive to help the source as the questions is to be the questions to do the questions and solve and research and sensor the team answer and we have to do it in the team worksheet together. Which we can start and what questions are the team worksheet in the worksheet is the b\n",
      "\n",
      "ower we did my project and submitting the staff in answer that we can have a project and do that the questions is the tower and that we inside to get the last the part questions and added to get the teamworks on the questions that we had done my than us in the project is a project. I will do that c\n",
      "\n",
      "mootarly that a little conclusing on the constraint and the frast to send a long answer of what piss of sensorement and be the constraints as the questions that the questions make the worksheet think and tasks for the triple eases. We contributed the days before however as we are not too for the wo\n",
      "\n",
      "####################\n",
      "Temperature: 1.0\n",
      "####################\n",
      "lurhgnecomperymark can be left. \"Team SCE: Parade a game IOT\n",
      "\n",
      "st hord my face for their team. So today's would be worksheet. And lart gank cimede to deligre the case once of ensure to clear it melding basement. what will have fewt easey understine and examp to contributed given answer. 1vioure is then communicative group on works to check still what can fully\n",
      "\n",
      " the cannot to for down, we have to were given charter mane the team. We will the explain conpacted a worksheet\n",
      "\n",
      "Epoch 3/4\n",
      "387/387 [==============================] - 88s 228ms/step - loss: 1.1195\n",
      "####################\n",
      "Temperature: 0.2\n",
      "####################\n",
      "ooth of the worksheet and set up the worksheet and all of a submitting the team worksheet and completed the project and the project and do the worksheet and all of a company and then answers and the team worksheet and the team worksheet and contributed and also the team worksheet and set up the wor\n",
      "\n",
      "ooth of the team worksheet in the project and the worksheet and the project and contributed and also the team worksheet and contributed and then answers and a team worksheet and completed the worksheet and the project and the team worksheet to do the team worksheet and the project and the project a\n",
      "\n",
      "ooth the team and the team worksheet and do the worksheet in the worksheet and the team worksheet and contributed and contributed and the company that we will be the project and contributed and then answers and do the team worksheet and do the worksheet and contributed the team worksheet and see th\n",
      "\n",
      "####################\n",
      "Temperature: 0.5\n",
      "####################\n",
      "ooouserthologic project is solocons and we can see experienced with the team and project. We can start to do the team worksheet and done in a team to complete our project to do the project and we can read the worksheet in the worksheet as a conclusion. I done and i feel that in some time and manage\n",
      "\n",
      "t tenmatts the team worksheet and the time and the worksheet is all of a sensor, we were been submitted to the answers to a project by a team worksheet for the worksheet for a different point or interest the project are able to use to ensure a team worksheet and I can start a subpure and set a fini\n",
      "\n",
      "\"My team team in the project contributed to each other and answered to complete the questions on the worksheet by a team worksheet. Whatever submitting the team management to remote only a constraints they can be and do the company and then what we have a camp and group to complete the project and \n",
      "\n",
      "####################\n",
      "Temperature: 1.0\n",
      "####################\n",
      "ttith ok very day. We contract inspect to one project to span.\n",
      "\n",
      "ssoreaple and discussed to\n",
      "\n",
      "Trabers, Project I plan . I vault a to can be making the project who would allect, at deadly, a WhatsApp of the bomate is equarning on the\n",
      "\n",
      "Epoch 4/4\n",
      "387/387 [==============================] - 88s 228ms/step - loss: 1.0165\n",
      "####################\n",
      "Temperature: 0.2\n",
      "####################\n",
      "the project and the project and the project and the project and the project and the project can help the team may and then the project and started to complete the project and the project and the project and the project and the project and also done to complete the team worksheet to complete the pro\n",
      "\n",
      "\"I have a good time to project the project and the project is a team may be able to complete the project and the project and the project will be able to do the project and added to complete the project and the project are the project and the project and the project will be able to do the project an\n",
      "\n",
      "\"I will be the team worksheet and the project and the project and the project is about the project and we can do the project and do the project and project and the project and the project for the project and make the project and stakeholder team worksheet and completed the team worksheet to do the \n",
      "\n",
      "####################\n",
      "Temperature: 0.5\n",
      "####################\n"
     ]
    },
    {
     "name": "stdout",
     "output_type": "stream",
     "text": [
      "worksheet the resources were sure what and additional to each other we can be the project and help for the project along the project and completed with the project that we will properly progress that we were able to complete the team worksheet that I can also preparing and I have to provided to the\n",
      "\n",
      "\"I will be able to be finished it in selections and we all are all of the project and project charter when they have to achieve the final project and which was the project and splitting the team worksheet that I will not decide the project and the simple between completed the project and started to\n",
      "\n",
      "\"I have any deadline to the team worksheet and they is a completed the team worksheet that we will not get different answers within the team worksheet will go within the project are the first insights of the worksheet with the raises have a before the worksheet from a team worksheet to build a subm\n",
      "\n",
      "####################\n",
      "Temperature: 1.0\n",
      "####################\n",
      "Scodquesch Where i answered O. Huntase to this week telegram and clear really (get a titlen and each team wind is not because to proceed the worksheet to design evenmany, estime that\n",
      "\n",
      "pberation with item was I contributed in free ensureress for the\n",
      "\n",
      "a of good we\n",
      "\n"
     ]
    }
   ],
   "source": [
    "## The format of the input file is simply one line per document. \n",
    "## When preparing the file, include opening and closing quotes for accurately preprocessing\n",
    "## in the output, the temperature value (0 to 1) refers to the level of creativity\n",
    "\n",
    "## At the end of the training, the model is saved to a file textgenrnn_weights.hdf5\n",
    "\n",
    "textgen = textgenrnn()\n",
    "textgen.train_from_file('./data/reflections.txt', max_length=40, word_level=True, rnn_size=64,  num_epochs=4, dim_embeddings=100, rnn_bidirectional=False)\n"
   ]
  },
  {
   "cell_type": "markdown",
   "metadata": {},
   "source": [
    "* Now the fun part, to generate some random text"
   ]
  },
  {
   "cell_type": "code",
   "execution_count": 5,
   "metadata": {},
   "outputs": [
    {
     "name": "stdout",
     "output_type": "stream",
     "text": [
      "the project and very ended the project and application the triple cost and decided the project are the person and I respected to complete the project and we shared before the project and team members of the project is able to do their project are the team to do the project and already that I can\n",
      "\n"
     ]
    }
   ],
   "source": [
    "# generate 1 text document\n",
    "textgen.generate(1)"
   ]
  },
  {
   "cell_type": "markdown",
   "metadata": {},
   "source": [
    "* Generate 1 text document starting with \"My team mates decide to use Google to\""
   ]
  },
  {
   "cell_type": "code",
   "execution_count": 6,
   "metadata": {
    "scrolled": true
   },
   "outputs": [
    {
     "name": "stdout",
     "output_type": "stream",
     "text": [
      "My team mates decide to use Google for the project and do the worksheet from the worksheet together and informed the worksheet time as an experience of I can he to make the worksheet as the project is a sologe and this week . I have to learn to promote the answer on the project and the worksheet\"\n",
      "\n"
     ]
    }
   ],
   "source": [
    "textgen.generate(1, prefix=\"My team mates decide to use Google for\")"
   ]
  },
  {
   "cell_type": "markdown",
   "metadata": {},
   "source": [
    "## Exercise A\n",
    "\n",
    "As with any training of ML/DL models, a lot of work goes into tuning the parameters and using applying some intuition on what might yield an acceptable results.\n",
    "For the task of using RNN/LSTM to generate text, the following parameters should result in different performance of the model.\n",
    "\n",
    "- Are you using word-level or character-level as the input\n",
    "- What is the size of the dimensions. We admit that don't know if the module textgenrnn is using word2vec or other variation\n",
    "- Whether you are training forward only, or using bi-directional\n",
    "\n",
    "\n",
    "#### Your task: \n",
    "Change the input parameters of the function train_from_file to try out the different values of hyperparameters\n",
    "- word_level=True, word_level=False\n",
    "- dim_embeddings=100, dim_embeddings=50, dim_embeddings=150\n",
    "- rnn_bidirectional=False, rnn_bidirectional=True\n",
    "\n",
    "The, rerun the model and re-generate the text."
   ]
  },
  {
   "cell_type": "code",
   "execution_count": 10,
   "metadata": {},
   "outputs": [
    {
     "name": "stdout",
     "output_type": "stream",
     "text": [
      "345 texts collected.\n",
      "Training on 49,613 character sequences.\n",
      "Epoch 1/4\n",
      "387/387 [==============================] - 88s 226ms/step - loss: 1.3883\n",
      "####################\n",
      "Temperature: 0.2\n",
      "####################\n",
      "communicating the team and then the project and discussion and all the project and as the team and then answers and then is the project is a project and all of the project and the project is a project and all of the project and then is the project and discussion to a project and discussion and star\n",
      "\n",
      "communicating the team and started to ensure that the team was answers and all of the project and discussion to communicating the team and than we did it to communicate the team and then the team is the project and all the team and the project contributed to communicating the project and did the te\n",
      "\n",
      "contributed to plan the team and started to the project and school and discussion of the project and project and started to contribute the project and all the team we had the project and answers in the project and all of the team and all a communication of the project is the team and then the proje\n",
      "\n",
      "####################\n",
      "Temperature: 0.5\n",
      "####################\n",
      "is a start of the project in the project and then we were we will do the team of the team we have to ensure a read of the project where of the part of the project in in the part and allege of the work ensure designens and do the project and then discussed by the google this time communicating the m\n",
      "\n",
      "\"Made for the part is my team and allow the project of the worksheet and discussian that the project is on the project and so that every time, it is a project of the team and all the project and need to spec for the plan and then an idea a team and part to the next to call the project. The to some \n",
      "\n",
      "contributed if the project the team started in a project as a project and not to advice the project and able to project the communal of the project and not discussians contribute that the team was the project contribute and made the time in the plan to achien and such and this is the plan to ensure\n",
      "\n",
      "####################\n",
      "Temperature: 1.0\n",
      "####################\n",
      "\"Meets discussed on to adidating if adswer moder, as area. Each team Line, I harve ming at tod platform of the KAAr. Overall we contine a harder that a term we reducted on the project of ourselvest ad, early - etclic Conor vs of\n",
      "\n",
      "an in contributes to both. It will dinfit those what the tota also in adormana rim posts in our perioning time, time to explate the other\n",
      "\n",
      "be understen we think in easpmating each of my given the knowl me all the schools help of the another that i think for product. in on that it is no be estis rate and important. Work aream first rul on the team.\n",
      "\n",
      "Epoch 2/4\n",
      "387/387 [==============================] - 90s 234ms/step - loss: 1.1302\n",
      "####################\n",
      "Temperature: 0.2\n",
      "####################\n",
      "completed the team worksheet to do the team worksheet to do the team worksheet to complete the team worksheet to complete the worksheet and they are doing the worksheet to do the team worksheet to do the worksheet to do the team worksheet to do the team worksheet to do the team worksheet to complet\n",
      "\n",
      "\"We are answered to do the worksheet to do the team worksheet together to complete the team worksheet to complete the team worksheet to do the team worksheet to complete the worksheet to do the team worksheet to do the team worksheet that we did the team worksheet to the team worksheet to do the te\n",
      "\n",
      "team worksheet and I have to complete the team worksheet to do the team and they are therefore to do the team worksheet and then completed the team worksheet and some of the project management to do the worksheet and they will be the worksheet to do the team worksheet to complete the team worksheet\n",
      "\n",
      "####################\n",
      "Temperature: 0.5\n",
      "####################\n",
      "whenever thanks a team worksheet at the management to enough for the planned to planned the team and come to ensure to finish the worksheet and to complete the resources on the team discussed with each other than the team worksheet is a lot of the team management and there is each team worksheet to\n",
      "\n",
      "\"I made the management to do the documents to do the questions that a few team management team worksheet to do the answers and how to do to the team worksheet. If the worksheet have to read the team worksheet, we have to manage the worksheet to project the team as we discussed to the work and so th\n",
      "\n",
      "\"For the team worksheet and we have a complete of the beginning of the project management and do the team worksheet that they would complete the stakeholder team worksheet with the team worksheet we will work with my team worksheet to complete the answers and resources to complete the scheme to mus\n",
      "\n",
      "####################\n",
      "Temperature: 1.0\n",
      "####################\n",
      "from to inform up to pretction to play a must highlight with senshert to complete us the tascowlacks familiate them together card at week Xith. I feel that every system is going our term and how to exegne and hence.\"\n",
      "\n",
      "From to some google docs each project more to think the results or collumes in constraint of 1 shared the sweep or attrooin importanes coptions from to entry resources more charter. In the task question or delabated the right.\"\n",
      "\n",
      "\"\n",
      "\n",
      "Epoch 3/4\n",
      "387/387 [==============================] - 92s 237ms/step - loss: 1.0129\n",
      "####################\n",
      "Temperature: 0.2\n",
      "####################\n",
      "\"We are an each of the project is a google docs and do the project so that we can have to complete the worksheet and do the project and do the worksheet and do that the project is a project and we can have a better team worksheet and the team worksheet is a group and do the worksheet on the workshe\n",
      "\n",
      "\"We contributed to the project and the team worksheet and we would be the team worksheet to give to the project and do the worksheet and do the project to be able to complete the worksheet and do the project and the constraints are done in the project and the team worksheet to complete the workshee\n",
      "\n",
      "\"My team worksheet and I contributed to do the team worksheet and the team worksheet is to complete the communicate to the team worksheet and do the team worksheet and a team worksheet and we can have to complete the worksheet and do the team worksheet and that we would be the team worksheet to giv\n",
      "\n",
      "####################\n",
      "Temperature: 0.5\n",
      "####################\n",
      "\"My team member that we see in the project and to give week questions to complete the project before the constraints in the communicate requirement to get a lot of the stakeholder questions and to complete that it would be used to do the team morric to complete the part to get the team worksheet . \n",
      "\n",
      "\"\n",
      "\n",
      "complete it on the worksheet in the worksheet and language to set up the worksheet in complete to complete the questions and add to me for the worksheet together than that we would be able to be able to be able to accommen in the worksheet and discuss with complete the team worksheet and completed \n",
      "\n",
      "####################\n",
      "Temperature: 1.0\n",
      "####################\n",
      "the quick and also. \n",
      "\n",
      "charter inside. Some I have every register on JuritApmp plan proceuming work in project.\"\n",
      "\n",
      "\"My team member will ask me a team is a time to read would not one of us. what i research importlyone to make marks for my more than for fromwined and deally do that will be comprom toges. For Recognin statement is a rather to be saiding and discuss for google done while promoting our week. I proce\n",
      "\n",
      "Epoch 4/4\n",
      "387/387 [==============================] - 87s 225ms/step - loss: 0.9213\n",
      "####################\n",
      "Temperature: 0.2\n",
      "####################\n",
      "and the constraints is a good team worksheet together. I would like to do the worksheet to complete the project based on the worksheet and some of the project is a group to do the worksheet to do the worksheet together and they will be able to be able to plan the project based on the project based \n",
      "\n",
      "the project and I have to complete the worksheet and the project is a based on the project. We all amount of the team worksheet that we can be able to do the worksheet. I also completed the team worksheet. We also have a later and then completed the team worksheet and ask the team worksheet togethe\n",
      "\n",
      "the project that I can we did the team worksheet together than the project. I think the project managers we have to complete the worksheet together and stakeholder to complete the project based on the team worksheet to the team worksheet with the project based on the project based on the worksheet \n",
      "\n",
      "####################\n",
      "Temperature: 0.5\n",
      "####################\n"
     ]
    },
    {
     "name": "stdout",
     "output_type": "stream",
     "text": [
      "at the project based on the worksheet. The project contributed a give project and stakeholder and ask the worksheet contributed by the project. I will do the team member and we can increase the different team worksheet and project to be able to finish the teamwork in the project on the task grid by\n",
      "\n",
      "Teamwork will be able to each other and the amount of the team assormans for the project. I also get a charter and therefore that we will do the team worksheet on the change. We managed to do the project to do the questions were an explain of us to do the worksheet together and what we can plan to \n",
      "\n",
      "an areas with the worksheet with the questions or work where to complete the project. The answers of the team worksheet. Some questions that we can project a time that my teammates we have successful parts with the questions that we submitted to do the team worksheet. We completed the worksheet tha\n",
      "\n",
      "####################\n",
      "Temperature: 1.0\n",
      "####################\n",
      "\n",
      "\n",
      "\"My team answer planstolve so an endle_dochess project together. So, and there's weavf cost or our project. Othis will be a must that they in flew of it to plan then some of user. Template the teamphing diffored and finally it last questions to each the questions. \n",
      "\n",
      "of the r/Reasonvasion before is up to fair of\n",
      "\n",
      "My team mates decide to use Google for the planning and submitting the project based on the worksheet and some of the worksheet on the worksheet. I feel that we are doing team and knowledge we did their part of the team worksheet is a later group to do the team worksheet.\"\n",
      "\n"
     ]
    }
   ],
   "source": [
    "textgen_new = textgenrnn()\n",
    "## Hyper parameters\n",
    "word_level=True\n",
    "word_level=False\n",
    "\n",
    "dim_embeddings=100\n",
    "dim_embeddings=50\n",
    "\n",
    "rnn_bidirectional=False\n",
    "rnn_bidirectional=True\n",
    "\n",
    "textgen_new.train_from_file('./data/reflections.txt', max_length=40, word_level=word_level, rnn_size=64,  num_epochs=4, dim_embeddings=dim_embeddings, rnn_bidirectional=rnn_bidirectional)\n",
    "textgen_new.generate(1, prefix=\"My team mates decide to use Google for\")"
   ]
  },
  {
   "cell_type": "code",
   "execution_count": null,
   "metadata": {},
   "outputs": [],
   "source": []
  }
 ],
 "metadata": {
  "kernelspec": {
   "display_name": "Python 3",
   "language": "python",
   "name": "python3"
  },
  "language_info": {
   "codemirror_mode": {
    "name": "ipython",
    "version": 3
   },
   "file_extension": ".py",
   "mimetype": "text/x-python",
   "name": "python",
   "nbconvert_exporter": "python",
   "pygments_lexer": "ipython3",
   "version": "3.6.7"
  }
 },
 "nbformat": 4,
 "nbformat_minor": 2
}
