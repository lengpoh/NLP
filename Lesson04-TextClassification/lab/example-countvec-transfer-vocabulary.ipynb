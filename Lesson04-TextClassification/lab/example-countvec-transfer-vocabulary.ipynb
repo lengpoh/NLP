{
 "cells": [
  {
   "cell_type": "markdown",
   "metadata": {},
   "source": [
    "When we trained a model using Count Vectoriser, the model expects as an input the shape of the original vector.\n",
    "IF a new document with different terms is encountered, we need to preserve the original features and index"
   ]
  },
  {
   "cell_type": "code",
   "execution_count": 20,
   "metadata": {},
   "outputs": [
    {
     "name": "stdout",
     "output_type": "stream",
     "text": [
      "{'cat': 1, 'dog': 4, 'song': 5, 'dance': 3, 'coke': 2, 'beer': 0}\n",
      "  (0, 1)\t1\n",
      "  (0, 4)\t1\n",
      "  (1, 5)\t1\n",
      "  (1, 3)\t1\n",
      "  (2, 2)\t1\n",
      "  (2, 0)\t1\n",
      "(3, 6)\n"
     ]
    }
   ],
   "source": [
    "from sklearn.feature_extraction.text import CountVectorizer\n",
    "\n",
    "corpus = [\"cat dog\", \"song dance\", \"coke beer\"]\n",
    "\n",
    "vectorizer = CountVectorizer()\n",
    "X = vectorizer.fit_transform(corpus)\n",
    "\n",
    "feature_vocabulary = vectorizer.vocabulary_\n",
    "print (feature_vocabulary)\n",
    "print(X)\n",
    "print (X.shape)"
   ]
  },
  {
   "cell_type": "code",
   "execution_count": null,
   "metadata": {},
   "outputs": [],
   "source": []
  },
  {
   "cell_type": "code",
   "execution_count": 24,
   "metadata": {},
   "outputs": [
    {
     "name": "stdout",
     "output_type": "stream",
     "text": [
      "{'cat': 1, 'dog': 4, 'song': 5, 'dance': 3, 'coke': 2, 'beer': 0}\n",
      "  (0, 1)\t1\n",
      "  (0, 4)\t1\n",
      "  (1, 3)\t1\n",
      "  (1, 5)\t1\n",
      "  (2, 0)\t1\n",
      "  (2, 2)\t1\n"
     ]
    }
   ],
   "source": [
    "corpus = [\"elephant cat dog\", \"wine song dance\", \"dog peanuts coke beer\", \"ham bacon\"]\n",
    "new_vectorizer = CountVectorizer(vocabulary=feature_vocabulary)\n",
    "new_X = new_vectorizer.fit_transform(new_corpus)\n",
    "\n",
    "new_feature_vocabulary = new_vectorizer.vocabulary_\n",
    "\n",
    "print (new_feature_vocabulary)\n",
    "print(new_X)"
   ]
  },
  {
   "cell_type": "code",
   "execution_count": 17,
   "metadata": {},
   "outputs": [
    {
     "name": "stdout",
     "output_type": "stream",
     "text": [
      "(3, 6)\n"
     ]
    }
   ],
   "source": [
    "print (new_X.shape)"
   ]
  },
  {
   "cell_type": "code",
   "execution_count": null,
   "metadata": {},
   "outputs": [],
   "source": []
  }
 ],
 "metadata": {
  "kernelspec": {
   "display_name": "Python 3",
   "language": "python",
   "name": "python3"
  },
  "language_info": {
   "codemirror_mode": {
    "name": "ipython",
    "version": 3
   },
   "file_extension": ".py",
   "mimetype": "text/x-python",
   "name": "python",
   "nbconvert_exporter": "python",
   "pygments_lexer": "ipython3",
   "version": "3.6.7"
  }
 },
 "nbformat": 4,
 "nbformat_minor": 2
}
