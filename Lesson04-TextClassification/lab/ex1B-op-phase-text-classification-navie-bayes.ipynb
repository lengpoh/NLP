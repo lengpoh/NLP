{
 "cells": [
  {
   "cell_type": "markdown",
   "metadata": {},
   "source": [
    "#### Workflow for Operationalizing Text Classification Model\n",
    "\n",
    "Steps for classification\n",
    "(refer to slides)\n",
    " 1. Reload the model\n",
    " 2. Reload the Vectorizer\n",
    " 3. Preprocess the new text\n",
    " 4. Numerically encode the input\n",
    " 5. Predict the label\n",
    "\n"
   ]
  },
  {
   "cell_type": "code",
   "execution_count": 1,
   "metadata": {
    "scrolled": true
   },
   "outputs": [],
   "source": [
    "\n",
    "import pickle\n",
    "import nltk\n",
    "import re\n",
    "import string\n",
    "from sklearn.feature_extraction.text import CountVectorizer\n"
   ]
  },
  {
   "cell_type": "markdown",
   "metadata": {},
   "source": [
    " #### 1. Reload the model"
   ]
  },
  {
   "cell_type": "code",
   "execution_count": 2,
   "metadata": {},
   "outputs": [],
   "source": [
    "path1 = \"classifier_nb-2020-02-27.pkl\"\n",
    "with open(path1, 'rb') as f:\n",
    "    model = pickle.load(f)\n"
   ]
  },
  {
   "cell_type": "markdown",
   "metadata": {},
   "source": [
    "#### 2: Reload the vectorizer"
   ]
  },
  {
   "cell_type": "code",
   "execution_count": 3,
   "metadata": {},
   "outputs": [],
   "source": [
    "path2 = \"countvectoriser_nb-2020-02-27.pkl\"\n",
    "with open(path2, 'rb') as f:\n",
    "    trained_cv = pickle.load(f)"
   ]
  },
  {
   "cell_type": "markdown",
   "metadata": {},
   "source": [
    "#### 3: Preprocess the next text"
   ]
  },
  {
   "cell_type": "code",
   "execution_count": 4,
   "metadata": {},
   "outputs": [],
   "source": [
    "def preprocess(text):\n",
    "    alphanumeric = lambda x: re.sub(r\"\"\"\\w*\\d\\w*\"\"\", ' ', x)\n",
    "    punc_lower = lambda x: re.sub('[%s]' % re.escape(string.punctuation), ' ', x.lower())\n",
    "    text = alphanumeric(text)\n",
    "    text = punc_lower(text)\n",
    "    return text"
   ]
  },
  {
   "cell_type": "markdown",
   "metadata": {},
   "source": [
    "#### 4. Numerically encode the input"
   ]
  },
  {
   "cell_type": "code",
   "execution_count": 5,
   "metadata": {},
   "outputs": [],
   "source": [
    "def encode_text_to_vector(cv, text):\n",
    "    #new_cv = CountVectorizer(stop_words='english', vocabulary=cv.vocabulary_)\n",
    "    #text_vector = new_cv.fit_transform( [text ] )\n",
    "    text_vector = cv.transform([text])\n",
    "    return text_vector"
   ]
  },
  {
   "cell_type": "markdown",
   "metadata": {},
   "source": [
    "#### 5. Predict the label"
   ]
  },
  {
   "cell_type": "code",
   "execution_count": 8,
   "metadata": {},
   "outputs": [
    {
     "name": "stdin",
     "output_type": "stream",
     "text": [
      "Enter the new text >  as a valued customer i am pleased to advise you that following recent review of your mob no you are awarded with\n"
     ]
    },
    {
     "name": "stdout",
     "output_type": "stream",
     "text": [
      "The text is  a  ['spam']\n"
     ]
    }
   ],
   "source": [
    "new_text = input(\"Enter the new text > \")\n",
    "new_text = preprocess(new_text)\n",
    "new_text_vector = encode_text_to_vector(trained_cv, new_text)\n",
    "predicted_label = (model.predict(new_text_vector))\n",
    "print (\"The text is  a \" , predicted_label)\n"
   ]
  },
  {
   "cell_type": "markdown",
   "metadata": {},
   "source": [
    "##### Sample text to use\n",
    "\n",
    "SPAM:\n",
    "as a valued customer i am pleased to advise you that following recent review of your mob no you are awarded with \n",
    "\n",
    "important message this is a final contact attempt you have important messages waiting out our customer claims dept expires call now\n",
    "    \n"
   ]
  }
 ],
 "metadata": {
  "kernelspec": {
   "display_name": "Python 3",
   "language": "python",
   "name": "python3"
  },
  "language_info": {
   "codemirror_mode": {
    "name": "ipython",
    "version": 3
   },
   "file_extension": ".py",
   "mimetype": "text/x-python",
   "name": "python",
   "nbconvert_exporter": "python",
   "pygments_lexer": "ipython3",
   "version": "3.7.4"
  }
 },
 "nbformat": 4,
 "nbformat_minor": 4
}
