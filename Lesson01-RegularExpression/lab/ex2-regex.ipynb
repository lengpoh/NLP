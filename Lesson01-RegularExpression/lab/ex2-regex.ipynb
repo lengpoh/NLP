{
 "cells": [
  {
   "cell_type": "markdown",
   "metadata": {},
   "source": [
    "### Exercise on Regular Expression\n"
   ]
  },
  {
   "cell_type": "markdown",
   "metadata": {},
   "source": [
    "### Searching for all"
   ]
  },
  {
   "cell_type": "code",
   "execution_count": 1,
   "metadata": {},
   "outputs": [
    {
     "name": "stdout",
     "output_type": "stream",
     "text": [
      "Search successful.\n"
     ]
    }
   ],
   "source": [
    "import re\n",
    "\n",
    "pattern = 'term'\n",
    "string = \"The school term starts in Jan and Jun every year\"\n",
    "\n",
    "result = re.search(pattern, string)\n",
    "if result:\n",
    "  print(\"Search successful.\")\n",
    "else:\n",
    "  print(\"Search unsuccessful.\")"
   ]
  },
  {
   "cell_type": "markdown",
   "metadata": {},
   "source": [
    "#### Alternative method to compile the expression "
   ]
  },
  {
   "cell_type": "code",
   "execution_count": 3,
   "metadata": {},
   "outputs": [
    {
     "name": "stdout",
     "output_type": "stream",
     "text": [
      "search successful.\n"
     ]
    }
   ],
   "source": [
    "import re\n",
    "\n",
    "pattern = 'term'\n",
    "string = \"The school term starts in Jan and Jun every year\"\n",
    "compile_pattern = re.compile(pattern)\n",
    "\n",
    "result = compile_pattern.search(string)\n",
    "if result:\n",
    "  print(\"search successful.\")\n",
    "else:\n",
    "  print(\"search unsuccessful.\")\n"
   ]
  },
  {
   "cell_type": "markdown",
   "metadata": {},
   "source": [
    "### Matching for occurance at the start of the text"
   ]
  },
  {
   "cell_type": "code",
   "execution_count": 5,
   "metadata": {},
   "outputs": [
    {
     "name": "stdout",
     "output_type": "stream",
     "text": [
      "Match unsuccessful.\n"
     ]
    }
   ],
   "source": [
    "import re\n",
    "\n",
    "pattern = 'term'\n",
    "string = \"The school term starts in Jan and Jun every year\"\n",
    "compile_pattern = re.compile(pattern)\n",
    "\n",
    "result = compile_pattern.match(string)\n",
    "if result:\n",
    "  print(\"Match successful.\")\n",
    "else:\n",
    "  print(\"Match unsuccessful.\")\n"
   ]
  },
  {
   "cell_type": "markdown",
   "metadata": {},
   "source": [
    "Using the match method"
   ]
  },
  {
   "cell_type": "markdown",
   "metadata": {},
   "source": [
    "### Question 1: \n",
    "- Repeat the prior step to find a match for an expression.\n",
    "- This time, use the compiled expresson instead"
   ]
  },
  {
   "cell_type": "code",
   "execution_count": 1,
   "metadata": {},
   "outputs": [
    {
     "name": "stdout",
     "output_type": "stream",
     "text": [
      "Match successful.\n"
     ]
    }
   ],
   "source": [
    "# Enter your codes here\n",
    "import re\n",
    "\n",
    "pattern = 'term'\n",
    "string = \"The school term starts in Jan and Jun every year\"\n",
    "compile_pattern = re.compile(pattern)\n",
    "\n",
    "result = compile_pattern.search(string)\n",
    "if result:\n",
    "  print(\"Match successful.\")\n",
    "else:\n",
    "  print(\"Match unsuccessful.\")\n"
   ]
  },
  {
   "cell_type": "markdown",
   "metadata": {},
   "source": [
    "### Replacing strings in a text"
   ]
  },
  {
   "cell_type": "code",
   "execution_count": 3,
   "metadata": {},
   "outputs": [
    {
     "data": {
      "text/plain": [
       "'The school semester starts in Jan and Jun every year. The semester ends in Apr and Nov'"
      ]
     },
     "execution_count": 3,
     "metadata": {},
     "output_type": "execute_result"
    }
   ],
   "source": [
    "import re\n",
    "\n",
    "pattern = 'term'\n",
    "compile_pattern = re.compile(pattern)\n",
    "string = \"The school term starts in Jan and Jun every year. The term ends in Apr and Nov\"\n",
    "repl = 'semester'\n",
    "#compile_pattern.sub(repl, string)\n",
    "compile_pattern.sub('semester', string)"
   ]
  },
  {
   "cell_type": "markdown",
   "metadata": {},
   "source": [
    "\n",
    "- We can alternatively use the compiled expression and the object method to get the samne results"
   ]
  },
  {
   "cell_type": "code",
   "execution_count": 31,
   "metadata": {},
   "outputs": [
    {
     "data": {
      "text/plain": [
       "'The school semester starts in Jan and Jun every year. The semester ends in Apr and Nov'"
      ]
     },
     "execution_count": 31,
     "metadata": {},
     "output_type": "execute_result"
    }
   ],
   "source": [
    "import re\n",
    "\n",
    "pattern = 'term'\n",
    "compile_pattern = re.compile(pattern)\n",
    "string = \"The school term starts in Jan and Jun every year. The term ends in Apr and Nov\"\n",
    "repl = 'semester'\n",
    "compile_pattern.sub(repl, string)"
   ]
  },
  {
   "cell_type": "markdown",
   "metadata": {},
   "source": [
    "### Question 2:\n",
    "- Given the string \"This boy was happy because he ate the cake. Another boy cried because his cake was eaten by someone else\", replace all occurences of boy with girl\n"
   ]
  },
  {
   "cell_type": "code",
   "execution_count": 2,
   "metadata": {},
   "outputs": [
    {
     "data": {
      "text/plain": [
       "'This girl was happy because he ate the cake. Another girl cried because his cake was eaten by someone else'"
      ]
     },
     "execution_count": 2,
     "metadata": {},
     "output_type": "execute_result"
    }
   ],
   "source": [
    "# Enter your codes here\n",
    "import re\n",
    "\n",
    "pattern = 'boy'\n",
    "compile_pattern = re.compile(pattern)\n",
    "string = \"This boy was happy because he ate the cake. Another boy cried because his cake was eaten by someone else\"\n",
    "repl = 'girl'\n",
    "compile_pattern.sub(repl, string)"
   ]
  },
  {
   "cell_type": "markdown",
   "metadata": {},
   "source": [
    "### Splitting a long document using a delimiter\n",
    "When working with text data, it is very common to receive text files that are semi-structure.\n",
    "In the example below, we assume that each unique document is delimited by #"
   ]
  },
  {
   "cell_type": "code",
   "execution_count": 10,
   "metadata": {},
   "outputs": [
    {
     "data": {
      "text/plain": [
       "['The school term starts in Jan ',\n",
       " 'The term ends in Apr and Nov.',\n",
       " 'School is fun']"
      ]
     },
     "execution_count": 10,
     "metadata": {},
     "output_type": "execute_result"
    }
   ],
   "source": [
    "import re\n",
    "\n",
    "pattern = '#'\n",
    "string = \"The school term starts in Jan #The term ends in Apr and Nov.#School is fun\"\n",
    "\n",
    "re.split(pattern, string)"
   ]
  },
  {
   "cell_type": "markdown",
   "metadata": {},
   "source": [
    "### Question 3:\n",
    "The file fradulent_emails.txt in the data folder contains email that are send to victims of fraud.\n",
    "It is semi-structure. \n",
    "Use a text editor to preview the file.\n",
    "If you need to split the contents by individual emails what are possible expression that you can use?\n",
    "\n",
    "\n"
   ]
  },
  {
   "cell_type": "code",
   "execution_count": 13,
   "metadata": {},
   "outputs": [
    {
     "name": "stdout",
     "output_type": "stream",
     "text": [
      "  Sat Nov 23 08:38:26 2002\n",
      "Return-Path: <smithkam2@post.com>\n",
      "X-Sieve: cmu-sieve 2.0\n",
      "Return-Path: <smithkam2@post.com>\n",
      "Message-Id: <200211231338.gANDcMZ23081@pinkcadillac.mr.itd.UM>\n",
      "From: smithkam2@post.com\n",
      "Subject: MICHAEL!\n",
      "To: R@M\n",
      "Content-Type: text/plain;\n",
      "\tcharset=\"ANSI\"\n",
      "Reply-To: smithkam2@post.com\n",
      "Date: Sat, 23 Nov 2002 15:01:14 +0100\n",
      "X-Priority: 3\n",
      "X-Library: Indy 9.0.3-B\n",
      "X-Mailer: Foxmail\n",
      "Status: RO\n",
      "\n",
      " From;Mr.Michael Kamah and Family,\n",
      "          Johannesburg,South Africa.\n",
      "\n",
      "My Dear ,\n",
      "\n",
      "Good day.This very confidential request should come as a surprise to you.But it is because of the nature of what is happening to me and my family urged me to contact you, and I quite understand that this is not the best way to contact you because of the nature of my request and the attention it requires.I got your contact information from your country's information directory during my desperate search for someone who can assist me secretly and confidentially in relocating and managing some family fortunes.\n",
      "\n",
      "My name is Mr.Michael Kamah, the second son of Mr.Smith  Kamah, of Beitbridge Zimbabwe.At the height of the present political crises in our country,in which the white farmers in our country are being slained and ripped off their belongings by the supporters of our president,Mr.Robert G.Mugabe,in their efforts to reclaim all the white owned farms in our country,my father and my elder brother were brutally slained to a painful death on the 13th of february,2002, in their struggle to protect some white farmers who ran to take refuge in our house.My father,during his life on earth was a prominent business man who trades on diamond and gold from some foreign countries .He publicly opposes the crude policies and crime against humanity on the white farmers by Mr.Robert Mugabe and his followers,which they enforced media law restrictions to protect their wicked acts.That not being enough,the president and his followers after winning the last undemocratic elections decided to block an!\n",
      "d confiscate all accounts and assets of our black indigenes[that included my fathers assets and accounts] who oppose his policies and render support to these white farmers,along with the assets of these white farmers themselves,that are being presently confiscated.I therefore decided to move my mother and younger sister to the Republic of South Africa,where we presently live without anything and without any source of livelyhood.\n",
      "\n",
      "During my fathers life on earth,he had deposited the sum of Seven Million and Four Hundred Thousand United States Dollars[$7.400.000.00],in a trunk box with a Finance and Security Company in the Republic of Togo for a cash and carry Diamond and Gold business with some foreign business customers, awaiting instructions to be moved to its destination,which he never completed before he met his untimely death on that faithful day.In view of this and as the only surviving son of my father,and with the present clamp down,killing and confiscation of his assets as one of those who render support to the white farmers in our country,I therefore humbly wish to inform you of my intentions to use your name and adress in making sure that this fund is lifted out of Africa finally,to the Europe office of the finance company and also seek for your honest and trustworthy assistance to help me clear and accommodate this money over there before it is dictated out and blocked by the present Mugab!\n",
      "e's regime.My mother is presently with the valid document covering this deposit.\n",
      "\n",
      "Now this is what I actually want you to do for me;\n",
      "\n",
      "1. I want you to be presented to the Finance and Security company as the person I contacted to assist my family for this purpose, with whose name and adress myself and my mother will forward to them their office in the Republic of Togo as the person that will clear this money when they lift it out to their europe office.\n",
      "2. To finally assist me in accommodating and managing this money in any lucrative business in your country for at least three years. \n",
      "\n",
      "Please,I hope you will grant and view this very request with favour and much understanding of our situation now,and will be a very honest and reliable person to deal with.And also bearing in mind the confidential nature of this my request,I emphasize please that you keep every bit of it to yourself so as to protect my familys future and yourself rendering this help.Thanking you in anticipation of your urgent response as soon as you read this very request.\n",
      "\n",
      "Best Regards, \n",
      "\n",
      "Mr.Michael Kamah and family. \n",
      "\n",
      "\n",
      " \n",
      "\n",
      "\n",
      "\n"
     ]
    }
   ],
   "source": [
    "# Write your answer here\n",
    "file = open('data/fradulent_emails.txt', 'r')\n",
    "contents = file.read(118395)\n",
    "\n",
    "pattern = 'From r'\n",
    "\n",
    "emails = re.split(pattern, contents) \n",
    "print (emails[30])\n"
   ]
  },
  {
   "cell_type": "markdown",
   "metadata": {},
   "source": [
    "### To extact the words containing an expression"
   ]
  },
  {
   "cell_type": "code",
   "execution_count": 19,
   "metadata": {},
   "outputs": [
    {
     "name": "stdout",
     "output_type": "stream",
     "text": [
      "['alice@google.com', 'bob@abc.com']\n"
     ]
    }
   ],
   "source": [
    "    \n",
    "str = 'purple alice@google.com, blah monkey bob@abc.com blah dishwasher'\n",
    "pattern = '[\\w\\.-]+@[\\w\\.-]+'\n",
    "\n",
    "emails = re.findall(pattern, str) \n",
    "print (emails)\n"
   ]
  },
  {
   "cell_type": "markdown",
   "metadata": {},
   "source": [
    "### Question 4 :\n",
    "Given the string 'call 1800-HELPTLA or 1800-6541234 to report a road damage', print out the phone numbers in there\n"
   ]
  },
  {
   "cell_type": "code",
   "execution_count": 15,
   "metadata": {},
   "outputs": [
    {
     "name": "stdout",
     "output_type": "stream",
     "text": [
      "['1800-HELPTLA', '1800-6541234x']\n"
     ]
    }
   ],
   "source": [
    "# Enter your answer here\n",
    "str = 'call 1800-HELPTLA or 1800-6541234xx to report a road damage'\n",
    "pattern = '1800-[\\w]{7,8}'\n",
    "\n",
    "phone = re.findall(pattern, str)\n",
    "print (phone)"
   ]
  },
  {
   "cell_type": "code",
   "execution_count": null,
   "metadata": {},
   "outputs": [],
   "source": []
  }
 ],
 "metadata": {
  "kernelspec": {
   "display_name": "Python 3",
   "language": "python",
   "name": "python3"
  },
  "language_info": {
   "codemirror_mode": {
    "name": "ipython",
    "version": 3
   },
   "file_extension": ".py",
   "mimetype": "text/x-python",
   "name": "python",
   "nbconvert_exporter": "python",
   "pygments_lexer": "ipython3",
   "version": "3.7.4"
  }
 },
 "nbformat": 4,
 "nbformat_minor": 4
}
