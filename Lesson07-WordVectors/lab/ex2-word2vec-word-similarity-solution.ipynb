{
 "cells": [
  {
   "cell_type": "markdown",
   "metadata": {},
   "source": [
    "# Word2Vec Similiarity"
   ]
  },
  {
   "cell_type": "markdown",
   "metadata": {},
   "source": [
    "\n",
    "\n",
    "##### Introduction\n",
    "\n",
    "- We will borrow Google's massive set of word vectors trained on the web ([Google Vectors]()).\n",
    "- Gensim is used toe explore the basic semantic queries that you can perform with Word2Vec"
   ]
  },
  {
   "cell_type": "code",
   "execution_count": 2,
   "metadata": {
    "ExecuteTime": {
     "end_time": "2017-07-27T21:54:14.154063Z",
     "start_time": "2017-07-27T21:54:09.408786Z"
    }
   },
   "outputs": [],
   "source": [
    "# NLP tools\n",
    "import nltk\n",
    "import gensim\n",
    "\n",
    "# Data tools\n",
    "import numpy as np\n",
    "import pandas as pd\n"
   ]
  },
  {
   "cell_type": "code",
   "execution_count": 3,
   "metadata": {
    "ExecuteTime": {
     "end_time": "2017-07-27T21:57:16.564833Z",
     "start_time": "2017-07-27T21:54:14.156571Z"
    }
   },
   "outputs": [],
   "source": [
    "# Load the Google vectors\n",
    "\n",
    "google_vec_file = \"/Users/tanpohkeam/Downloads/GoogleNews-vectors-negative300.bin.gz\"\n",
    "google_model = gensim.models.KeyedVectors.load_word2vec_format(google_vec_file, binary=True)"
   ]
  },
  {
   "cell_type": "markdown",
   "metadata": {},
   "source": [
    "Google's model contains an extensive vocabulary"
   ]
  },
  {
   "cell_type": "markdown",
   "metadata": {},
   "source": [
    "### Compare similarities between words.\n",
    "We can use the similarity() method to compare words for similarity\n",
    "- Let us compare the same pair of words. We should get a similarity score of 1.0\n",
    "- Also, let us compare an odd couple of words. We should get a similarity score of close to 0.\n",
    "\n",
    "\n"
   ]
  },
  {
   "cell_type": "code",
   "execution_count": 4,
   "metadata": {
    "scrolled": true
   },
   "outputs": [
    {
     "data": {
      "text/plain": [
       "1.0"
      ]
     },
     "execution_count": 4,
     "metadata": {},
     "output_type": "execute_result"
    }
   ],
   "source": [
    "google_model.similarity('ocean', 'ocean')"
   ]
  },
  {
   "cell_type": "code",
   "execution_count": 5,
   "metadata": {},
   "outputs": [
    {
     "data": {
      "text/plain": [
       "0.19793199"
      ]
     },
     "execution_count": 5,
     "metadata": {},
     "output_type": "execute_result"
    }
   ],
   "source": [
    "google_model.similarity('shark', 'volcano')"
   ]
  },
  {
   "cell_type": "markdown",
   "metadata": {},
   "source": [
    "### Exercise A:\n",
    "- For the following parts of words, use your human intuition to rank the level of similar between the pair of words. \n",
    "- Pair 1: (ocean and sea)\n",
    "- Pair 2: (ocean and river)\n",
    "- Pair 3: (river and salmon)\n",
    "- Pair 4: (ocean and mountain)\n",
    "- Pair 5: (frog and snail)\n",
    "\n",
    "- Then write the codes to get the similarity score. Was the result of Word2Vec consistent with human knowledge?\n",
    "\n",
    "Note: There is no known threshold for what consistuents a threshold for similarity.\n",
    "What is interesting to know is that the Word2Vec is able to learn the vector representation that results in similiarity score that is close to human judgement."
   ]
  },
  {
   "cell_type": "code",
   "execution_count": 6,
   "metadata": {},
   "outputs": [],
   "source": [
    "# your codes\n"
   ]
  },
  {
   "cell_type": "code",
   "execution_count": 7,
   "metadata": {
    "scrolled": true
   },
   "outputs": [
    {
     "name": "stdout",
     "output_type": "stream",
     "text": [
      "ocean-sea similarity score :  0.76435417\n",
      "ocean-river similarity score :  0.47718135\n",
      "river-salmon similarity score :  0.29229903\n",
      "ocean-mountain similarity score :  0.27277803\n",
      "frog-snail similarity score :  0.60943407\n"
     ]
    }
   ],
   "source": [
    "# Answer:\n",
    "    \n",
    "print('ocean-sea similarity score : ' , google_model.similarity('ocean', 'sea'))\n",
    "print('ocean-river similarity score : ' , google_model.similarity('ocean', 'river'))\n",
    "print('river-salmon similarity score : ' , google_model.similarity('river', 'salmon'))\n",
    "print('ocean-mountain similarity score : ' , google_model.similarity('ocean', 'mountain'))\n",
    "print('frog-snail similarity score : ' , google_model.similarity('frog', 'snail'))"
   ]
  },
  {
   "cell_type": "markdown",
   "metadata": {},
   "source": [
    "### Exercise B\n",
    "Let see how the pretrained model handles names of personalities (real or fake) who frequents the news\n",
    "\n",
    "- Find the similarity all pair combination between 'Lee_Kuan_Yew',Mahathir_Mohamad, Clinton , Bush, Spiderman, Superman\n"
   ]
  },
  {
   "cell_type": "code",
   "execution_count": 8,
   "metadata": {},
   "outputs": [],
   "source": [
    "# Your codes\n"
   ]
  },
  {
   "cell_type": "code",
   "execution_count": 9,
   "metadata": {},
   "outputs": [
    {
     "name": "stdout",
     "output_type": "stream",
     "text": [
      "Similarity between Lee_Kuan_Yew and Mahathir_Mohamad is 0.5671272277832031\n",
      "Similarity between Mahathir_Mohamad and Clinton is 0.11909453570842743\n",
      "Similarity between Clinton and Bush is 0.6407691240310669\n",
      "Similarity between Bush and Spiderman is 0.07075392454862595\n",
      "Similarity between Spiderman and Superman is 0.5477700233459473\n",
      "Similarity between Superman and Lee_Kuan_Yew is 0.14365069568157196\n"
     ]
    }
   ],
   "source": [
    "# Answer\n",
    "word_list  = ['Lee_Kuan_Yew', 'Mahathir_Mohamad', 'Clinton' , 'Bush', 'Spiderman', 'Superman']\n",
    "\n",
    "from itertools import compress \n",
    "pairs= list(zip(word_list, word_list[1:] + word_list[:1])) \n",
    "  \n",
    "for pair in pairs:\n",
    "    w0, w1 = pair[0], pair[1]\n",
    "    print ('Similarity between {} and {} is {}'.format(w0, w1, google_model.similarity(w0, w1) ))\n"
   ]
  },
  {
   "cell_type": "markdown",
   "metadata": {},
   "source": [
    "###  Find Similar words\n",
    "\n",
    "Word2Vec method similar_by_word() can be used to return a list of similar words.\n",
    "Let us try to find some similar words for broom"
   ]
  },
  {
   "cell_type": "code",
   "execution_count": 10,
   "metadata": {
    "scrolled": true
   },
   "outputs": [
    {
     "data": {
      "text/plain": [
       "[('brooms', 0.7050668001174927),\n",
       " ('broomstick', 0.6114087104797363),\n",
       " ('dustpan', 0.5667167901992798),\n",
       " ('fly_swatter', 0.5471037030220032),\n",
       " ('whisk_broom', 0.5430972576141357),\n",
       " ('dustpans', 0.5339849591255188),\n",
       " ('wand', 0.531521201133728),\n",
       " ('shovel', 0.5279634594917297),\n",
       " ('pitchfork', 0.524329662322998),\n",
       " ('mattock', 0.521378755569458)]"
      ]
     },
     "execution_count": 10,
     "metadata": {},
     "output_type": "execute_result"
    }
   ],
   "source": [
    "google_model.similar_by_word('broom')"
   ]
  },
  {
   "cell_type": "markdown",
   "metadata": {},
   "source": [
    "### Exercise C:\n",
    "- Suppose you are writing an article and find that you are using the word \"happy\" too often. You like to use alternative words that can replace \"happy\". State 5 words that comes to mind?\n",
    "\n",
    "- Ask Word2Vec to suggest some replacement words. Are the returned words suitable as replacement?"
   ]
  },
  {
   "cell_type": "code",
   "execution_count": 11,
   "metadata": {},
   "outputs": [],
   "source": [
    "# your code"
   ]
  },
  {
   "cell_type": "code",
   "execution_count": 12,
   "metadata": {},
   "outputs": [
    {
     "data": {
      "text/plain": [
       "[('glad', 0.7408890128135681),\n",
       " ('pleased', 0.6632171273231506),\n",
       " ('ecstatic', 0.6626912355422974),\n",
       " ('overjoyed', 0.6599286794662476),\n",
       " ('thrilled', 0.6514049768447876),\n",
       " ('satisfied', 0.6437950134277344),\n",
       " ('proud', 0.636042058467865),\n",
       " ('delighted', 0.627237856388092),\n",
       " ('disappointed', 0.6269949674606323),\n",
       " ('excited', 0.6247666478157043)]"
      ]
     },
     "execution_count": 12,
     "metadata": {},
     "output_type": "execute_result"
    }
   ],
   "source": [
    "# answer\n",
    "\n",
    "google_model.similar_by_word('happy')"
   ]
  },
  {
   "cell_type": "markdown",
   "metadata": {},
   "source": [
    "### Find similar words with some negative examples\n",
    "We can also find-tune finding similar words by providing dissimilar as  example of negative words.\n",
    "In the first example, Word2Vec returns countries in Europe.\n",
    "In the second example, Word2Vec returns countries in Asia.\n",
    "In the first example, Word2Vec does NOT return countries in Europe, but rather terms associated with the terms in the positive words."
   ]
  },
  {
   "cell_type": "code",
   "execution_count": 13,
   "metadata": {},
   "outputs": [
    {
     "data": {
      "text/plain": [
       "[('Sweden', 0.766769528388977),\n",
       " ('Switzerland', 0.7535009384155273),\n",
       " ('Denmark', 0.7359018325805664),\n",
       " ('Netherlands', 0.7167850732803345),\n",
       " ('Belgium', 0.7037012577056885),\n",
       " ('Hungary', 0.6940023899078369),\n",
       " ('Finland', 0.6854315996170044),\n",
       " ('Italy', 0.6712003946304321),\n",
       " ('Slovakia', 0.668652355670929),\n",
       " ('Croatia', 0.6683071255683899)]"
      ]
     },
     "execution_count": 13,
     "metadata": {},
     "output_type": "execute_result"
    }
   ],
   "source": [
    "#Example 1:\n",
    "google_model.most_similar(positive=['Norway', 'Spain', 'Germany', \"Austria\"])"
   ]
  },
  {
   "cell_type": "code",
   "execution_count": 14,
   "metadata": {},
   "outputs": [
    {
     "data": {
      "text/plain": [
       "[('South_Korea', 0.7823339700698853),\n",
       " ('Thailand', 0.704065203666687),\n",
       " ('Southeast_Asia', 0.69697105884552),\n",
       " ('Viet_Nam', 0.6925818920135498),\n",
       " ('China', 0.6915749311447144),\n",
       " ('Taiwan', 0.6532434225082397),\n",
       " ('Philippines', 0.6405261158943176),\n",
       " ('Malaysia', 0.6370214819908142),\n",
       " ('Cambodia', 0.6269365549087524),\n",
       " ('Asia', 0.6238887906074524)]"
      ]
     },
     "execution_count": 14,
     "metadata": {},
     "output_type": "execute_result"
    }
   ],
   "source": [
    "#Example 2:\n",
    "google_model.most_similar(positive=['Korea', 'Japan', 'Vietnam', \"Indonesia\"])"
   ]
  },
  {
   "cell_type": "code",
   "execution_count": 15,
   "metadata": {
    "scrolled": true
   },
   "outputs": [
    {
     "data": {
      "text/plain": [
       "[('Austrians', 0.5269070863723755),\n",
       " ('Austrian', 0.5137248039245605),\n",
       " ('Andrea_Rothfuss', 0.4956299066543579),\n",
       " ('Juergen', 0.49309805035591125),\n",
       " ('German', 0.49204903841018677),\n",
       " ('Andreas', 0.490742564201355),\n",
       " ('Baden_Wurttemberg', 0.4817953109741211),\n",
       " ('Müller', 0.48091602325439453),\n",
       " ('Holger', 0.4781285226345062),\n",
       " ('Switzerland', 0.4780736267566681)]"
      ]
     },
     "execution_count": 15,
     "metadata": {},
     "output_type": "execute_result"
    }
   ],
   "source": [
    "#Example 3:\n",
    "google_model.most_similar(positive=['Norway', 'Spain', 'Germany', 'Austria'], negative=['Sweden','Italy', 'England'])"
   ]
  },
  {
   "cell_type": "markdown",
   "metadata": {},
   "source": [
    "### Exercise D:\n",
    "Run the codes below. Describe the 'similar' words that were returned by Word2Vec."
   ]
  },
  {
   "cell_type": "code",
   "execution_count": 16,
   "metadata": {
    "scrolled": true
   },
   "outputs": [
    {
     "data": {
      "text/plain": [
       "[('South_Korea', 0.5299241542816162),\n",
       " ('Korean', 0.4800218939781189),\n",
       " ('CAMP_HUMPHREYS_South', 0.4583066403865814),\n",
       " ('kamikaze_pilots', 0.44935142993927),\n",
       " ('Japanese', 0.44640052318573),\n",
       " ('Vietnam_War', 0.43605631589889526),\n",
       " ('World_War_II', 0.43605202436447144),\n",
       " ('WWII', 0.4276370108127594),\n",
       " ('Seoul', 0.4271702170372009),\n",
       " ('Coldest_War', 0.4266488254070282)]"
      ]
     },
     "execution_count": 16,
     "metadata": {},
     "output_type": "execute_result"
    }
   ],
   "source": [
    "google_model.most_similar(positive=['Korea', 'Japan', 'Vietnam', \"Indonesia\"], negative = ['Thailand', 'China', 'Brunei'])\n",
    "\n",
    "# your answer"
   ]
  },
  {
   "cell_type": "markdown",
   "metadata": {},
   "source": [
    "### Exercise E:\n",
    "- Find similar words to 'Norway', 'Spain', 'Egypt, 'Norway', 'Spain', 'Egypt', 'Thailand'\n",
    "- Repeat the above, but see if you can exclude countries from Europe from been listed"
   ]
  },
  {
   "cell_type": "code",
   "execution_count": 17,
   "metadata": {},
   "outputs": [],
   "source": [
    "# your codes\n"
   ]
  },
  {
   "cell_type": "code",
   "execution_count": 18,
   "metadata": {
    "scrolled": true
   },
   "outputs": [
    {
     "data": {
      "text/plain": [
       "[('Morocco', 0.7394067049026489),\n",
       " ('Denmark', 0.6790488958358765),\n",
       " ('Sweden', 0.6737656593322754),\n",
       " ('Algeria', 0.6614785194396973),\n",
       " ('Indonesia', 0.6557962894439697)]"
      ]
     },
     "execution_count": 18,
     "metadata": {},
     "output_type": "execute_result"
    }
   ],
   "source": [
    "#answer\n",
    "\n",
    "google_model.most_similar(positive=['Norway', 'Spain', 'Egypt', 'Thailand'], topn=5)#"
   ]
  },
  {
   "cell_type": "code",
   "execution_count": 19,
   "metadata": {
    "scrolled": true
   },
   "outputs": [
    {
     "data": {
      "text/plain": [
       "[('Thai', 0.46678560972213745),\n",
       " ('Siam', 0.4549752175807953),\n",
       " ('Indonesia', 0.44277215003967285),\n",
       " ('Thais', 0.44274333119392395),\n",
       " ('Myanmar', 0.4401722848415375)]"
      ]
     },
     "execution_count": 19,
     "metadata": {},
     "output_type": "execute_result"
    }
   ],
   "source": [
    "# answer\n",
    "\n",
    "google_model.most_similar(positive=['Norway', 'Spain', 'Egypt', 'Thailand'], negative=['Germany', 'Sweden', 'France'], topn=5)"
   ]
  },
  {
   "cell_type": "markdown",
   "metadata": {},
   "source": [
    "### for lessons only ###\n"
   ]
  },
  {
   "cell_type": "code",
   "execution_count": 20,
   "metadata": {},
   "outputs": [
    {
     "data": {
      "text/plain": [
       "[('Thai', 0.7535779476165771),\n",
       " ('Cambodia', 0.7131428718566895),\n",
       " ('Bangkok', 0.7014991044998169),\n",
       " ('Thais', 0.6784130334854126),\n",
       " ('Malaysia', 0.6679352521896362),\n",
       " ('Indonesia', 0.6669518947601318),\n",
       " ('Chiang_Mai', 0.6564016938209534),\n",
       " ('Thailands', 0.6523814797401428),\n",
       " ('Southeast_Asia', 0.621160089969635),\n",
       " ('Laos', 0.6205481290817261)]"
      ]
     },
     "execution_count": 20,
     "metadata": {},
     "output_type": "execute_result"
    }
   ],
   "source": [
    "google_model.similar_by_word('Thailand')"
   ]
  },
  {
   "cell_type": "code",
   "execution_count": 23,
   "metadata": {
    "scrolled": true
   },
   "outputs": [
    {
     "data": {
      "text/plain": [
       "[('Lee_Kwan_Yew', 0.7458120584487915),\n",
       " ('Lee_Hsien_Loong', 0.6708043217658997),\n",
       " ('Goh_Chok_Tong', 0.6635027527809143),\n",
       " ('prime_minister_Lee_Kuan', 0.644353985786438),\n",
       " ('Goh_Keng_Swee', 0.6256564855575562),\n",
       " ('LKY', 0.6218506693840027),\n",
       " ('Singapore_Lee_Kuan', 0.6171931028366089),\n",
       " ('Dr_Mahathir', 0.6003636717796326),\n",
       " ('PAP_strongman', 0.5983213186264038),\n",
       " ('Jeyaretnam', 0.5875519514083862)]"
      ]
     },
     "execution_count": 23,
     "metadata": {},
     "output_type": "execute_result"
    }
   ],
   "source": [
    "google_model.similar_by_word('Lee_Kuan_Yew')"
   ]
  },
  {
   "cell_type": "code",
   "execution_count": 37,
   "metadata": {},
   "outputs": [
    {
     "data": {
      "text/plain": [
       "[('fevers', 0.6539823412895203),\n",
       " ('mania', 0.5566962957382202),\n",
       " ('feverish', 0.5537868142127991),\n",
       " ('fever_vomiting', 0.5078603625297546),\n",
       " ('sore_throat', 0.507377564907074),\n",
       " ('sore_throat_fever', 0.5043977499008179),\n",
       " ('coughing_runny_nose', 0.5000587701797485),\n",
       " ('fever_sore_throat', 0.4963510036468506),\n",
       " ('fever_aches', 0.49502936005592346),\n",
       " ('chills_sore_throat', 0.4949982166290283)]"
      ]
     },
     "execution_count": 37,
     "metadata": {},
     "output_type": "execute_result"
    }
   ],
   "source": [
    "google_model.similar_by_word('fever')"
   ]
  },
  {
   "cell_type": "code",
   "execution_count": 35,
   "metadata": {},
   "outputs": [
    {
     "data": {
      "text/plain": [
       "[('Japan', 0.31452077627182007),\n",
       " ('HAMAMATSU', 0.2824726104736328),\n",
       " ('SASEBO_NAVAL_BASE', 0.27741649746894836),\n",
       " ('JAPAN', 0.2766423225402832),\n",
       " ('captain_Makoto_Hasebe', 0.2756442725658417),\n",
       " ('Nippon_Ham', 0.27251601219177246),\n",
       " ('Naoto_Kan', 0.2715759575366974),\n",
       " ('Shunsuke_Watanabe', 0.26907438039779663),\n",
       " (\"JAPAN_'S\", 0.26834049820899963),\n",
       " ('Aomori_prefectures', 0.26726919412612915)]"
      ]
     },
     "execution_count": 35,
     "metadata": {},
     "output_type": "execute_result"
    }
   ],
   "source": [
    "A = google_model.word_vec('France')\n",
    "B = google_model.word_vec('Paris')\n",
    "C = google_model.word_vec('Japan')\n",
    "D = A - B - B - B + C\n",
    "google_model.similar_by_word(D)"
   ]
  },
  {
   "cell_type": "code",
   "execution_count": null,
   "metadata": {},
   "outputs": [],
   "source": []
  }
 ],
 "metadata": {
  "anaconda-cloud": {},
  "kernelspec": {
   "display_name": "Python 3",
   "language": "python",
   "name": "python3"
  },
  "language_info": {
   "codemirror_mode": {
    "name": "ipython",
    "version": 3
   },
   "file_extension": ".py",
   "mimetype": "text/x-python",
   "name": "python",
   "nbconvert_exporter": "python",
   "pygments_lexer": "ipython3",
   "version": "3.6.7"
  }
 },
 "nbformat": 4,
 "nbformat_minor": 1
}
