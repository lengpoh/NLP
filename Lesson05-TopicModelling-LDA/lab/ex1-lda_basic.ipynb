{
 "cells": [
  {
   "cell_type": "markdown",
   "metadata": {},
   "source": [
    "# Topic Modelling with LDA\n",
    "#### A really trivial exercise to warm up with LDA\n"
   ]
  },
  {
   "cell_type": "markdown",
   "metadata": {},
   "source": [
    "#### Modules to import"
   ]
  },
  {
   "cell_type": "code",
   "execution_count": 1,
   "metadata": {},
   "outputs": [],
   "source": [
    "import pandas as pd\n",
    "from sklearn.feature_extraction.text import CountVectorizer\n",
    "from sklearn.decomposition import LatentDirichletAllocation"
   ]
  },
  {
   "cell_type": "markdown",
   "metadata": {},
   "source": [
    "#### Data Set up\n",
    "- For simplicity , we have prepared the corpus to be a list of documents.\n",
    "- In the ideal case, you should process the input text to remove some stopwords and punctuations\n",
    "- As we are using Scikit learn, the entire corpus needs to be broken into invidividual documents (may contain more than 1 sentences).\n",
    "- Then each document is represented as a string\n",
    "- The corpus (to be vectorized) is a list of documents"
   ]
  },
  {
   "cell_type": "code",
   "execution_count": 2,
   "metadata": {},
   "outputs": [],
   "source": [
    "doc1 = \"cats eat rice\"\n",
    "doc2 = \"Daddy cat is a super agent \"\n",
    "doc3 = \"Mummy cat goes shopping for baby cat food\"\n",
    "corpus = [doc1, doc2, doc3]"
   ]
  },
  {
   "cell_type": "markdown",
   "metadata": {},
   "source": [
    "#### Let us vectorized now"
   ]
  },
  {
   "cell_type": "code",
   "execution_count": 3,
   "metadata": {},
   "outputs": [],
   "source": [
    "\n",
    "tf_vectorizer = CountVectorizer()\n",
    "doc_terms_matrix = tf_vectorizer.fit_transform(corpus)"
   ]
  },
  {
   "cell_type": "code",
   "execution_count": 4,
   "metadata": {},
   "outputs": [],
   "source": [
    "## answer: \n",
    "doc_terms_matrix = tf_vectorizer.fit_transform(corpus)"
   ]
  },
  {
   "cell_type": "markdown",
   "metadata": {},
   "source": [
    "#### To see the feature names (terms)"
   ]
  },
  {
   "cell_type": "code",
   "execution_count": 5,
   "metadata": {},
   "outputs": [
    {
     "name": "stdout",
     "output_type": "stream",
     "text": [
      "['agent', 'baby', 'cat', 'cats', 'daddy', 'eat', 'food', 'for', 'goes', 'is', 'mummy', 'rice', 'shopping', 'super']\n"
     ]
    }
   ],
   "source": [
    "\n",
    "tf_feature_names = tf_vectorizer.get_feature_names()\n",
    "print (tf_feature_names)"
   ]
  },
  {
   "cell_type": "markdown",
   "metadata": {},
   "source": [
    "#### To see the document term matrix using pandas. This is purely for analysing for now. The dtm (document term matrix in Pandas is not used)\n"
   ]
  },
  {
   "cell_type": "code",
   "execution_count": 6,
   "metadata": {},
   "outputs": [
    {
     "data": {
      "text/html": [
       "<div>\n",
       "<style scoped>\n",
       "    .dataframe tbody tr th:only-of-type {\n",
       "        vertical-align: middle;\n",
       "    }\n",
       "\n",
       "    .dataframe tbody tr th {\n",
       "        vertical-align: top;\n",
       "    }\n",
       "\n",
       "    .dataframe thead th {\n",
       "        text-align: right;\n",
       "    }\n",
       "</style>\n",
       "<table border=\"1\" class=\"dataframe\">\n",
       "  <thead>\n",
       "    <tr style=\"text-align: right;\">\n",
       "      <th></th>\n",
       "      <th>agent</th>\n",
       "      <th>baby</th>\n",
       "      <th>cat</th>\n",
       "      <th>cats</th>\n",
       "      <th>daddy</th>\n",
       "      <th>eat</th>\n",
       "      <th>food</th>\n",
       "      <th>for</th>\n",
       "      <th>goes</th>\n",
       "      <th>is</th>\n",
       "      <th>mummy</th>\n",
       "      <th>rice</th>\n",
       "      <th>shopping</th>\n",
       "      <th>super</th>\n",
       "    </tr>\n",
       "  </thead>\n",
       "  <tbody>\n",
       "    <tr>\n",
       "      <td>0</td>\n",
       "      <td>0</td>\n",
       "      <td>0</td>\n",
       "      <td>0</td>\n",
       "      <td>1</td>\n",
       "      <td>0</td>\n",
       "      <td>1</td>\n",
       "      <td>0</td>\n",
       "      <td>0</td>\n",
       "      <td>0</td>\n",
       "      <td>0</td>\n",
       "      <td>0</td>\n",
       "      <td>1</td>\n",
       "      <td>0</td>\n",
       "      <td>0</td>\n",
       "    </tr>\n",
       "    <tr>\n",
       "      <td>1</td>\n",
       "      <td>1</td>\n",
       "      <td>0</td>\n",
       "      <td>1</td>\n",
       "      <td>0</td>\n",
       "      <td>1</td>\n",
       "      <td>0</td>\n",
       "      <td>0</td>\n",
       "      <td>0</td>\n",
       "      <td>0</td>\n",
       "      <td>1</td>\n",
       "      <td>0</td>\n",
       "      <td>0</td>\n",
       "      <td>0</td>\n",
       "      <td>1</td>\n",
       "    </tr>\n",
       "    <tr>\n",
       "      <td>2</td>\n",
       "      <td>0</td>\n",
       "      <td>1</td>\n",
       "      <td>2</td>\n",
       "      <td>0</td>\n",
       "      <td>0</td>\n",
       "      <td>0</td>\n",
       "      <td>1</td>\n",
       "      <td>1</td>\n",
       "      <td>1</td>\n",
       "      <td>0</td>\n",
       "      <td>1</td>\n",
       "      <td>0</td>\n",
       "      <td>1</td>\n",
       "      <td>0</td>\n",
       "    </tr>\n",
       "  </tbody>\n",
       "</table>\n",
       "</div>"
      ],
      "text/plain": [
       "   agent  baby  cat  cats  daddy  eat  food  for  goes  is  mummy  rice  \\\n",
       "0      0     0    0     1      0    1     0    0     0   0      0     1   \n",
       "1      1     0    1     0      1    0     0    0     0   1      0     0   \n",
       "2      0     1    2     0      0    0     1    1     1   0      1     0   \n",
       "\n",
       "   shopping  super  \n",
       "0         0      0  \n",
       "1         0      1  \n",
       "2         1      0  "
      ]
     },
     "execution_count": 6,
     "metadata": {},
     "output_type": "execute_result"
    }
   ],
   "source": [
    "pd.DataFrame(doc_terms_matrix.toarray(), columns=tf_vectorizer.get_feature_names())"
   ]
  },
  {
   "cell_type": "markdown",
   "metadata": {},
   "source": [
    "\n",
    "#### Now, the real work starts.  Fit and transform the corpus (count!) into LDA model"
   ]
  },
  {
   "cell_type": "code",
   "execution_count": null,
   "metadata": {},
   "outputs": [],
   "source": [
    "\n",
    "no_topics = 6\n",
    "lda_model = LatentDirichletAllocation(n_components=??how many topics as a first guess???)\n",
    "document_topic = lda_model.fit_transform(???what do want to fit and transform??) "
   ]
  },
  {
   "cell_type": "code",
   "execution_count": 7,
   "metadata": {},
   "outputs": [],
   "source": [
    "#Answer:\n",
    "no_topics = 6\n",
    "lda_model = LatentDirichletAllocation(n_components=no_topics)\n",
    "document_topics = lda_model.fit_transform(doc_terms_matrix)"
   ]
  },
  {
   "cell_type": "markdown",
   "metadata": {},
   "source": [
    "#### Let us take a look at the document-topics"
   ]
  },
  {
   "cell_type": "code",
   "execution_count": 8,
   "metadata": {},
   "outputs": [
    {
     "name": "stdout",
     "output_type": "stream",
     "text": [
      "(3, 6)\n"
     ]
    },
    {
     "data": {
      "text/plain": [
       "array([[0.04166989, 0.04166727, 0.04166989, 0.04166754, 0.79165553,\n",
       "        0.04166989],\n",
       "       [0.02778068, 0.0278857 , 0.02778068, 0.86099338, 0.02777889,\n",
       "        0.02778068],\n",
       "       [0.01852084, 0.90736427, 0.01852084, 0.0185538 , 0.01851941,\n",
       "        0.01852084]])"
      ]
     },
     "execution_count": 8,
     "metadata": {},
     "output_type": "execute_result"
    }
   ],
   "source": [
    "print(document_topics.shape)\n",
    "document_topics"
   ]
  },
  {
   "cell_type": "code",
   "execution_count": 9,
   "metadata": {},
   "outputs": [
    {
     "data": {
      "text/plain": [
       "array([0.0879714 , 0.97691725, 0.0879714 , 0.92121472, 0.83795382,\n",
       "       0.0879714 ])"
      ]
     },
     "execution_count": 9,
     "metadata": {},
     "output_type": "execute_result"
    }
   ],
   "source": [
    "sum(document_topics)"
   ]
  },
  {
   "cell_type": "markdown",
   "metadata": {},
   "source": [
    "##### Reflection time: \n",
    "- Now, we know that the original corpus has ????? documents and ???? terms.\n",
    "- We also know that document at index 1 has a heavier weight on topic No. ?????"
   ]
  },
  {
   "cell_type": "markdown",
   "metadata": {},
   "source": [
    "#### Let us take a look at the topics-terms"
   ]
  },
  {
   "cell_type": "code",
   "execution_count": 11,
   "metadata": {},
   "outputs": [
    {
     "name": "stdout",
     "output_type": "stream",
     "text": [
      "Shape is :  (6, 14)\n"
     ]
    },
    {
     "data": {
      "text/plain": [
       "array([[0.16667015, 0.16666972, 0.16667273, 0.16667096, 0.16667015,\n",
       "        0.16667096, 0.16666972, 0.16666972, 0.16666972, 0.16667015,\n",
       "        0.16666972, 0.16667096, 0.16666972, 0.16667015],\n",
       "       [0.16666734, 1.16665551, 2.16701035, 0.16666748, 0.16666734,\n",
       "        0.16666748, 1.16665551, 1.16665551, 1.16665551, 0.16666734,\n",
       "        1.16665551, 0.16666748, 1.16665551, 0.16666734],\n",
       "       [0.16667015, 0.16666972, 0.16667273, 0.16667096, 0.16667015,\n",
       "        0.16667096, 0.16666972, 0.16666972, 0.16666972, 0.16667015,\n",
       "        0.16666972, 0.16667096, 0.16666972, 0.16667015],\n",
       "       [1.16665423, 0.1666675 , 1.16630246, 0.16666783, 1.16665423,\n",
       "        0.16666783, 0.1666675 , 0.1666675 , 0.1666675 , 1.16665423,\n",
       "        0.1666675 , 0.16666783, 0.1666675 , 1.16665423],\n",
       "       [0.166668  , 0.16666783, 0.16666899, 1.16665182, 0.166668  ,\n",
       "        1.16665182, 0.16666783, 0.16666783, 0.16666783, 0.166668  ,\n",
       "        0.16666783, 1.16665182, 0.16666783, 0.166668  ],\n",
       "       [0.16667015, 0.16666972, 0.16667273, 0.16667096, 0.16667015,\n",
       "        0.16667096, 0.16666972, 0.16666972, 0.16666972, 0.16667015,\n",
       "        0.16666972, 0.16667096, 0.16666972, 0.16667015]])"
      ]
     },
     "execution_count": 11,
     "metadata": {},
     "output_type": "execute_result"
    }
   ],
   "source": [
    "topic_terms = lda_model.components_\n",
    "print (\"Shape is : \", topic_terms.shape)\n",
    "topic_terms"
   ]
  },
  {
   "cell_type": "markdown",
   "metadata": {},
   "source": [
    "##### Reflection: Now, we know that the corpus is made up of _____ topics.\n",
    "##### Each topic is collection of ____ terms with different weights"
   ]
  },
  {
   "cell_type": "markdown",
   "metadata": {},
   "source": [
    "#### Questions:\n",
    "1. How many documents are there in the original corpus?\n",
    "2. What is the number of terms that are extracted?\n",
    "3. Does the number of rows in document_topic corresponse to the number of documents\n",
    "4. Does the number of rows in the topic_terms corresponse to the number of topics (n_component)\n",
    "5. Does the number of columns in document_topic corresponse to the number of rows in topics"
   ]
  },
  {
   "cell_type": "markdown",
   "metadata": {},
   "source": [
    "#### Exercise:\n",
    "1. Change the number of topics (e.g. set n_topics = 3) and run the notebook.\n",
    "2. Discuss how has lda_component and lda_output changes."
   ]
  },
  {
   "cell_type": "markdown",
   "metadata": {},
   "source": [
    "#### Reference:\n",
    "- www.machinelearningplus.com/nlp/topic-modeling-python-sklearn-examples/\n"
   ]
  },
  {
   "cell_type": "code",
   "execution_count": null,
   "metadata": {},
   "outputs": [],
   "source": []
  }
 ],
 "metadata": {
  "kernelspec": {
   "display_name": "Python 3",
   "language": "python",
   "name": "python3"
  },
  "language_info": {
   "codemirror_mode": {
    "name": "ipython",
    "version": 3
   },
   "file_extension": ".py",
   "mimetype": "text/x-python",
   "name": "python",
   "nbconvert_exporter": "python",
   "pygments_lexer": "ipython3",
   "version": "3.7.4"
  }
 },
 "nbformat": 4,
 "nbformat_minor": 4
}
